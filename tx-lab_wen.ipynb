{
 "cells": [
  {
   "cell_type": "markdown",
   "metadata": {},
   "source": [
    "# Cleaning Data: Intro to ETL"
   ]
  },
  {
   "cell_type": "markdown",
   "metadata": {},
   "source": [
    "### Introduction"
   ]
  },
  {
   "cell_type": "markdown",
   "metadata": {},
   "source": [
    "In this lesson, we will see how to take a lot of extra data from an API and clean this data.  A fancy term for this is extract transform and load.  Now extract just means retreiving the data, which we know how to do via an API.  So nothing new.  And load means to save the data, which we'll show at the end.  \n",
    "\n",
    "The transform part is more interesting.  In general, we transform the data because we generally get it in a weird format and we want to transform it into the format we want to make our lives easier.  We transform data in two steps: (1) Reduce the amount of data by throwing away unnecessary data.  And (2) coerce that remaining data into the correct format or datatype.  \n",
    "\n",
    "We'll walk you through this process, but we expect you to complete the review material like looping through data on your own. \n",
    "\n",
    "\n",
    "We'll do this using the Texas Open Data Portal to explore restaurant revenue data. This information is available via the Texas's Open Data API, and their information on Mixed Beverage Receipts.  Let's get started."
   ]
  },
  {
   "cell_type": "markdown",
   "metadata": {},
   "source": [
    "### 1. Extracting Our Data from an API"
   ]
  },
  {
   "cell_type": "markdown",
   "metadata": {},
   "source": [
    "Now Max's Wine Dive is a restaurant with multiple locations in Texas."
   ]
  },
  {
   "cell_type": "markdown",
   "metadata": {},
   "source": [
    "<img src='./max-maps.png' width=\"50%\">"
   ]
  },
  {
   "cell_type": "markdown",
   "metadata": {},
   "source": [
    "Let's try to see what information we can find on the Max's by using the Texas's Open Data API.  Navigating to the [Mixed Beverage Receipts](https://dev.socrata.com/foundry/data.texas.gov/naix-2893) data we see that we can search for specific restaurants using the `location_name` parameter.  Let's do that below"
   ]
  },
  {
   "cell_type": "code",
   "execution_count": 89,
   "metadata": {},
   "outputs": [],
   "source": [
    "url = \"https://data.texas.gov/resource/naix-2893.json?location_name=MAX%27S%20WINE%20DIVE\""
   ]
  },
  {
   "cell_type": "markdown",
   "metadata": {},
   "source": [
    "Use the url above to make a request to the API, and store the json results as `restaurant_receipts`."
   ]
  },
  {
   "cell_type": "code",
   "execution_count": 90,
   "metadata": {},
   "outputs": [],
   "source": [
    "import requests\n",
    "response = requests.get(url)\n",
    "restaurant_receipts = response.json()"
   ]
  },
  {
   "cell_type": "code",
   "execution_count": 91,
   "metadata": {},
   "outputs": [
    {
     "data": {
      "text/plain": [
       "61"
      ]
     },
     "execution_count": 91,
     "metadata": {},
     "output_type": "execute_result"
    }
   ],
   "source": [
    "\n",
    "len(restaurant_receipts)\n",
    "# 61"
   ]
  },
  {
   "cell_type": "markdown",
   "metadata": {},
   "source": [
    "### 2. Understanding What's Returned"
   ]
  },
  {
   "cell_type": "markdown",
   "metadata": {},
   "source": [
    "We see that we get back a list of 61 entries.  Let's see what's in these entries by taking a closer look at the first entry."
   ]
  },
  {
   "cell_type": "code",
   "execution_count": 92,
   "metadata": {},
   "outputs": [
    {
     "data": {
      "text/plain": [
       "{'taxpayer_number': '12727298569',\n",
       " 'taxpayer_name': 'MWD AUSTIN DOWNTOWN, LLC',\n",
       " 'taxpayer_address': '7026 OLD KATY RD STE 255',\n",
       " 'taxpayer_city': 'HOUSTON',\n",
       " 'taxpayer_state': 'TX',\n",
       " 'taxpayer_zip': '77024',\n",
       " 'taxpayer_county': '101',\n",
       " 'location_number': '1',\n",
       " 'location_name': \"MAX'S WINE DIVE\",\n",
       " 'location_address': '207 SAN JACINTO BLVD STE 200',\n",
       " 'location_city': 'AUSTIN',\n",
       " 'location_state': 'TX',\n",
       " 'location_zip': '78701',\n",
       " 'location_county': '227',\n",
       " 'inside_outside_city_limits_code_y_n': 'Y',\n",
       " 'tabc_permit_number': 'MB944126',\n",
       " 'responsibility_begin_date_yyyymmdd': '2016-05-13T00:00:00.000',\n",
       " 'obligation_end_date_yyyymmdd': '2016-09-30T00:00:00.000',\n",
       " 'liquor_receipts': '18265',\n",
       " 'wine_receipts': '71497',\n",
       " 'beer_receipts': '10606',\n",
       " 'cover_charge_receipts': '0',\n",
       " 'total_receipts': '100368'}"
      ]
     },
     "execution_count": 92,
     "metadata": {},
     "output_type": "execute_result"
    }
   ],
   "source": [
    "first_receipt = restaurant_receipts[0]\n",
    "first_receipt\n",
    "\n",
    "# {'beer_receipts': '10606',\n",
    "#  'cover_charge_receipts': '0',\n",
    "#  'inside_outside_city_limits_code_y_n': 'Y',\n",
    "#  'liquor_receipts': '18265',\n",
    "#  'location_address': '207 SAN JACINTO BLVD STE 200',\n",
    "#  'location_city': 'AUSTIN',\n",
    "#  'location_county': '227',\n",
    "#  'location_name': \"MAX'S WINE DIVE\",\n",
    "#  'location_number': '1',\n",
    "#  'location_state': 'TX',\n",
    "#  'location_zip': '78701',\n",
    "#  'obligation_end_date_yyyymmdd': '2016-09-30T00:00:00.000',\n",
    "#  'responsibility_begin_date_yyyymmdd': '2016-05-13T00:00:00.000',\n",
    "#  'tabc_permit_number': 'MB944126',\n",
    "#  'taxpayer_address': '7026 OLD KATY RD STE 255',\n",
    "#  'taxpayer_city': 'HOUSTON',\n",
    "#  'taxpayer_county': '101',\n",
    "#  'taxpayer_name': 'MWD AUSTIN DOWNTOWN, LLC',\n",
    "#  'taxpayer_number': '12727298569',\n",
    "#  'taxpayer_state': 'TX',\n",
    "#  'taxpayer_zip': '77024',\n",
    "#  'total_receipts': '100368',\n",
    "#  'wine_receipts': '71497'}"
   ]
  },
  {
   "cell_type": "markdown",
   "metadata": {},
   "source": [
    "Now looking at the first entry, it looks like the restaurant reports total alcohol revenue, as well as revenue for beer, wine and liquor.  It looks like from the `location_number` and `location_address` attributes that this information is for a single Max's Wine location.  And the `obligation_end_date` and `responsibility_begin_date` perhaps could be the time period.  \n",
    "\n",
    "We still have some questions though.  Are we sure we should be using `location_address` instead of `taxpayer_address`?  Are there multiple addresses in the data?  One way of getting a better sense of the data is to see the range of information that could be interesting to us.  So let's do the following.  Let's get a list of just the `location_address` and place it in the `location_addresses` list.  Then we'll find the distinct values in the list.  "
   ]
  },
  {
   "cell_type": "code",
   "execution_count": 93,
   "metadata": {
    "scrolled": true
   },
   "outputs": [
    {
     "data": {
      "text/plain": [
       "{'207 SAN JACINTO BLVD STE 200', '3600 MCKINNEY AVE STE 100'}"
      ]
     },
     "execution_count": 93,
     "metadata": {},
     "output_type": "execute_result"
    }
   ],
   "source": [
    "location_addresses = []\n",
    "for i in restaurant_receipts:\n",
    "    location_addresses.append(i['location_address'])\n",
    "    \n",
    "set(location_addresses)\n",
    "# {'207 SAN JACINTO BLVD STE 200', '3600 MCKINNEY AVE STE 100'}"
   ]
  },
  {
   "cell_type": "markdown",
   "metadata": {},
   "source": [
    "Ok, so we do see two addresses listed here.  A search on Google confirms that this matches location addresses that we have. "
   ]
  },
  {
   "cell_type": "markdown",
   "metadata": {},
   "source": [
    "### 3. Reduce Our Data (Transform)"
   ]
  },
  {
   "cell_type": "markdown",
   "metadata": {},
   "source": [
    "#### A. Reduce the number of items"
   ]
  },
  {
   "cell_type": "markdown",
   "metadata": {},
   "source": [
    "Now, as we know one of the unwieldy things about APIs is the amount of information that's returned.  So let's work on scoping the amount of information we need to work with.  The first thing we can do is to only focus in on one restaurant, the `3600 MCKINNEY AVE STE 100` address.  Select only those restaurants with the address '3600 MCKINNEY AVE STE 100' and place them in a list called `dallas_maxs`, as this location is in Dallas.  Use Python to accomplish this."
   ]
  },
  {
   "cell_type": "code",
   "execution_count": 94,
   "metadata": {},
   "outputs": [
    {
     "data": {
      "text/plain": [
       "'3600 MCKINNEY AVE STE 100'"
      ]
     },
     "execution_count": 94,
     "metadata": {},
     "output_type": "execute_result"
    }
   ],
   "source": [
    "dallas_maxs = []\n",
    "for i in restaurant_receipts:\n",
    "    if i['location_address'] == '3600 MCKINNEY AVE STE 100':\n",
    "        dallas_maxs.append(i)\n",
    "\n",
    "\n",
    "dallas_maxs[0]['location_address']\n",
    "# '3600 MCKINNEY AVE STE 100'"
   ]
  },
  {
   "cell_type": "code",
   "execution_count": 95,
   "metadata": {},
   "outputs": [
    {
     "data": {
      "text/plain": [
       "25"
      ]
     },
     "execution_count": 95,
     "metadata": {},
     "output_type": "execute_result"
    }
   ],
   "source": [
    "len(dallas_maxs)\n",
    "# 25"
   ]
  },
  {
   "cell_type": "markdown",
   "metadata": {},
   "source": [
    "#### B. Reduce the amount of data per item"
   ]
  },
  {
   "cell_type": "markdown",
   "metadata": {},
   "source": [
    "Ok, so now that we have cut the number of items in half, let's also limit the amount of information in each item.  Let's start by remembering what information contained in each dictionary.  An easy way to do so is to use the `keys` method on our dictionary."
   ]
  },
  {
   "cell_type": "code",
   "execution_count": 96,
   "metadata": {},
   "outputs": [
    {
     "data": {
      "text/plain": [
       "dict_keys(['taxpayer_number', 'taxpayer_name', 'taxpayer_address', 'taxpayer_city', 'taxpayer_state', 'taxpayer_zip', 'taxpayer_county', 'location_number', 'location_name', 'location_address', 'location_city', 'location_state', 'location_zip', 'location_county', 'inside_outside_city_limits_code_y_n', 'tabc_permit_number', 'responsibility_begin_date_yyyymmdd', 'responsibility_end_date_yyyymmdd', 'obligation_end_date_yyyymmdd', 'liquor_receipts', 'wine_receipts', 'beer_receipts', 'cover_charge_receipts', 'total_receipts'])"
      ]
     },
     "execution_count": 96,
     "metadata": {},
     "output_type": "execute_result"
    }
   ],
   "source": [
    "first_dallas_receipt = dallas_maxs[0]\n",
    "first_dallas_receipt.keys()"
   ]
  },
  {
   "cell_type": "markdown",
   "metadata": {},
   "source": [
    "Ok, so we can see that a lot of information is here.  Let's reduce our information by only including the `total_receipts`, the `responsibility_begin_date_yyyymmdd` and the `obligation_end_date_yyyymmdd`."
   ]
  },
  {
   "cell_type": "code",
   "execution_count": 97,
   "metadata": {},
   "outputs": [
    {
     "data": {
      "text/plain": [
       "[{'taxpayer_number': '32046798537',\n",
       "  'taxpayer_name': 'MWD DALLAS UPTOWN, LLC',\n",
       "  'taxpayer_address': '7026 OLD KATY RD STE 250',\n",
       "  'taxpayer_city': 'HOUSTON',\n",
       "  'taxpayer_state': 'TX',\n",
       "  'taxpayer_zip': '77024',\n",
       "  'taxpayer_county': '101',\n",
       "  'location_number': '1',\n",
       "  'location_name': \"MAX'S WINE DIVE\",\n",
       "  'location_address': '3600 MCKINNEY AVE STE 100',\n",
       "  'location_city': 'DALLAS',\n",
       "  'location_state': 'TX',\n",
       "  'location_zip': '75204',\n",
       "  'location_county': '57',\n",
       "  'inside_outside_city_limits_code_y_n': 'Y',\n",
       "  'tabc_permit_number': 'MB917035',\n",
       "  'responsibility_begin_date_yyyymmdd': '2015-08-11T00:00:00.000',\n",
       "  'responsibility_end_date_yyyymmdd': '2017-08-21T00:00:00.000',\n",
       "  'obligation_end_date_yyyymmdd': '2016-12-31T00:00:00.000',\n",
       "  'liquor_receipts': '12257',\n",
       "  'wine_receipts': '41093',\n",
       "  'beer_receipts': '2832',\n",
       "  'cover_charge_receipts': '0',\n",
       "  'total_receipts': '56182'},\n",
       " {'taxpayer_number': '32046798537',\n",
       "  'taxpayer_name': 'MWD DALLAS UPTOWN, LLC',\n",
       "  'taxpayer_address': '7026 OLD KATY RD STE 250',\n",
       "  'taxpayer_city': 'HOUSTON',\n",
       "  'taxpayer_state': 'TX',\n",
       "  'taxpayer_zip': '77024',\n",
       "  'taxpayer_county': '101',\n",
       "  'location_number': '1',\n",
       "  'location_name': \"MAX'S WINE DIVE\",\n",
       "  'location_address': '3600 MCKINNEY AVE STE 100',\n",
       "  'location_city': 'DALLAS',\n",
       "  'location_state': 'TX',\n",
       "  'location_zip': '75204',\n",
       "  'location_county': '57',\n",
       "  'inside_outside_city_limits_code_y_n': 'Y',\n",
       "  'tabc_permit_number': 'MB917035',\n",
       "  'responsibility_begin_date_yyyymmdd': '2015-08-11T00:00:00.000',\n",
       "  'responsibility_end_date_yyyymmdd': '2017-08-21T00:00:00.000',\n",
       "  'obligation_end_date_yyyymmdd': '2017-08-31T00:00:00.000',\n",
       "  'liquor_receipts': '1626',\n",
       "  'wine_receipts': '7275',\n",
       "  'beer_receipts': '499',\n",
       "  'cover_charge_receipts': '0',\n",
       "  'total_receipts': '9400'},\n",
       " {'taxpayer_number': '32046798537',\n",
       "  'taxpayer_name': 'MWD DALLAS UPTOWN, LLC',\n",
       "  'taxpayer_address': '7026 OLD KATY RD STE 250',\n",
       "  'taxpayer_city': 'HOUSTON',\n",
       "  'taxpayer_state': 'TX',\n",
       "  'taxpayer_zip': '77024',\n",
       "  'taxpayer_county': '101',\n",
       "  'location_number': '1',\n",
       "  'location_name': \"MAX'S WINE DIVE\",\n",
       "  'location_address': '3600 MCKINNEY AVE STE 100',\n",
       "  'location_city': 'DALLAS',\n",
       "  'location_state': 'TX',\n",
       "  'location_zip': '75204',\n",
       "  'location_county': '57',\n",
       "  'inside_outside_city_limits_code_y_n': 'Y',\n",
       "  'tabc_permit_number': 'MB917035',\n",
       "  'responsibility_begin_date_yyyymmdd': '2015-08-11T00:00:00.000',\n",
       "  'responsibility_end_date_yyyymmdd': '2017-08-21T00:00:00.000',\n",
       "  'obligation_end_date_yyyymmdd': '2016-06-30T00:00:00.000',\n",
       "  'liquor_receipts': '12507',\n",
       "  'wine_receipts': '35378',\n",
       "  'beer_receipts': '2689',\n",
       "  'cover_charge_receipts': '0',\n",
       "  'total_receipts': '50574'},\n",
       " {'taxpayer_number': '32046798537',\n",
       "  'taxpayer_name': 'MWD DALLAS UPTOWN, LLC',\n",
       "  'taxpayer_address': '7026 OLD KATY RD STE 250',\n",
       "  'taxpayer_city': 'HOUSTON',\n",
       "  'taxpayer_state': 'TX',\n",
       "  'taxpayer_zip': '77024',\n",
       "  'taxpayer_county': '101',\n",
       "  'location_number': '1',\n",
       "  'location_name': \"MAX'S WINE DIVE\",\n",
       "  'location_address': '3600 MCKINNEY AVE STE 100',\n",
       "  'location_city': 'DALLAS',\n",
       "  'location_state': 'TX',\n",
       "  'location_zip': '75204',\n",
       "  'location_county': '57',\n",
       "  'inside_outside_city_limits_code_y_n': 'Y',\n",
       "  'tabc_permit_number': 'MB917035',\n",
       "  'responsibility_begin_date_yyyymmdd': '2015-08-11T00:00:00.000',\n",
       "  'responsibility_end_date_yyyymmdd': '2017-08-21T00:00:00.000',\n",
       "  'obligation_end_date_yyyymmdd': '2016-08-31T00:00:00.000',\n",
       "  'liquor_receipts': '10488',\n",
       "  'wine_receipts': '37686',\n",
       "  'beer_receipts': '2131',\n",
       "  'cover_charge_receipts': '0',\n",
       "  'total_receipts': '50305'},\n",
       " {'taxpayer_number': '32046798537',\n",
       "  'taxpayer_name': 'MWD DALLAS UPTOWN, LLC',\n",
       "  'taxpayer_address': '7026 OLD KATY RD STE 250',\n",
       "  'taxpayer_city': 'HOUSTON',\n",
       "  'taxpayer_state': 'TX',\n",
       "  'taxpayer_zip': '77024',\n",
       "  'taxpayer_county': '101',\n",
       "  'location_number': '1',\n",
       "  'location_name': \"MAX'S WINE DIVE\",\n",
       "  'location_address': '3600 MCKINNEY AVE STE 100',\n",
       "  'location_city': 'DALLAS',\n",
       "  'location_state': 'TX',\n",
       "  'location_zip': '75204',\n",
       "  'location_county': '57',\n",
       "  'inside_outside_city_limits_code_y_n': 'Y',\n",
       "  'tabc_permit_number': 'MB917035',\n",
       "  'responsibility_begin_date_yyyymmdd': '2015-08-11T00:00:00.000',\n",
       "  'responsibility_end_date_yyyymmdd': '2017-08-21T00:00:00.000',\n",
       "  'obligation_end_date_yyyymmdd': '2015-09-30T00:00:00.000',\n",
       "  'liquor_receipts': '1330',\n",
       "  'wine_receipts': '60130',\n",
       "  'beer_receipts': '5149',\n",
       "  'cover_charge_receipts': '0',\n",
       "  'total_receipts': '66609'},\n",
       " {'taxpayer_number': '32046798537',\n",
       "  'taxpayer_name': 'MWD DALLAS UPTOWN, LLC',\n",
       "  'taxpayer_address': '7026 OLD KATY RD STE 250',\n",
       "  'taxpayer_city': 'HOUSTON',\n",
       "  'taxpayer_state': 'TX',\n",
       "  'taxpayer_zip': '77024',\n",
       "  'taxpayer_county': '101',\n",
       "  'location_number': '1',\n",
       "  'location_name': \"MAX'S WINE DIVE\",\n",
       "  'location_address': '3600 MCKINNEY AVE STE 100',\n",
       "  'location_city': 'DALLAS',\n",
       "  'location_state': 'TX',\n",
       "  'location_zip': '75204',\n",
       "  'location_county': '57',\n",
       "  'inside_outside_city_limits_code_y_n': 'Y',\n",
       "  'tabc_permit_number': 'MB917035',\n",
       "  'responsibility_begin_date_yyyymmdd': '2015-08-11T00:00:00.000',\n",
       "  'responsibility_end_date_yyyymmdd': '2017-08-21T00:00:00.000',\n",
       "  'obligation_end_date_yyyymmdd': '2017-06-30T00:00:00.000',\n",
       "  'liquor_receipts': '9902',\n",
       "  'wine_receipts': '27605',\n",
       "  'beer_receipts': '2028',\n",
       "  'cover_charge_receipts': '0',\n",
       "  'total_receipts': '39535'},\n",
       " {'taxpayer_number': '32046798537',\n",
       "  'taxpayer_name': 'MWD DALLAS UPTOWN, LLC',\n",
       "  'taxpayer_address': '7026 OLD KATY RD STE 250',\n",
       "  'taxpayer_city': 'HOUSTON',\n",
       "  'taxpayer_state': 'TX',\n",
       "  'taxpayer_zip': '77024',\n",
       "  'taxpayer_county': '101',\n",
       "  'location_number': '1',\n",
       "  'location_name': \"MAX'S WINE DIVE\",\n",
       "  'location_address': '3600 MCKINNEY AVE STE 100',\n",
       "  'location_city': 'DALLAS',\n",
       "  'location_state': 'TX',\n",
       "  'location_zip': '75204',\n",
       "  'location_county': '57',\n",
       "  'inside_outside_city_limits_code_y_n': 'Y',\n",
       "  'tabc_permit_number': 'MB917035',\n",
       "  'responsibility_begin_date_yyyymmdd': '2015-08-11T00:00:00.000',\n",
       "  'responsibility_end_date_yyyymmdd': '2017-08-21T00:00:00.000',\n",
       "  'obligation_end_date_yyyymmdd': '2017-02-28T00:00:00.000',\n",
       "  'liquor_receipts': '10783',\n",
       "  'wine_receipts': '30290',\n",
       "  'beer_receipts': '2021',\n",
       "  'cover_charge_receipts': '0',\n",
       "  'total_receipts': '43094'},\n",
       " {'taxpayer_number': '32046798537',\n",
       "  'taxpayer_name': 'MWD DALLAS UPTOWN, LLC',\n",
       "  'taxpayer_address': '7026 OLD KATY RD STE 250',\n",
       "  'taxpayer_city': 'HOUSTON',\n",
       "  'taxpayer_state': 'TX',\n",
       "  'taxpayer_zip': '77024',\n",
       "  'taxpayer_county': '101',\n",
       "  'location_number': '1',\n",
       "  'location_name': \"MAX'S WINE DIVE\",\n",
       "  'location_address': '3600 MCKINNEY AVE STE 100',\n",
       "  'location_city': 'DALLAS',\n",
       "  'location_state': 'TX',\n",
       "  'location_zip': '75204',\n",
       "  'location_county': '57',\n",
       "  'inside_outside_city_limits_code_y_n': 'Y',\n",
       "  'tabc_permit_number': 'MB917035',\n",
       "  'responsibility_begin_date_yyyymmdd': '2015-08-11T00:00:00.000',\n",
       "  'responsibility_end_date_yyyymmdd': '2017-08-21T00:00:00.000',\n",
       "  'obligation_end_date_yyyymmdd': '2017-05-31T00:00:00.000',\n",
       "  'liquor_receipts': '8244',\n",
       "  'wine_receipts': '25309',\n",
       "  'beer_receipts': '1350',\n",
       "  'cover_charge_receipts': '0',\n",
       "  'total_receipts': '34903'},\n",
       " {'taxpayer_number': '32046798537',\n",
       "  'taxpayer_name': 'MWD DALLAS UPTOWN, LLC',\n",
       "  'taxpayer_address': '7026 OLD KATY RD STE 250',\n",
       "  'taxpayer_city': 'HOUSTON',\n",
       "  'taxpayer_state': 'TX',\n",
       "  'taxpayer_zip': '77024',\n",
       "  'taxpayer_county': '101',\n",
       "  'location_number': '1',\n",
       "  'location_name': \"MAX'S WINE DIVE\",\n",
       "  'location_address': '3600 MCKINNEY AVE STE 100',\n",
       "  'location_city': 'DALLAS',\n",
       "  'location_state': 'TX',\n",
       "  'location_zip': '75204',\n",
       "  'location_county': '57',\n",
       "  'inside_outside_city_limits_code_y_n': 'Y',\n",
       "  'tabc_permit_number': 'MB917035',\n",
       "  'responsibility_begin_date_yyyymmdd': '2015-08-11T00:00:00.000',\n",
       "  'responsibility_end_date_yyyymmdd': '2017-08-21T00:00:00.000',\n",
       "  'obligation_end_date_yyyymmdd': '2016-11-30T00:00:00.000',\n",
       "  'liquor_receipts': '8246',\n",
       "  'wine_receipts': '31261',\n",
       "  'beer_receipts': '1547',\n",
       "  'cover_charge_receipts': '0',\n",
       "  'total_receipts': '41054'},\n",
       " {'taxpayer_number': '32046798537',\n",
       "  'taxpayer_name': 'MWD DALLAS UPTOWN, LLC',\n",
       "  'taxpayer_address': '7026 OLD KATY RD STE 250',\n",
       "  'taxpayer_city': 'HOUSTON',\n",
       "  'taxpayer_state': 'TX',\n",
       "  'taxpayer_zip': '77024',\n",
       "  'taxpayer_county': '101',\n",
       "  'location_number': '1',\n",
       "  'location_name': \"MAX'S WINE DIVE\",\n",
       "  'location_address': '3600 MCKINNEY AVE STE 100',\n",
       "  'location_city': 'DALLAS',\n",
       "  'location_state': 'TX',\n",
       "  'location_zip': '75204',\n",
       "  'location_county': '57',\n",
       "  'inside_outside_city_limits_code_y_n': 'Y',\n",
       "  'tabc_permit_number': 'MB917035',\n",
       "  'responsibility_begin_date_yyyymmdd': '2015-08-11T00:00:00.000',\n",
       "  'responsibility_end_date_yyyymmdd': '2017-08-21T00:00:00.000',\n",
       "  'obligation_end_date_yyyymmdd': '2016-07-31T00:00:00.000',\n",
       "  'liquor_receipts': '9874',\n",
       "  'wine_receipts': '39734',\n",
       "  'beer_receipts': '2099',\n",
       "  'cover_charge_receipts': '0',\n",
       "  'total_receipts': '51707'},\n",
       " {'taxpayer_number': '32046798537',\n",
       "  'taxpayer_name': 'MWD DALLAS UPTOWN, LLC',\n",
       "  'taxpayer_address': '7026 OLD KATY RD STE 250',\n",
       "  'taxpayer_city': 'HOUSTON',\n",
       "  'taxpayer_state': 'TX',\n",
       "  'taxpayer_zip': '77024',\n",
       "  'taxpayer_county': '101',\n",
       "  'location_number': '1',\n",
       "  'location_name': \"MAX'S WINE DIVE\",\n",
       "  'location_address': '3600 MCKINNEY AVE STE 100',\n",
       "  'location_city': 'DALLAS',\n",
       "  'location_state': 'TX',\n",
       "  'location_zip': '75204',\n",
       "  'location_county': '57',\n",
       "  'inside_outside_city_limits_code_y_n': 'Y',\n",
       "  'tabc_permit_number': 'MB917035',\n",
       "  'responsibility_begin_date_yyyymmdd': '2015-08-11T00:00:00.000',\n",
       "  'responsibility_end_date_yyyymmdd': '2017-08-21T00:00:00.000',\n",
       "  'obligation_end_date_yyyymmdd': '2017-07-31T00:00:00.000',\n",
       "  'liquor_receipts': '8575',\n",
       "  'wine_receipts': '28829',\n",
       "  'beer_receipts': '2223',\n",
       "  'cover_charge_receipts': '0',\n",
       "  'total_receipts': '39627'},\n",
       " {'taxpayer_number': '32046798537',\n",
       "  'taxpayer_name': 'MWD DALLAS UPTOWN, LLC',\n",
       "  'taxpayer_address': '7026 OLD KATY RD STE 250',\n",
       "  'taxpayer_city': 'HOUSTON',\n",
       "  'taxpayer_state': 'TX',\n",
       "  'taxpayer_zip': '77024',\n",
       "  'taxpayer_county': '101',\n",
       "  'location_number': '1',\n",
       "  'location_name': \"MAX'S WINE DIVE\",\n",
       "  'location_address': '3600 MCKINNEY AVE STE 100',\n",
       "  'location_city': 'DALLAS',\n",
       "  'location_state': 'TX',\n",
       "  'location_zip': '75204',\n",
       "  'location_county': '57',\n",
       "  'inside_outside_city_limits_code_y_n': 'Y',\n",
       "  'tabc_permit_number': 'MB917035',\n",
       "  'responsibility_begin_date_yyyymmdd': '2015-08-11T00:00:00.000',\n",
       "  'responsibility_end_date_yyyymmdd': '2017-08-21T00:00:00.000',\n",
       "  'obligation_end_date_yyyymmdd': '2016-05-31T00:00:00.000',\n",
       "  'liquor_receipts': '10480',\n",
       "  'wine_receipts': '35828',\n",
       "  'beer_receipts': '1931',\n",
       "  'cover_charge_receipts': '0',\n",
       "  'total_receipts': '48239'},\n",
       " {'taxpayer_number': '32046798537',\n",
       "  'taxpayer_name': 'MWD DALLAS UPTOWN, LLC',\n",
       "  'taxpayer_address': '7026 OLD KATY RD STE 250',\n",
       "  'taxpayer_city': 'HOUSTON',\n",
       "  'taxpayer_state': 'TX',\n",
       "  'taxpayer_zip': '77024',\n",
       "  'taxpayer_county': '101',\n",
       "  'location_number': '1',\n",
       "  'location_name': \"MAX'S WINE DIVE\",\n",
       "  'location_address': '3600 MCKINNEY AVE STE 100',\n",
       "  'location_city': 'DALLAS',\n",
       "  'location_state': 'TX',\n",
       "  'location_zip': '75204',\n",
       "  'location_county': '57',\n",
       "  'inside_outside_city_limits_code_y_n': 'Y',\n",
       "  'tabc_permit_number': 'MB917035',\n",
       "  'responsibility_begin_date_yyyymmdd': '2015-08-11T00:00:00.000',\n",
       "  'responsibility_end_date_yyyymmdd': '2017-08-21T00:00:00.000',\n",
       "  'obligation_end_date_yyyymmdd': '2016-09-30T00:00:00.000',\n",
       "  'liquor_receipts': '10275',\n",
       "  'wine_receipts': '33243',\n",
       "  'beer_receipts': '2072',\n",
       "  'cover_charge_receipts': '0',\n",
       "  'total_receipts': '45590'},\n",
       " {'taxpayer_number': '32046798537',\n",
       "  'taxpayer_name': 'MWD DALLAS UPTOWN, LLC',\n",
       "  'taxpayer_address': '7026 OLD KATY RD STE 250',\n",
       "  'taxpayer_city': 'HOUSTON',\n",
       "  'taxpayer_state': 'TX',\n",
       "  'taxpayer_zip': '77024',\n",
       "  'taxpayer_county': '101',\n",
       "  'location_number': '1',\n",
       "  'location_name': \"MAX'S WINE DIVE\",\n",
       "  'location_address': '3600 MCKINNEY AVE STE 100',\n",
       "  'location_city': 'DALLAS',\n",
       "  'location_state': 'TX',\n",
       "  'location_zip': '75204',\n",
       "  'location_county': '57',\n",
       "  'inside_outside_city_limits_code_y_n': 'Y',\n",
       "  'tabc_permit_number': 'MB917035',\n",
       "  'responsibility_begin_date_yyyymmdd': '2015-08-11T00:00:00.000',\n",
       "  'responsibility_end_date_yyyymmdd': '2017-08-21T00:00:00.000',\n",
       "  'obligation_end_date_yyyymmdd': '2017-01-31T00:00:00.000',\n",
       "  'liquor_receipts': '9600',\n",
       "  'wine_receipts': '38226',\n",
       "  'beer_receipts': '2139',\n",
       "  'cover_charge_receipts': '0',\n",
       "  'total_receipts': '49965'},\n",
       " {'taxpayer_number': '32046798537',\n",
       "  'taxpayer_name': 'MWD DALLAS UPTOWN, LLC',\n",
       "  'taxpayer_address': '7026 OLD KATY RD STE 250',\n",
       "  'taxpayer_city': 'HOUSTON',\n",
       "  'taxpayer_state': 'TX',\n",
       "  'taxpayer_zip': '77024',\n",
       "  'taxpayer_county': '101',\n",
       "  'location_number': '1',\n",
       "  'location_name': \"MAX'S WINE DIVE\",\n",
       "  'location_address': '3600 MCKINNEY AVE STE 100',\n",
       "  'location_city': 'DALLAS',\n",
       "  'location_state': 'TX',\n",
       "  'location_zip': '75204',\n",
       "  'location_county': '57',\n",
       "  'inside_outside_city_limits_code_y_n': 'Y',\n",
       "  'tabc_permit_number': 'MB917035',\n",
       "  'responsibility_begin_date_yyyymmdd': '2015-08-11T00:00:00.000',\n",
       "  'responsibility_end_date_yyyymmdd': '2017-08-21T00:00:00.000',\n",
       "  'obligation_end_date_yyyymmdd': '2015-08-31T00:00:00.000',\n",
       "  'liquor_receipts': '0',\n",
       "  'wine_receipts': '0',\n",
       "  'beer_receipts': '0',\n",
       "  'cover_charge_receipts': '0',\n",
       "  'total_receipts': '0'},\n",
       " {'taxpayer_number': '32046798537',\n",
       "  'taxpayer_name': 'MWD DALLAS UPTOWN, LLC',\n",
       "  'taxpayer_address': '7026 OLD KATY RD STE 250',\n",
       "  'taxpayer_city': 'HOUSTON',\n",
       "  'taxpayer_state': 'TX',\n",
       "  'taxpayer_zip': '77024',\n",
       "  'taxpayer_county': '101',\n",
       "  'location_number': '1',\n",
       "  'location_name': \"MAX'S WINE DIVE\",\n",
       "  'location_address': '3600 MCKINNEY AVE STE 100',\n",
       "  'location_city': 'DALLAS',\n",
       "  'location_state': 'TX',\n",
       "  'location_zip': '75204',\n",
       "  'location_county': '57',\n",
       "  'inside_outside_city_limits_code_y_n': 'Y',\n",
       "  'tabc_permit_number': 'MB917035',\n",
       "  'responsibility_begin_date_yyyymmdd': '2015-08-11T00:00:00.000',\n",
       "  'responsibility_end_date_yyyymmdd': '2017-08-21T00:00:00.000',\n",
       "  'obligation_end_date_yyyymmdd': '2016-04-30T00:00:00.000',\n",
       "  'liquor_receipts': '12253',\n",
       "  'wine_receipts': '36620',\n",
       "  'beer_receipts': '2557',\n",
       "  'cover_charge_receipts': '0',\n",
       "  'total_receipts': '51430'},\n",
       " {'taxpayer_number': '32046798537',\n",
       "  'taxpayer_name': 'MWD DALLAS UPTOWN, LLC',\n",
       "  'taxpayer_address': '7026 OLD KATY RD STE 250',\n",
       "  'taxpayer_city': 'HOUSTON',\n",
       "  'taxpayer_state': 'TX',\n",
       "  'taxpayer_zip': '77024',\n",
       "  'taxpayer_county': '101',\n",
       "  'location_number': '1',\n",
       "  'location_name': \"MAX'S WINE DIVE\",\n",
       "  'location_address': '3600 MCKINNEY AVE STE 100',\n",
       "  'location_city': 'DALLAS',\n",
       "  'location_state': 'TX',\n",
       "  'location_zip': '75204',\n",
       "  'location_county': '57',\n",
       "  'inside_outside_city_limits_code_y_n': 'Y',\n",
       "  'tabc_permit_number': 'MB917035',\n",
       "  'responsibility_begin_date_yyyymmdd': '2015-08-11T00:00:00.000',\n",
       "  'responsibility_end_date_yyyymmdd': '2017-08-21T00:00:00.000',\n",
       "  'obligation_end_date_yyyymmdd': '2017-03-31T00:00:00.000',\n",
       "  'liquor_receipts': '12392',\n",
       "  'wine_receipts': '30158',\n",
       "  'beer_receipts': '1864',\n",
       "  'cover_charge_receipts': '0',\n",
       "  'total_receipts': '44414'},\n",
       " {'taxpayer_number': '32046798537',\n",
       "  'taxpayer_name': 'MWD DALLAS UPTOWN, LLC',\n",
       "  'taxpayer_address': '7026 OLD KATY RD STE 250',\n",
       "  'taxpayer_city': 'HOUSTON',\n",
       "  'taxpayer_state': 'TX',\n",
       "  'taxpayer_zip': '77024',\n",
       "  'taxpayer_county': '101',\n",
       "  'location_number': '1',\n",
       "  'location_name': \"MAX'S WINE DIVE\",\n",
       "  'location_address': '3600 MCKINNEY AVE STE 100',\n",
       "  'location_city': 'DALLAS',\n",
       "  'location_state': 'TX',\n",
       "  'location_zip': '75204',\n",
       "  'location_county': '57',\n",
       "  'inside_outside_city_limits_code_y_n': 'Y',\n",
       "  'tabc_permit_number': 'MB917035',\n",
       "  'responsibility_begin_date_yyyymmdd': '2015-08-11T00:00:00.000',\n",
       "  'responsibility_end_date_yyyymmdd': '2017-08-21T00:00:00.000',\n",
       "  'obligation_end_date_yyyymmdd': '2015-11-30T00:00:00.000',\n",
       "  'liquor_receipts': '13469',\n",
       "  'wine_receipts': '53723',\n",
       "  'beer_receipts': '2472',\n",
       "  'cover_charge_receipts': '0',\n",
       "  'total_receipts': '69664'},\n",
       " {'taxpayer_number': '32046798537',\n",
       "  'taxpayer_name': 'MWD DALLAS UPTOWN, LLC',\n",
       "  'taxpayer_address': '7026 OLD KATY RD STE 250',\n",
       "  'taxpayer_city': 'HOUSTON',\n",
       "  'taxpayer_state': 'TX',\n",
       "  'taxpayer_zip': '77024',\n",
       "  'taxpayer_county': '101',\n",
       "  'location_number': '1',\n",
       "  'location_name': \"MAX'S WINE DIVE\",\n",
       "  'location_address': '3600 MCKINNEY AVE STE 100',\n",
       "  'location_city': 'DALLAS',\n",
       "  'location_state': 'TX',\n",
       "  'location_zip': '75204',\n",
       "  'location_county': '57',\n",
       "  'inside_outside_city_limits_code_y_n': 'Y',\n",
       "  'tabc_permit_number': 'MB917035',\n",
       "  'responsibility_begin_date_yyyymmdd': '2015-08-11T00:00:00.000',\n",
       "  'responsibility_end_date_yyyymmdd': '2017-08-21T00:00:00.000',\n",
       "  'obligation_end_date_yyyymmdd': '2016-01-31T00:00:00.000',\n",
       "  'liquor_receipts': '16684',\n",
       "  'wine_receipts': '64586',\n",
       "  'beer_receipts': '3451',\n",
       "  'cover_charge_receipts': '0',\n",
       "  'total_receipts': '84721'},\n",
       " {'taxpayer_number': '32046798537',\n",
       "  'taxpayer_name': 'MWD DALLAS UPTOWN, LLC',\n",
       "  'taxpayer_address': '7026 OLD KATY RD STE 250',\n",
       "  'taxpayer_city': 'HOUSTON',\n",
       "  'taxpayer_state': 'TX',\n",
       "  'taxpayer_zip': '77024',\n",
       "  'taxpayer_county': '101',\n",
       "  'location_number': '1',\n",
       "  'location_name': \"MAX'S WINE DIVE\",\n",
       "  'location_address': '3600 MCKINNEY AVE STE 100',\n",
       "  'location_city': 'DALLAS',\n",
       "  'location_state': 'TX',\n",
       "  'location_zip': '75204',\n",
       "  'location_county': '57',\n",
       "  'inside_outside_city_limits_code_y_n': 'Y',\n",
       "  'tabc_permit_number': 'MB917035',\n",
       "  'responsibility_begin_date_yyyymmdd': '2015-08-11T00:00:00.000',\n",
       "  'responsibility_end_date_yyyymmdd': '2017-08-21T00:00:00.000',\n",
       "  'obligation_end_date_yyyymmdd': '2015-12-31T00:00:00.000',\n",
       "  'liquor_receipts': '15964',\n",
       "  'wine_receipts': '52645',\n",
       "  'beer_receipts': '3629',\n",
       "  'cover_charge_receipts': '0',\n",
       "  'total_receipts': '72238'},\n",
       " {'taxpayer_number': '32046798537',\n",
       "  'taxpayer_name': 'MWD DALLAS UPTOWN, LLC',\n",
       "  'taxpayer_address': '7026 OLD KATY RD STE 250',\n",
       "  'taxpayer_city': 'HOUSTON',\n",
       "  'taxpayer_state': 'TX',\n",
       "  'taxpayer_zip': '77024',\n",
       "  'taxpayer_county': '101',\n",
       "  'location_number': '1',\n",
       "  'location_name': \"MAX'S WINE DIVE\",\n",
       "  'location_address': '3600 MCKINNEY AVE STE 100',\n",
       "  'location_city': 'DALLAS',\n",
       "  'location_state': 'TX',\n",
       "  'location_zip': '75204',\n",
       "  'location_county': '57',\n",
       "  'inside_outside_city_limits_code_y_n': 'Y',\n",
       "  'tabc_permit_number': 'MB917035',\n",
       "  'responsibility_begin_date_yyyymmdd': '2015-08-11T00:00:00.000',\n",
       "  'responsibility_end_date_yyyymmdd': '2017-08-21T00:00:00.000',\n",
       "  'obligation_end_date_yyyymmdd': '2017-04-30T00:00:00.000',\n",
       "  'liquor_receipts': '10467',\n",
       "  'wine_receipts': '29169',\n",
       "  'beer_receipts': '1757',\n",
       "  'cover_charge_receipts': '0',\n",
       "  'total_receipts': '41393'},\n",
       " {'taxpayer_number': '32046798537',\n",
       "  'taxpayer_name': 'MWD DALLAS UPTOWN, LLC',\n",
       "  'taxpayer_address': '7026 OLD KATY RD STE 250',\n",
       "  'taxpayer_city': 'HOUSTON',\n",
       "  'taxpayer_state': 'TX',\n",
       "  'taxpayer_zip': '77024',\n",
       "  'taxpayer_county': '101',\n",
       "  'location_number': '1',\n",
       "  'location_name': \"MAX'S WINE DIVE\",\n",
       "  'location_address': '3600 MCKINNEY AVE STE 100',\n",
       "  'location_city': 'DALLAS',\n",
       "  'location_state': 'TX',\n",
       "  'location_zip': '75204',\n",
       "  'location_county': '57',\n",
       "  'inside_outside_city_limits_code_y_n': 'Y',\n",
       "  'tabc_permit_number': 'MB917035',\n",
       "  'responsibility_begin_date_yyyymmdd': '2015-08-11T00:00:00.000',\n",
       "  'responsibility_end_date_yyyymmdd': '2017-08-21T00:00:00.000',\n",
       "  'obligation_end_date_yyyymmdd': '2016-02-29T00:00:00.000',\n",
       "  'liquor_receipts': '14970',\n",
       "  'wine_receipts': '51492',\n",
       "  'beer_receipts': '2762',\n",
       "  'cover_charge_receipts': '0',\n",
       "  'total_receipts': '69224'},\n",
       " {'taxpayer_number': '32046798537',\n",
       "  'taxpayer_name': 'MWD DALLAS UPTOWN, LLC',\n",
       "  'taxpayer_address': '7026 OLD KATY RD STE 250',\n",
       "  'taxpayer_city': 'HOUSTON',\n",
       "  'taxpayer_state': 'TX',\n",
       "  'taxpayer_zip': '77024',\n",
       "  'taxpayer_county': '101',\n",
       "  'location_number': '1',\n",
       "  'location_name': \"MAX'S WINE DIVE\",\n",
       "  'location_address': '3600 MCKINNEY AVE STE 100',\n",
       "  'location_city': 'DALLAS',\n",
       "  'location_state': 'TX',\n",
       "  'location_zip': '75204',\n",
       "  'location_county': '57',\n",
       "  'inside_outside_city_limits_code_y_n': 'Y',\n",
       "  'tabc_permit_number': 'MB917035',\n",
       "  'responsibility_begin_date_yyyymmdd': '2015-08-11T00:00:00.000',\n",
       "  'responsibility_end_date_yyyymmdd': '2017-08-21T00:00:00.000',\n",
       "  'obligation_end_date_yyyymmdd': '2016-10-31T00:00:00.000',\n",
       "  'liquor_receipts': '8525',\n",
       "  'wine_receipts': '32009',\n",
       "  'beer_receipts': '1646',\n",
       "  'cover_charge_receipts': '0',\n",
       "  'total_receipts': '42180'},\n",
       " {'taxpayer_number': '32046798537',\n",
       "  'taxpayer_name': 'MWD DALLAS UPTOWN, LLC',\n",
       "  'taxpayer_address': '7026 OLD KATY RD STE 250',\n",
       "  'taxpayer_city': 'HOUSTON',\n",
       "  'taxpayer_state': 'TX',\n",
       "  'taxpayer_zip': '77024',\n",
       "  'taxpayer_county': '101',\n",
       "  'location_number': '1',\n",
       "  'location_name': \"MAX'S WINE DIVE\",\n",
       "  'location_address': '3600 MCKINNEY AVE STE 100',\n",
       "  'location_city': 'DALLAS',\n",
       "  'location_state': 'TX',\n",
       "  'location_zip': '75204',\n",
       "  'location_county': '57',\n",
       "  'inside_outside_city_limits_code_y_n': 'Y',\n",
       "  'tabc_permit_number': 'MB917035',\n",
       "  'responsibility_begin_date_yyyymmdd': '2015-08-11T00:00:00.000',\n",
       "  'responsibility_end_date_yyyymmdd': '2017-08-21T00:00:00.000',\n",
       "  'obligation_end_date_yyyymmdd': '2016-03-31T00:00:00.000',\n",
       "  'liquor_receipts': '11706',\n",
       "  'wine_receipts': '44309',\n",
       "  'beer_receipts': '2682',\n",
       "  'cover_charge_receipts': '0',\n",
       "  'total_receipts': '58697'},\n",
       " {'taxpayer_number': '32046798537',\n",
       "  'taxpayer_name': 'MWD DALLAS UPTOWN, LLC',\n",
       "  'taxpayer_address': '7026 OLD KATY RD STE 250',\n",
       "  'taxpayer_city': 'HOUSTON',\n",
       "  'taxpayer_state': 'TX',\n",
       "  'taxpayer_zip': '77024',\n",
       "  'taxpayer_county': '101',\n",
       "  'location_number': '1',\n",
       "  'location_name': \"MAX'S WINE DIVE\",\n",
       "  'location_address': '3600 MCKINNEY AVE STE 100',\n",
       "  'location_city': 'DALLAS',\n",
       "  'location_state': 'TX',\n",
       "  'location_zip': '75204',\n",
       "  'location_county': '57',\n",
       "  'inside_outside_city_limits_code_y_n': 'Y',\n",
       "  'tabc_permit_number': 'MB917035',\n",
       "  'responsibility_begin_date_yyyymmdd': '2015-08-11T00:00:00.000',\n",
       "  'responsibility_end_date_yyyymmdd': '2017-08-21T00:00:00.000',\n",
       "  'obligation_end_date_yyyymmdd': '2015-10-31T00:00:00.000',\n",
       "  'liquor_receipts': '12571',\n",
       "  'wine_receipts': '51211',\n",
       "  'beer_receipts': '3266',\n",
       "  'cover_charge_receipts': '0',\n",
       "  'total_receipts': '67048'}]"
      ]
     },
     "execution_count": 97,
     "metadata": {},
     "output_type": "execute_result"
    }
   ],
   "source": [
    "dallas_maxs"
   ]
  },
  {
   "cell_type": "code",
   "execution_count": 98,
   "metadata": {},
   "outputs": [],
   "source": [
    "restaurant_revenues = dallas_maxs.copy()\n",
    "keys_to_remove = ['taxpayer_number', 'taxpayer_name', 'taxpayer_address', 'taxpayer_city', 'taxpayer_state', 'taxpayer_zip',\n",
    "                  'taxpayer_county', 'location_number', 'location_name', 'location_address', 'location_city', 'location_state',\n",
    "                  'location_zip', 'location_county', 'inside_outside_city_limits_code_y_n', 'tabc_permit_number',\n",
    "                  'responsibility_end_date_yyyymmdd', 'liquor_receipts', 'wine_receipts', 'beer_receipts',\n",
    "                  'cover_charge_receipts']\n",
    "\n",
    "for i in restaurant_revenues:\n",
    "    for j in keys_to_remove:\n",
    "        del i[j]\n",
    "        "
   ]
  },
  {
   "cell_type": "code",
   "execution_count": 99,
   "metadata": {},
   "outputs": [
    {
     "data": {
      "text/plain": [
       "25"
      ]
     },
     "execution_count": 99,
     "metadata": {},
     "output_type": "execute_result"
    }
   ],
   "source": [
    "len(restaurant_revenues)\n",
    "# 25"
   ]
  },
  {
   "cell_type": "code",
   "execution_count": 100,
   "metadata": {},
   "outputs": [
    {
     "data": {
      "text/plain": [
       "[{'responsibility_begin_date_yyyymmdd': '2015-08-11T00:00:00.000',\n",
       "  'obligation_end_date_yyyymmdd': '2016-12-31T00:00:00.000',\n",
       "  'total_receipts': '56182'},\n",
       " {'responsibility_begin_date_yyyymmdd': '2015-08-11T00:00:00.000',\n",
       "  'obligation_end_date_yyyymmdd': '2017-08-31T00:00:00.000',\n",
       "  'total_receipts': '9400'}]"
      ]
     },
     "execution_count": 100,
     "metadata": {},
     "output_type": "execute_result"
    }
   ],
   "source": [
    "restaurant_revenues[0:2]\n",
    "\n",
    "# [{'total_receipts': '56182',\n",
    "#   'begin_date': '2015-08-11T00:00:00.000',\n",
    "#   'end_date': '2016-12-31T00:00:00.000'},\n",
    "#  {'total_receipts': '9400',\n",
    "#   'begin_date': '2015-08-11T00:00:00.000',\n",
    "#   'end_date': '2017-08-31T00:00:00.000'}]"
   ]
  },
  {
   "cell_type": "markdown",
   "metadata": {},
   "source": [
    "Now looking at the first two elements we see that the end date seems to proceed monthly but that `begin_date` is always May 13 2016.  It seems like this just marks the first time that Max's needed to submit information.  We don't need to know this, so let's remove it from our list.  "
   ]
  },
  {
   "cell_type": "code",
   "execution_count": 101,
   "metadata": {},
   "outputs": [
    {
     "data": {
      "text/plain": [
       "25"
      ]
     },
     "execution_count": 101,
     "metadata": {},
     "output_type": "execute_result"
    }
   ],
   "source": [
    "revenues_by_date = restaurant_revenues.copy()\n",
    "for i in revenues_by_date:\n",
    "    del i['responsibility_begin_date_yyyymmdd']\n",
    "\n",
    "len(revenues_by_date)\n",
    "# 25"
   ]
  },
  {
   "cell_type": "code",
   "execution_count": 102,
   "metadata": {},
   "outputs": [
    {
     "data": {
      "text/plain": [
       "[{'obligation_end_date_yyyymmdd': '2016-12-31T00:00:00.000',\n",
       "  'total_receipts': '56182'},\n",
       " {'obligation_end_date_yyyymmdd': '2017-08-31T00:00:00.000',\n",
       "  'total_receipts': '9400'}]"
      ]
     },
     "execution_count": 102,
     "metadata": {},
     "output_type": "execute_result"
    }
   ],
   "source": [
    "revenues_by_date[0:2]"
   ]
  },
  {
   "cell_type": "markdown",
   "metadata": {},
   "source": [
    "### 4.  Coerce the data (Still Transform)"
   ]
  },
  {
   "cell_type": "markdown",
   "metadata": {},
   "source": [
    "Our final step will be to coerce our data to the correct format. We'd like total receipts to be an integer and we'd like the begin date to be of type `datetime`.\n",
    "\n",
    "This is a little tricky so let's do it with dictionary first object first."
   ]
  },
  {
   "cell_type": "code",
   "execution_count": 103,
   "metadata": {},
   "outputs": [
    {
     "data": {
      "text/plain": [
       "{'obligation_end_date_yyyymmdd': '2016-12-31T00:00:00.000',\n",
       " 'total_receipts': '56182'}"
      ]
     },
     "execution_count": 103,
     "metadata": {},
     "output_type": "execute_result"
    }
   ],
   "source": [
    "first_rev_by_date = revenues_by_date[0]\n",
    "first_rev_by_date"
   ]
  },
  {
   "cell_type": "markdown",
   "metadata": {},
   "source": [
    "We can go from a string to an integer by using the `int` function.  The `int` function is called a constructor because it's used to construct integers.  We can use it so long as we pass in a string that can be changed to an integer."
   ]
  },
  {
   "cell_type": "code",
   "execution_count": 104,
   "metadata": {},
   "outputs": [
    {
     "data": {
      "text/plain": [
       "33"
      ]
     },
     "execution_count": 104,
     "metadata": {},
     "output_type": "execute_result"
    }
   ],
   "source": [
    "int('33')"
   ]
  },
  {
   "cell_type": "code",
   "execution_count": 105,
   "metadata": {},
   "outputs": [
    {
     "data": {
      "text/plain": [
       "56182"
      ]
     },
     "execution_count": 105,
     "metadata": {},
     "output_type": "execute_result"
    }
   ],
   "source": [
    "int(first_rev_by_date['total_receipts'])"
   ]
  },
  {
   "cell_type": "markdown",
   "metadata": {},
   "source": [
    "Ok, now let's coerce the string into a datetime.  First we ask the great oracle Google how we can [convert a string into a datetime](https://www.google.com/search?q=datetime+from+string+python&oq=datetime+from+st&aqs=chrome.0.0j69i57j0l4.2653j0j7&sourceid=chrome&ie=UTF-8).  Then we follow the directions in the search results. [One of those results](https://chrisalbon.com/python/basics/strings_to_datetime/) says we can convert with somthing like the following."
   ]
  },
  {
   "cell_type": "code",
   "execution_count": 37,
   "metadata": {},
   "outputs": [
    {
     "data": {
      "text/plain": [
       "datetime.datetime(2011, 1, 3, 0, 0)"
      ]
     },
     "execution_count": 37,
     "metadata": {},
     "output_type": "execute_result"
    }
   ],
   "source": [
    "from datetime import datetime\n",
    "start = '2011-01-03'\n",
    "datetime.strptime(start, '%Y-%m-%d')"
   ]
  },
  {
   "cell_type": "markdown",
   "metadata": {},
   "source": [
    "That gets us part of the way, but our date information includes information about minutes or seconds.  So we can either remove that ending data, or we can do some more searching on Google.  We go for the searching on Google and wind up with the following. "
   ]
  },
  {
   "cell_type": "code",
   "execution_count": 106,
   "metadata": {},
   "outputs": [
    {
     "data": {
      "text/plain": [
       "datetime.datetime(2016, 12, 31, 0, 0)"
      ]
     },
     "execution_count": 106,
     "metadata": {},
     "output_type": "execute_result"
    }
   ],
   "source": [
    "from datetime import datetime\n",
    "end_date = first_rev_by_date['obligation_end_date_yyyymmdd']\n",
    "datetime.strptime(end_date, '%Y-%m-%dT%H:%M:%S.%f')"
   ]
  },
  {
   "cell_type": "markdown",
   "metadata": {},
   "source": [
    "Ok, now it's that we were able to accomplish this for the attributes of one dictionary, let's use a loop to coerce each dictionary in `revenues_by_date`."
   ]
  },
  {
   "cell_type": "code",
   "execution_count": 107,
   "metadata": {},
   "outputs": [
    {
     "data": {
      "text/plain": [
       "[{'total_receipts': 56182, 'end_date': '2016-12-31T00:00:00.000'},\n",
       " {'total_receipts': 9400, 'end_date': '2017-08-31T00:00:00.000'}]"
      ]
     },
     "execution_count": 107,
     "metadata": {},
     "output_type": "execute_result"
    }
   ],
   "source": [
    "from datetime import datetime\n",
    "formatted_revenues = []\n",
    "for revenue in revenues_by_date:\n",
    "    total = int(revenue['total_receipts'])\n",
    "    revenue = {\n",
    "        'total_receipts': total,\n",
    "        'end_date': revenue['obligation_end_date_yyyymmdd'],\n",
    "    }\n",
    "    formatted_revenues.append(revenue)\n",
    "formatted_revenues[0:2]"
   ]
  },
  {
   "cell_type": "markdown",
   "metadata": {},
   "source": [
    "### 5. Store our data (Load)"
   ]
  },
  {
   "cell_type": "markdown",
   "metadata": {},
   "source": [
    "Once we have our date in a good format.  Let's store that data so that we can use it in some future research.  The following code is slightly confusing, but it's also freely available on the Internet.  So let's use it to write our data to a file.   "
   ]
  },
  {
   "cell_type": "code",
   "execution_count": 108,
   "metadata": {},
   "outputs": [],
   "source": [
    "import json\n",
    "with open('maxs_revenues.json', 'w') as filehandle:  \n",
    "    json.dump(formatted_revenues, filehandle)"
   ]
  },
  {
   "cell_type": "markdown",
   "metadata": {},
   "source": [
    "We can eaily check that we stored this data correctly by attempting to read that data."
   ]
  },
  {
   "cell_type": "code",
   "execution_count": 109,
   "metadata": {},
   "outputs": [],
   "source": [
    "with open('maxs_revenues.json') as json_file:  \n",
    "    pulled_revenues = json.load(json_file)"
   ]
  },
  {
   "cell_type": "code",
   "execution_count": 110,
   "metadata": {},
   "outputs": [
    {
     "data": {
      "text/plain": [
       "25"
      ]
     },
     "execution_count": 110,
     "metadata": {},
     "output_type": "execute_result"
    }
   ],
   "source": [
    "len(pulled_revenues)"
   ]
  },
  {
   "cell_type": "code",
   "execution_count": 111,
   "metadata": {},
   "outputs": [
    {
     "data": {
      "text/plain": [
       "[{'total_receipts': 56182, 'end_date': '2016-12-31T00:00:00.000'},\n",
       " {'total_receipts': 9400, 'end_date': '2017-08-31T00:00:00.000'}]"
      ]
     },
     "execution_count": 111,
     "metadata": {},
     "output_type": "execute_result"
    }
   ],
   "source": [
    "pulled_revenues[0:2]"
   ]
  },
  {
   "cell_type": "markdown",
   "metadata": {},
   "source": [
    "Ok, looks good!"
   ]
  },
  {
   "cell_type": "markdown",
   "metadata": {},
   "source": [
    "### Summary"
   ]
  },
  {
   "cell_type": "markdown",
   "metadata": {},
   "source": [
    "Ok congrats! We've now gone through the entire process of *extracting* our data from an API, *transforming* that data into a format that we want and then *loading data* into a file.  The trickiest part here is the transforming component.\n",
    "\n",
    "After first understanding our data by looking at what we retreived from the API, then we tried to reduce this data.  First we did this by reducing the number of entries as we only wanted data from one restaurant location.  Then we reduced the information in each entry by looking at all of the information included in the dictionary with the `keys` method and then looping through our data to only select the `key` `value` pairs that we would like. Finally, we coerced our data into a datatype and format that would be easiest for us to work with later on.\n",
    "\n",
    "This process is very useful.  The reason why is because we will likely want to access our data many times.  And we don't want to have to clean that data each time we do.  Instead, let's just clean it once, and then we can access that cleaned up, easier to work with data as much as we want."
   ]
  }
 ],
 "metadata": {
  "kernelspec": {
   "display_name": "Python 3",
   "language": "python",
   "name": "python3"
  },
  "language_info": {
   "codemirror_mode": {
    "name": "ipython",
    "version": 3
   },
   "file_extension": ".py",
   "mimetype": "text/x-python",
   "name": "python",
   "nbconvert_exporter": "python",
   "pygments_lexer": "ipython3",
   "version": "3.7.1"
  }
 },
 "nbformat": 4,
 "nbformat_minor": 2
}
