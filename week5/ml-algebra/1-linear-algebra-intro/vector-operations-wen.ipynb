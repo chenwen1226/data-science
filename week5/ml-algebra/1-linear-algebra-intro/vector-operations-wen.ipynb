{
 "cells": [
  {
   "cell_type": "markdown",
   "metadata": {},
   "source": [
    "### Introduction"
   ]
  },
  {
   "cell_type": "code",
   "execution_count": 1,
   "metadata": {},
   "outputs": [],
   "source": [
    "import requests\n",
    "response = requests.get('https://data.texas.gov/resource/naix-2893.json?location_address=2411%20GLENNA%20GOODACRE%20BLVD')\n",
    "results = response.json()"
   ]
  },
  {
   "cell_type": "code",
   "execution_count": 2,
   "metadata": {},
   "outputs": [],
   "source": [
    "import pandas as pd\n",
    "results_df = pd.DataFrame(results)"
   ]
  },
  {
   "cell_type": "code",
   "execution_count": 3,
   "metadata": {},
   "outputs": [],
   "source": [
    "top_three = results_df[0:3]"
   ]
  },
  {
   "cell_type": "code",
   "execution_count": 4,
   "metadata": {},
   "outputs": [],
   "source": [
    "beer_and_liquor_df = results_df[['beer_receipts', 'liquor_receipts', 'total_receipts']].apply(pd.to_numeric)"
   ]
  },
  {
   "cell_type": "code",
   "execution_count": 5,
   "metadata": {},
   "outputs": [],
   "source": [
    "beer_receipts = beer_and_liquor_df['beer_receipts'].to_numpy()"
   ]
  },
  {
   "cell_type": "code",
   "execution_count": 6,
   "metadata": {},
   "outputs": [
    {
     "data": {
      "text/plain": [
       "array([114, 115, 158, 208, 378, 409, 153, 346, 504, 162, 187, 515, 442,\n",
       "       103, 429, 278, 158,   0,   0, 538, 297, 590, 438, 398, 115,   0,\n",
       "       129, 535, 208, 313, 407,  93, 498, 394, 308, 615, 354, 381, 175,\n",
       "       251, 160, 378, 517, 337, 460, 394, 196, 211, 323, 148, 149,  88,\n",
       "       204, 777, 508, 128, 244, 251, 266, 381, 115, 147, 165, 434, 516,\n",
       "       256, 396, 218, 315, 235, 160, 149, 187, 559, 410, 292, 650,  86,\n",
       "       530, 142, 194, 187, 205, 527, 143, 584,  92, 249, 267, 171, 472,\n",
       "       385, 643, 455, 185,  97, 367, 342, 497, 527, 310, 387], dtype=int64)"
      ]
     },
     "execution_count": 6,
     "metadata": {},
     "output_type": "execute_result"
    }
   ],
   "source": [
    "beer_receipts"
   ]
  },
  {
   "cell_type": "code",
   "execution_count": 7,
   "metadata": {},
   "outputs": [],
   "source": [
    "liquor_receipts = beer_and_liquor_df['liquor_receipts'].to_numpy()"
   ]
  },
  {
   "cell_type": "code",
   "execution_count": 8,
   "metadata": {},
   "outputs": [
    {
     "data": {
      "text/plain": [
       "array([ 76, 137, 116, 147, 631, 560, 116,  81, 261, 147, 249, 615, 787,\n",
       "        69, 682,  27,  78,   0,   0, 327, 334, 815, 409, 445,  31,   0,\n",
       "       183, 302, 204, 656, 761,  59, 937, 185, 144, 315, 480, 602, 175,\n",
       "       297, 163, 357, 935, 167, 189, 662, 241,  78, 189, 144, 114, 121,\n",
       "        95, 514, 248, 118, 178, 161, 349, 486,  76, 128, 329, 252, 319,\n",
       "       213, 488, 168, 595, 251, 139, 159, 161, 275, 319, 334, 340, 133,\n",
       "       288,  75,  76, 172, 380, 252, 111, 342, 151, 280, 166, 149, 167,\n",
       "       482, 302, 185, 185,  78, 383, 531, 180, 234, 144, 149], dtype=int64)"
      ]
     },
     "execution_count": 8,
     "metadata": {},
     "output_type": "execute_result"
    }
   ],
   "source": [
    "liquor_receipts"
   ]
  },
  {
   "cell_type": "markdown",
   "metadata": {},
   "source": [
    "### Working with Vectors in Numpy"
   ]
  },
  {
   "cell_type": "markdown",
   "metadata": {},
   "source": [
    "Let's assume that chipotle earns $.20$ in marginal profit for every dollar of liquor sold, and $.10$ of marginal profit for every dollar of beer sold."
   ]
  },
  {
   "cell_type": "markdown",
   "metadata": {},
   "source": [
    "Calculate the marginal profit for liquor for each month."
   ]
  },
  {
   "cell_type": "code",
   "execution_count": 11,
   "metadata": {},
   "outputs": [
    {
     "data": {
      "text/plain": [
       "array([ 15.2,  27.4,  23.2,  29.4, 126.2])"
      ]
     },
     "execution_count": 11,
     "metadata": {},
     "output_type": "execute_result"
    }
   ],
   "source": [
    "marginal_liquor = .2 * liquor_receipts\n",
    "marginal_liquor[0:5]\n",
    "# array([ 15.2,  27.4,  23.2,  29.4, 126.2])"
   ]
  },
  {
   "cell_type": "code",
   "execution_count": 12,
   "metadata": {},
   "outputs": [
    {
     "data": {
      "text/plain": [
       "array([11.4, 11.5, 15.8, 20.8, 37.8])"
      ]
     },
     "execution_count": 12,
     "metadata": {},
     "output_type": "execute_result"
    }
   ],
   "source": [
    "marginal_beer = .1 * beer_receipts\n",
    "marginal_beer[0:5]\n",
    "# array([11.4, 11.5, 15.8, 20.8, 37.8])"
   ]
  },
  {
   "cell_type": "markdown",
   "metadata": {},
   "source": [
    "Now calculate the total marginal profit on all alcohol sales -- assume that beer and alcohol receipts are the only source of alcohol revenue."
   ]
  },
  {
   "cell_type": "code",
   "execution_count": 13,
   "metadata": {},
   "outputs": [
    {
     "data": {
      "text/plain": [
       "array([ 26.6,  38.9,  39. ,  50.2, 164. , 152.9,  38.5,  50.8, 102.6,\n",
       "        45.6,  68.5, 174.5, 201.6,  24.1, 179.3,  33.2,  31.4,   0. ,\n",
       "         0. , 119.2,  96.5, 222. , 125.6, 128.8,  17.7,   0. ,  49.5,\n",
       "       113.9,  61.6, 162.5, 192.9,  21.1, 237.2,  76.4,  59.6, 124.5,\n",
       "       131.4, 158.5,  52.5,  84.5,  48.6, 109.2, 238.7,  67.1,  83.8,\n",
       "       171.8,  67.8,  36.7,  70.1,  43.6,  37.7,  33. ,  39.4, 180.5,\n",
       "       100.4,  36.4,  60. ,  57.3,  96.4, 135.3,  26.7,  40.3,  82.3,\n",
       "        93.8, 115.4,  68.2, 137.2,  55.4, 150.5,  73.7,  43.8,  46.7,\n",
       "        50.9, 110.9, 104.8,  96. , 133. ,  35.2, 110.6,  29.2,  34.6,\n",
       "        53.1,  96.5, 103.1,  36.5, 126.8,  39.4,  80.9,  59.9,  46.9,\n",
       "        80.6, 134.9, 124.7,  82.5,  55.5,  25.3, 113.3, 140.4,  85.7,\n",
       "        99.5,  59.8,  68.5])"
      ]
     },
     "execution_count": 13,
     "metadata": {},
     "output_type": "execute_result"
    }
   ],
   "source": [
    "total_margins = marginal_liquor + marginal_beer\n",
    "total_margins\n",
    "# Please check your own work for this one"
   ]
  },
  {
   "cell_type": "markdown",
   "metadata": {},
   "source": [
    "Calculate the percentage of revenue that goes towards marginal profits each month."
   ]
  },
  {
   "cell_type": "code",
   "execution_count": 17,
   "metadata": {},
   "outputs": [
    {
     "data": {
      "text/plain": [
       "array([0.14      , 0.15436508, 0.14233577])"
      ]
     },
     "execution_count": 17,
     "metadata": {},
     "output_type": "execute_result"
    }
   ],
   "source": [
    "margin_percentage = (total_margins / beer_and_liquor_df['total_receipts']).to_numpy()\n",
    "margin_percentage[0:3]\n",
    "\n",
    "# array([0.14      , 0.15436508, 0.14233577])"
   ]
  },
  {
   "cell_type": "markdown",
   "metadata": {},
   "source": [
    "If we look at the array, there are three nan entries."
   ]
  },
  {
   "cell_type": "code",
   "execution_count": 18,
   "metadata": {},
   "outputs": [
    {
     "data": {
      "text/plain": [
       "array([[17],\n",
       "       [18],\n",
       "       [25]], dtype=int64)"
      ]
     },
     "execution_count": 18,
     "metadata": {},
     "output_type": "execute_result"
    }
   ],
   "source": [
    "import numpy as np\n",
    "np.argwhere(np.isnan(margin_percentage))\n",
    "\n",
    "# array([[17],\n",
    "#        [18],\n",
    "#        [25]])"
   ]
  },
  {
   "cell_type": "markdown",
   "metadata": {},
   "source": [
    "Why do you think that is?  Show your reasoning in code."
   ]
  },
  {
   "cell_type": "code",
   "execution_count": 19,
   "metadata": {},
   "outputs": [
    {
     "data": {
      "text/plain": [
       "array([0.14      , 0.15436508, 0.14233577, 0.14140845, 0.16253717,\n",
       "       0.15779154, 0.14312268, 0.11896956, 0.13411765, 0.14757282,\n",
       "       0.15711009, 0.15442478, 0.1640358 , 0.14011628, 0.16138614,\n",
       "       0.10885246, 0.13305085,        nan,        nan, 0.13780347,\n",
       "       0.15293185, 0.15800712, 0.14828808, 0.15278766, 0.12123288,\n",
       "              nan, 0.15865385, 0.13608124, 0.14951456, 0.16769866,\n",
       "       0.16515411, 0.13881579, 0.16529617, 0.13195164, 0.13185841,\n",
       "       0.13387097, 0.15755396, 0.1612411 , 0.15      , 0.15419708,\n",
       "       0.1504644 , 0.14857143, 0.16439394, 0.13313492, 0.12912173,\n",
       "       0.16268939, 0.15514874, 0.12698962, 0.13691406, 0.14931507,\n",
       "       0.14334601, 0.15789474, 0.13177258, 0.1398141 , 0.13280423,\n",
       "       0.14796748, 0.14218009, 0.13907767, 0.15674797, 0.15605536,\n",
       "       0.13979058, 0.14654545, 0.16659919, 0.13673469, 0.13820359,\n",
       "       0.14541578, 0.15520362, 0.14352332, 0.16538462, 0.15164609,\n",
       "       0.14648829, 0.15162338, 0.14626437, 0.13297362, 0.14375857,\n",
       "       0.15335463, 0.13434343, 0.16073059, 0.13520782, 0.13456221,\n",
       "       0.12814815, 0.14791086, 0.16495726, 0.13234917, 0.14370079,\n",
       "       0.13693305, 0.16213992, 0.15293006, 0.13833718, 0.1465625 ,\n",
       "       0.12613459, 0.155594  , 0.13195767, 0.12890625, 0.15      ,\n",
       "       0.14457143, 0.15106667, 0.16082474, 0.12658789, 0.13074901,\n",
       "       0.13171806, 0.12779851])"
      ]
     },
     "execution_count": 19,
     "metadata": {},
     "output_type": "execute_result"
    }
   ],
   "source": [
    "margin_percentage"
   ]
  },
  {
   "cell_type": "code",
   "execution_count": 20,
   "metadata": {},
   "outputs": [
    {
     "data": {
      "text/plain": [
       "array([ 26.6,  38.9,  39. ,  50.2, 164. , 152.9,  38.5,  50.8, 102.6,\n",
       "        45.6,  68.5, 174.5, 201.6,  24.1, 179.3,  33.2,  31.4,   0. ,\n",
       "         0. , 119.2,  96.5, 222. , 125.6, 128.8,  17.7,   0. ,  49.5,\n",
       "       113.9,  61.6, 162.5, 192.9,  21.1, 237.2,  76.4,  59.6, 124.5,\n",
       "       131.4, 158.5,  52.5,  84.5,  48.6, 109.2, 238.7,  67.1,  83.8,\n",
       "       171.8,  67.8,  36.7,  70.1,  43.6,  37.7,  33. ,  39.4, 180.5,\n",
       "       100.4,  36.4,  60. ,  57.3,  96.4, 135.3,  26.7,  40.3,  82.3,\n",
       "        93.8, 115.4,  68.2, 137.2,  55.4, 150.5,  73.7,  43.8,  46.7,\n",
       "        50.9, 110.9, 104.8,  96. , 133. ,  35.2, 110.6,  29.2,  34.6,\n",
       "        53.1,  96.5, 103.1,  36.5, 126.8,  39.4,  80.9,  59.9,  46.9,\n",
       "        80.6, 134.9, 124.7,  82.5,  55.5,  25.3, 113.3, 140.4,  85.7,\n",
       "        99.5,  59.8,  68.5])"
      ]
     },
     "execution_count": 20,
     "metadata": {},
     "output_type": "execute_result"
    }
   ],
   "source": [
    "total_margins"
   ]
  },
  {
   "cell_type": "code",
   "execution_count": null,
   "metadata": {},
   "outputs": [],
   "source": [
    "# we can see in total_margins list, the corresponding places where nan are, are zero values."
   ]
  },
  {
   "cell_type": "markdown",
   "metadata": {},
   "source": [
    "### Summary"
   ]
  },
  {
   "cell_type": "markdown",
   "metadata": {},
   "source": [
    "Great job!  In this lesson we practiced adding and multiplying vectors in numpy."
   ]
  }
 ],
 "metadata": {
  "kernelspec": {
   "display_name": "Python 3",
   "language": "python",
   "name": "python3"
  },
  "language_info": {
   "codemirror_mode": {
    "name": "ipython",
    "version": 3
   },
   "file_extension": ".py",
   "mimetype": "text/x-python",
   "name": "python",
   "nbconvert_exporter": "python",
   "pygments_lexer": "ipython3",
   "version": "3.7.3"
  }
 },
 "nbformat": 4,
 "nbformat_minor": 2
}
