{
 "cells": [
  {
   "cell_type": "markdown",
   "metadata": {},
   "source": [
    "# Missing Values"
   ]
  },
  {
   "cell_type": "code",
   "execution_count": 3,
   "metadata": {},
   "outputs": [
    {
     "name": "stderr",
     "output_type": "stream",
     "text": [
      "C:\\Users\\51759\\Anaconda3\\lib\\site-packages\\IPython\\core\\interactiveshell.py:3049: DtypeWarning: Columns (13,16,18,22,24,32,33,40,41,47,51) have mixed types. Specify dtype option on import or set low_memory=False.\n",
      "  interactivity=interactivity, compiler=compiler, result=result)\n"
     ]
    }
   ],
   "source": [
    "import pandas as pd\n",
    "df = pd.read_csv('womenshoes.zip')"
   ]
  },
  {
   "cell_type": "code",
   "execution_count": 4,
   "metadata": {},
   "outputs": [],
   "source": [
    "pd.set_option('display.max_rows',100)"
   ]
  },
  {
   "cell_type": "code",
   "execution_count": 6,
   "metadata": {},
   "outputs": [],
   "source": [
    "def nas_sorted(df):\n",
    "    return df.isnull().sum().sort_values(ascending = False)"
   ]
  },
  {
   "cell_type": "code",
   "execution_count": 7,
   "metadata": {},
   "outputs": [],
   "source": [
    "sorted_nas = nas_sorted(df)"
   ]
  },
  {
   "cell_type": "code",
   "execution_count": 8,
   "metadata": {},
   "outputs": [],
   "source": [
    "df.dropna(axis='columns', how='all', inplace=True)"
   ]
  },
  {
   "cell_type": "code",
   "execution_count": 9,
   "metadata": {},
   "outputs": [
    {
     "data": {
      "text/html": [
       "<div>\n",
       "<style scoped>\n",
       "    .dataframe tbody tr th:only-of-type {\n",
       "        vertical-align: middle;\n",
       "    }\n",
       "\n",
       "    .dataframe tbody tr th {\n",
       "        vertical-align: top;\n",
       "    }\n",
       "\n",
       "    .dataframe thead th {\n",
       "        text-align: right;\n",
       "    }\n",
       "</style>\n",
       "<table border=\"1\" class=\"dataframe\">\n",
       "  <thead>\n",
       "    <tr style=\"text-align: right;\">\n",
       "      <th></th>\n",
       "      <th>id</th>\n",
       "      <th>asins</th>\n",
       "      <th>brand</th>\n",
       "      <th>categories</th>\n",
       "      <th>colors</th>\n",
       "      <th>dateAdded</th>\n",
       "      <th>dateUpdated</th>\n",
       "      <th>descriptions</th>\n",
       "      <th>dimension</th>\n",
       "      <th>ean</th>\n",
       "      <th>...</th>\n",
       "      <th>prices.size</th>\n",
       "      <th>prices.sourceURLs</th>\n",
       "      <th>quantities</th>\n",
       "      <th>reviews</th>\n",
       "      <th>sizes</th>\n",
       "      <th>skus</th>\n",
       "      <th>sourceURLs</th>\n",
       "      <th>upc</th>\n",
       "      <th>weight</th>\n",
       "      <th>Unnamed: 51</th>\n",
       "    </tr>\n",
       "  </thead>\n",
       "  <tbody>\n",
       "    <tr>\n",
       "      <th>0</th>\n",
       "      <td>AVpe__eOilAPnD_xSt-H</td>\n",
       "      <td>NaN</td>\n",
       "      <td>Novica</td>\n",
       "      <td>Access.,Clothing,Shoes,Women's Clothing</td>\n",
       "      <td>Purple</td>\n",
       "      <td>2017-02-03T22:06:24Z</td>\n",
       "      <td>2017-03-28T11:53:51Z</td>\n",
       "      <td>[{\"dateSeen\":[\"2017-03-26T05:04:46.539Z\",\"2017...</td>\n",
       "      <td>NaN</td>\n",
       "      <td>NaN</td>\n",
       "      <td>...</td>\n",
       "      <td>L</td>\n",
       "      <td>https://www.overstock.com/Worldstock-Fair-Trad...</td>\n",
       "      <td>[{\"dateSeen\":[\"2017-03-26T05:04:46.539Z\",\"2017...</td>\n",
       "      <td>[{\"date\":\"2017-01-10T00:00:00.000Z\",\"dateAdded...</td>\n",
       "      <td>NaN</td>\n",
       "      <td>[{\"sourceURLs\":[\"https://www.overstock.com/Wor...</td>\n",
       "      <td>https://www.overstock.com/Worldstock-Fair-Trad...</td>\n",
       "      <td>NaN</td>\n",
       "      <td>NaN</td>\n",
       "      <td>NaN</td>\n",
       "    </tr>\n",
       "    <tr>\n",
       "      <th>1</th>\n",
       "      <td>AVpe__eOilAPnD_xSt-H</td>\n",
       "      <td>NaN</td>\n",
       "      <td>Novica</td>\n",
       "      <td>Access.,Clothing,Shoes,Women's Clothing</td>\n",
       "      <td>Purple</td>\n",
       "      <td>2017-02-03T22:06:24Z</td>\n",
       "      <td>2017-03-28T11:53:51Z</td>\n",
       "      <td>[{\"dateSeen\":[\"2017-03-26T05:04:46.539Z\",\"2017...</td>\n",
       "      <td>NaN</td>\n",
       "      <td>NaN</td>\n",
       "      <td>...</td>\n",
       "      <td>M</td>\n",
       "      <td>https://www.overstock.com/Worldstock-Fair-Trad...</td>\n",
       "      <td>[{\"dateSeen\":[\"2017-03-26T05:04:46.539Z\",\"2017...</td>\n",
       "      <td>[{\"date\":\"2017-01-10T00:00:00.000Z\",\"dateAdded...</td>\n",
       "      <td>NaN</td>\n",
       "      <td>[{\"sourceURLs\":[\"https://www.overstock.com/Wor...</td>\n",
       "      <td>https://www.overstock.com/Worldstock-Fair-Trad...</td>\n",
       "      <td>NaN</td>\n",
       "      <td>NaN</td>\n",
       "      <td>NaN</td>\n",
       "    </tr>\n",
       "    <tr>\n",
       "      <th>2</th>\n",
       "      <td>AVpe__eOilAPnD_xSt-H</td>\n",
       "      <td>NaN</td>\n",
       "      <td>Novica</td>\n",
       "      <td>Access.,Clothing,Shoes,Women's Clothing</td>\n",
       "      <td>Purple</td>\n",
       "      <td>2017-02-03T22:06:24Z</td>\n",
       "      <td>2017-03-28T11:53:51Z</td>\n",
       "      <td>[{\"dateSeen\":[\"2017-03-26T05:04:46.539Z\",\"2017...</td>\n",
       "      <td>NaN</td>\n",
       "      <td>NaN</td>\n",
       "      <td>...</td>\n",
       "      <td>S</td>\n",
       "      <td>https://www.overstock.com/Worldstock-Fair-Trad...</td>\n",
       "      <td>[{\"dateSeen\":[\"2017-03-26T05:04:46.539Z\",\"2017...</td>\n",
       "      <td>[{\"date\":\"2017-01-10T00:00:00.000Z\",\"dateAdded...</td>\n",
       "      <td>NaN</td>\n",
       "      <td>[{\"sourceURLs\":[\"https://www.overstock.com/Wor...</td>\n",
       "      <td>https://www.overstock.com/Worldstock-Fair-Trad...</td>\n",
       "      <td>NaN</td>\n",
       "      <td>NaN</td>\n",
       "      <td>NaN</td>\n",
       "    </tr>\n",
       "    <tr>\n",
       "      <th>3</th>\n",
       "      <td>AVpe__eOilAPnD_xSt-H</td>\n",
       "      <td>NaN</td>\n",
       "      <td>Novica</td>\n",
       "      <td>Access.,Clothing,Shoes,Women's Clothing</td>\n",
       "      <td>Purple</td>\n",
       "      <td>2017-02-03T22:06:24Z</td>\n",
       "      <td>2017-03-28T11:53:51Z</td>\n",
       "      <td>[{\"dateSeen\":[\"2017-03-26T05:04:46.539Z\",\"2017...</td>\n",
       "      <td>NaN</td>\n",
       "      <td>NaN</td>\n",
       "      <td>...</td>\n",
       "      <td>XL</td>\n",
       "      <td>https://www.overstock.com/Worldstock-Fair-Trad...</td>\n",
       "      <td>[{\"dateSeen\":[\"2017-03-26T05:04:46.539Z\",\"2017...</td>\n",
       "      <td>[{\"date\":\"2017-01-10T00:00:00.000Z\",\"dateAdded...</td>\n",
       "      <td>NaN</td>\n",
       "      <td>[{\"sourceURLs\":[\"https://www.overstock.com/Wor...</td>\n",
       "      <td>https://www.overstock.com/Worldstock-Fair-Trad...</td>\n",
       "      <td>NaN</td>\n",
       "      <td>NaN</td>\n",
       "      <td>NaN</td>\n",
       "    </tr>\n",
       "    <tr>\n",
       "      <th>4</th>\n",
       "      <td>AVpe__eOilAPnD_xSt-H</td>\n",
       "      <td>NaN</td>\n",
       "      <td>Novica</td>\n",
       "      <td>Access.,Clothing,Shoes,Women's Clothing</td>\n",
       "      <td>Purple</td>\n",
       "      <td>2017-02-03T22:06:24Z</td>\n",
       "      <td>2017-03-28T11:53:51Z</td>\n",
       "      <td>[{\"dateSeen\":[\"2017-03-26T05:04:46.539Z\",\"2017...</td>\n",
       "      <td>NaN</td>\n",
       "      <td>NaN</td>\n",
       "      <td>...</td>\n",
       "      <td>XL</td>\n",
       "      <td>https://www.overstock.com/Worldstock-Fair-Trad...</td>\n",
       "      <td>[{\"dateSeen\":[\"2017-03-26T05:04:46.539Z\",\"2017...</td>\n",
       "      <td>[{\"date\":\"2017-01-10T00:00:00.000Z\",\"dateAdded...</td>\n",
       "      <td>NaN</td>\n",
       "      <td>[{\"sourceURLs\":[\"https://www.overstock.com/Wor...</td>\n",
       "      <td>https://www.overstock.com/Worldstock-Fair-Trad...</td>\n",
       "      <td>NaN</td>\n",
       "      <td>NaN</td>\n",
       "      <td>NaN</td>\n",
       "    </tr>\n",
       "  </tbody>\n",
       "</table>\n",
       "<p>5 rows × 40 columns</p>\n",
       "</div>"
      ],
      "text/plain": [
       "                     id asins   brand  \\\n",
       "0  AVpe__eOilAPnD_xSt-H   NaN  Novica   \n",
       "1  AVpe__eOilAPnD_xSt-H   NaN  Novica   \n",
       "2  AVpe__eOilAPnD_xSt-H   NaN  Novica   \n",
       "3  AVpe__eOilAPnD_xSt-H   NaN  Novica   \n",
       "4  AVpe__eOilAPnD_xSt-H   NaN  Novica   \n",
       "\n",
       "                                categories  colors             dateAdded  \\\n",
       "0  Access.,Clothing,Shoes,Women's Clothing  Purple  2017-02-03T22:06:24Z   \n",
       "1  Access.,Clothing,Shoes,Women's Clothing  Purple  2017-02-03T22:06:24Z   \n",
       "2  Access.,Clothing,Shoes,Women's Clothing  Purple  2017-02-03T22:06:24Z   \n",
       "3  Access.,Clothing,Shoes,Women's Clothing  Purple  2017-02-03T22:06:24Z   \n",
       "4  Access.,Clothing,Shoes,Women's Clothing  Purple  2017-02-03T22:06:24Z   \n",
       "\n",
       "            dateUpdated                                       descriptions  \\\n",
       "0  2017-03-28T11:53:51Z  [{\"dateSeen\":[\"2017-03-26T05:04:46.539Z\",\"2017...   \n",
       "1  2017-03-28T11:53:51Z  [{\"dateSeen\":[\"2017-03-26T05:04:46.539Z\",\"2017...   \n",
       "2  2017-03-28T11:53:51Z  [{\"dateSeen\":[\"2017-03-26T05:04:46.539Z\",\"2017...   \n",
       "3  2017-03-28T11:53:51Z  [{\"dateSeen\":[\"2017-03-26T05:04:46.539Z\",\"2017...   \n",
       "4  2017-03-28T11:53:51Z  [{\"dateSeen\":[\"2017-03-26T05:04:46.539Z\",\"2017...   \n",
       "\n",
       "  dimension  ean  ... prices.size  \\\n",
       "0       NaN  NaN  ...           L   \n",
       "1       NaN  NaN  ...           M   \n",
       "2       NaN  NaN  ...           S   \n",
       "3       NaN  NaN  ...          XL   \n",
       "4       NaN  NaN  ...          XL   \n",
       "\n",
       "                                   prices.sourceURLs  \\\n",
       "0  https://www.overstock.com/Worldstock-Fair-Trad...   \n",
       "1  https://www.overstock.com/Worldstock-Fair-Trad...   \n",
       "2  https://www.overstock.com/Worldstock-Fair-Trad...   \n",
       "3  https://www.overstock.com/Worldstock-Fair-Trad...   \n",
       "4  https://www.overstock.com/Worldstock-Fair-Trad...   \n",
       "\n",
       "                                          quantities  \\\n",
       "0  [{\"dateSeen\":[\"2017-03-26T05:04:46.539Z\",\"2017...   \n",
       "1  [{\"dateSeen\":[\"2017-03-26T05:04:46.539Z\",\"2017...   \n",
       "2  [{\"dateSeen\":[\"2017-03-26T05:04:46.539Z\",\"2017...   \n",
       "3  [{\"dateSeen\":[\"2017-03-26T05:04:46.539Z\",\"2017...   \n",
       "4  [{\"dateSeen\":[\"2017-03-26T05:04:46.539Z\",\"2017...   \n",
       "\n",
       "                                             reviews sizes  \\\n",
       "0  [{\"date\":\"2017-01-10T00:00:00.000Z\",\"dateAdded...   NaN   \n",
       "1  [{\"date\":\"2017-01-10T00:00:00.000Z\",\"dateAdded...   NaN   \n",
       "2  [{\"date\":\"2017-01-10T00:00:00.000Z\",\"dateAdded...   NaN   \n",
       "3  [{\"date\":\"2017-01-10T00:00:00.000Z\",\"dateAdded...   NaN   \n",
       "4  [{\"date\":\"2017-01-10T00:00:00.000Z\",\"dateAdded...   NaN   \n",
       "\n",
       "                                                skus  \\\n",
       "0  [{\"sourceURLs\":[\"https://www.overstock.com/Wor...   \n",
       "1  [{\"sourceURLs\":[\"https://www.overstock.com/Wor...   \n",
       "2  [{\"sourceURLs\":[\"https://www.overstock.com/Wor...   \n",
       "3  [{\"sourceURLs\":[\"https://www.overstock.com/Wor...   \n",
       "4  [{\"sourceURLs\":[\"https://www.overstock.com/Wor...   \n",
       "\n",
       "                                          sourceURLs  upc  weight Unnamed: 51  \n",
       "0  https://www.overstock.com/Worldstock-Fair-Trad...  NaN     NaN         NaN  \n",
       "1  https://www.overstock.com/Worldstock-Fair-Trad...  NaN     NaN         NaN  \n",
       "2  https://www.overstock.com/Worldstock-Fair-Trad...  NaN     NaN         NaN  \n",
       "3  https://www.overstock.com/Worldstock-Fair-Trad...  NaN     NaN         NaN  \n",
       "4  https://www.overstock.com/Worldstock-Fair-Trad...  NaN     NaN         NaN  \n",
       "\n",
       "[5 rows x 40 columns]"
      ]
     },
     "execution_count": 9,
     "metadata": {},
     "output_type": "execute_result"
    }
   ],
   "source": [
    "df[:5]"
   ]
  },
  {
   "cell_type": "code",
   "execution_count": 10,
   "metadata": {},
   "outputs": [],
   "source": [
    "df.dropna(thresh=27, inplace = True)"
   ]
  },
  {
   "cell_type": "code",
   "execution_count": 11,
   "metadata": {},
   "outputs": [
    {
     "data": {
      "text/plain": [
       "(6701, 40)"
      ]
     },
     "execution_count": 11,
     "metadata": {},
     "output_type": "execute_result"
    }
   ],
   "source": [
    "df.shape"
   ]
  },
  {
   "cell_type": "code",
   "execution_count": 12,
   "metadata": {},
   "outputs": [
    {
     "data": {
      "text/plain": [
       "Unnamed: 51            6701\n",
       "weight                 6484\n",
       "prices.availability    6426\n",
       "asins                  6245\n",
       "dimension              6127\n",
       "prices.returnPolicy    5532\n",
       "reviews                5244\n",
       "prices.shipping        5170\n",
       "quantities             4511\n",
       "prices.offer           4065\n",
       "prices.size            3724\n",
       "prices.color           3639\n",
       "manufacturer           3081\n",
       "skus                   2678\n",
       "ean                    2040\n",
       "prices.condition       1864\n",
       "upc                    1756\n",
       "sizes                  1597\n",
       "descriptions            965\n",
       "features                844\n",
       "prices.merchant         495\n",
       "colors                  462\n",
       "manufacturerNumber      193\n",
       "merchants               149\n",
       "imageURLs                 8\n",
       "brand                     5\n",
       "dateUpdated               0\n",
       "dateAdded                 0\n",
       "categories                0\n",
       "sourceURLs                0\n",
       "prices.amountMax          0\n",
       "keys                      0\n",
       "name                      0\n",
       "prices.amountMin          0\n",
       "prices.currency           0\n",
       "prices.dateAdded          0\n",
       "prices.dateSeen           0\n",
       "prices.isSale             0\n",
       "prices.sourceURLs         0\n",
       "id                        0\n",
       "dtype: int64"
      ]
     },
     "execution_count": 12,
     "metadata": {},
     "output_type": "execute_result"
    }
   ],
   "source": [
    "nas_sorted(df)"
   ]
  },
  {
   "cell_type": "code",
   "execution_count": 13,
   "metadata": {},
   "outputs": [],
   "source": [
    "df.dropna(axis='columns', how='all', inplace=True)"
   ]
  },
  {
   "cell_type": "code",
   "execution_count": 14,
   "metadata": {},
   "outputs": [
    {
     "data": {
      "text/plain": [
       "weight                 6484\n",
       "prices.availability    6426\n",
       "asins                  6245\n",
       "dimension              6127\n",
       "prices.returnPolicy    5532\n",
       "reviews                5244\n",
       "prices.shipping        5170\n",
       "quantities             4511\n",
       "prices.offer           4065\n",
       "prices.size            3724\n",
       "prices.color           3639\n",
       "manufacturer           3081\n",
       "skus                   2678\n",
       "ean                    2040\n",
       "prices.condition       1864\n",
       "upc                    1756\n",
       "sizes                  1597\n",
       "descriptions            965\n",
       "features                844\n",
       "prices.merchant         495\n",
       "colors                  462\n",
       "manufacturerNumber      193\n",
       "merchants               149\n",
       "imageURLs                 8\n",
       "brand                     5\n",
       "dateUpdated               0\n",
       "dateAdded                 0\n",
       "categories                0\n",
       "sourceURLs                0\n",
       "prices.amountMax          0\n",
       "keys                      0\n",
       "name                      0\n",
       "prices.amountMin          0\n",
       "prices.currency           0\n",
       "prices.dateAdded          0\n",
       "prices.dateSeen           0\n",
       "prices.isSale             0\n",
       "prices.sourceURLs         0\n",
       "id                        0\n",
       "dtype: int64"
      ]
     },
     "execution_count": 14,
     "metadata": {},
     "output_type": "execute_result"
    }
   ],
   "source": [
    "nas_sorted(df)"
   ]
  },
  {
   "cell_type": "markdown",
   "metadata": {},
   "source": [
    "### Find outliers "
   ]
  },
  {
   "cell_type": "markdown",
   "metadata": {},
   "source": [
    "Sometimes our missing value numbers are not stored as numbers that we cannot predict.  We may discover them to be outliers in our dataset.  It's a good idea to have some methods so that we can explore outliers in our dataset."
   ]
  },
  {
   "cell_type": "code",
   "execution_count": 16,
   "metadata": {},
   "outputs": [
    {
     "data": {
      "text/plain": [
       "array([-3, -2, -1,  0,  1,  2,  3])"
      ]
     },
     "execution_count": 16,
     "metadata": {},
     "output_type": "execute_result"
    }
   ],
   "source": [
    "import numpy as np\n",
    "np.arange(-3, 4, 1)"
   ]
  },
  {
   "cell_type": "code",
   "execution_count": 17,
   "metadata": {},
   "outputs": [],
   "source": [
    "from scipy import stats\n",
    "\n",
    "def percentiles(column):\n",
    "    z_scores = stats.zscore(column)\n",
    "    # segment based on number of standard deviations away from the mean     \n",
    "    hist, bin_edges = np.histogram(z_scores, bins=np.arange(-3, 4, 1), density=True)\n",
    "    return np.stack((hist, bin_edges[1:]))"
   ]
  },
  {
   "cell_type": "code",
   "execution_count": 18,
   "metadata": {},
   "outputs": [],
   "source": [
    "import scipy.stats as stats\n",
    "z_scores = stats.zscore(df['prices.amountMax'])"
   ]
  },
  {
   "cell_type": "code",
   "execution_count": 23,
   "metadata": {},
   "outputs": [
    {
     "data": {
      "text/plain": [
       "10    10.00\n",
       "11     8.00\n",
       "13    89.00\n",
       "16    79.00\n",
       "17    31.99\n",
       "Name: prices.amountMax, dtype: float64"
      ]
     },
     "execution_count": 23,
     "metadata": {},
     "output_type": "execute_result"
    }
   ],
   "source": [
    "df['prices.amountMax'][:5]"
   ]
  },
  {
   "cell_type": "code",
   "execution_count": 24,
   "metadata": {},
   "outputs": [],
   "source": [
    "from scipy import stats\n",
    "def percentiles(column):\n",
    "    z_scores = stats.zscore(column)\n",
    "    # segment based on number of standard deviations away from the mean     \n",
    "    hist, bin_edges = np.histogram(z_scores, bins=np.arange(-3, 4, 1), density=True)\n",
    "    return np.stack((hist, bin_edges[1:]))"
   ]
  },
  {
   "cell_type": "code",
   "execution_count": 25,
   "metadata": {},
   "outputs": [
    {
     "data": {
      "text/plain": [
       "array([[ 0.        ,  0.        ,  0.85676802,  0.07007254,  0.02484951,\n",
       "         0.04830992],\n",
       "       [-2.        , -1.        ,  0.        ,  1.        ,  2.        ,\n",
       "         3.        ]])"
      ]
     },
     "execution_count": 25,
     "metadata": {},
     "output_type": "execute_result"
    }
   ],
   "source": [
    "percentiles(df['prices.amountMax'])\n",
    "## from the above statistic, 0.85 + 0.07 = 0.92 percent of the whole data are located in the range of \n",
    "## (median - delta, median + delta)"
   ]
  },
  {
   "cell_type": "code",
   "execution_count": 26,
   "metadata": {},
   "outputs": [],
   "source": [
    "def too_many_outliers(column, threshold = .05):\n",
    "    #  expected .021 if normal distribution\n",
    "    z_less_neg_two = percentiles(column)[0, 0]\n",
    "    z_gt_two = percentiles(column)[0, -1]\n",
    "    if z_less_neg_two > threshold or z_gt_two > threshold:\n",
    "        return np.hstack((column.name, z_less_neg_two, z_gt_two))\n",
    "    else:\n",
    "        False"
   ]
  },
  {
   "cell_type": "code",
   "execution_count": 27,
   "metadata": {},
   "outputs": [],
   "source": [
    "def outlier_columns(df, threshold = .05):\n",
    "    numeric_columns = df.select_dtypes(include=['float64', 'int64']).columns\n",
    "    outlier_columns = np.array([too_many_outliers(df[column]) for column in numeric_columns])\n",
    "    return np.array([column for column in outlier_columns if column is not None])"
   ]
  },
  {
   "cell_type": "code",
   "execution_count": 28,
   "metadata": {},
   "outputs": [],
   "source": [
    "def select_outliers(column, upper_tail = True):\n",
    "    if upper_tail:\n",
    "        return column[stats.zscore(column) > 2]\n",
    "    else:\n",
    "        return column[stats.zscore(column) < -2]"
   ]
  },
  {
   "cell_type": "code",
   "execution_count": 29,
   "metadata": {},
   "outputs": [
    {
     "name": "stderr",
     "output_type": "stream",
     "text": [
      "C:\\Users\\51759\\Anaconda3\\lib\\site-packages\\numpy\\lib\\histograms.py:893: RuntimeWarning: invalid value encountered in true_divide\n",
      "  return n/db/n.sum(), bin_edges\n"
     ]
    },
    {
     "data": {
      "text/plain": [
       "array([], dtype=float64)"
      ]
     },
     "execution_count": 29,
     "metadata": {},
     "output_type": "execute_result"
    }
   ],
   "source": [
    "outlier_columns(df)"
   ]
  },
  {
   "cell_type": "code",
   "execution_count": 30,
   "metadata": {},
   "outputs": [
    {
     "data": {
      "text/plain": [
       "795.0     142\n",
       "995.0      78\n",
       "1100.0     53\n",
       "1250.0     53\n",
       "750.0      52\n",
       "895.0      39\n",
       "850.0      39\n",
       "695.0      39\n",
       "1300.0     13\n",
       "950.0      13\n",
       "1400.0     12\n",
       "754.8       1\n",
       "810.0       1\n",
       "Name: prices.amountMax, dtype: int64"
      ]
     },
     "execution_count": 30,
     "metadata": {},
     "output_type": "execute_result"
    }
   ],
   "source": [
    "select_outliers(df['prices.amountMax']).value_counts()"
   ]
  }
 ],
 "metadata": {
  "kernelspec": {
   "display_name": "Python 3",
   "language": "python",
   "name": "python3"
  },
  "language_info": {
   "codemirror_mode": {
    "name": "ipython",
    "version": 3
   },
   "file_extension": ".py",
   "mimetype": "text/x-python",
   "name": "python",
   "nbconvert_exporter": "python",
   "pygments_lexer": "ipython3",
   "version": "3.7.3"
  }
 },
 "nbformat": 4,
 "nbformat_minor": 2
}
