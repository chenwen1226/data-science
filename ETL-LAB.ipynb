{
 "cells": [
  {
   "cell_type": "markdown",
   "metadata": {},
   "source": [
    "# ETL Lab"
   ]
  },
  {
   "cell_type": "markdown",
   "metadata": {},
   "source": [
    "### Introduction"
   ]
  },
  {
   "cell_type": "markdown",
   "metadata": {},
   "source": [
    "In this lab, we ask you to use the techniques learned in this section to work with an API of your choosing.  As important to getting to the correct code is to develop the proper procedure for getting there.  Just like in the preceding lessons we will following our procedures such as: \n",
    "\n",
    "1. Red, green, refactor\n",
    "2. Move mess into an object\n",
    "3. Make small methods by: \n",
    "    A. Commenting code\n",
    "    B. Translating comments into methods\n",
    "    \n",
    "Along the way, we will arrive at our pattern of a *Client*, *Adapter*, and *Target*."
   ]
  },
  {
   "cell_type": "markdown",
   "metadata": {},
   "source": [
    "### Step 1.  Just get the data"
   ]
  },
  {
   "cell_type": "markdown",
   "metadata": {},
   "source": [
    "The first step is to go from red to green.  That is, the code starts off with nothing working and our task is simply to get it working.  In this case, this means the following: \n",
    "\n",
    "1. Call an API of your choosing\n",
    "2. Return a list of dictionaries and store as a variable named `entities`"
   ]
  },
  {
   "cell_type": "code",
   "execution_count": 87,
   "metadata": {},
   "outputs": [],
   "source": [
    "import requests\n",
    "response = requests.get(\"https://data.texas.gov/resource/naix-2893.json?$order=total_receipts DESC&$LIMIT=10\")\n",
    "entities = response.json()"
   ]
  },
  {
   "cell_type": "code",
   "execution_count": 88,
   "metadata": {},
   "outputs": [
    {
     "data": {
      "text/plain": [
       "[{'taxpayer_number': '12633932723',\n",
       "  'taxpayer_name': 'LEGENDS HOSPITALITY, LLC',\n",
       "  'taxpayer_address': '61 BROADWAY STE 2400',\n",
       "  'taxpayer_city': 'NEW YORK',\n",
       "  'taxpayer_state': 'NY',\n",
       "  'taxpayer_zip': '10006',\n",
       "  'taxpayer_county': '0',\n",
       "  'location_number': '1',\n",
       "  'location_name': 'AT&T STADIUM',\n",
       "  'location_address': '1 LEGENDS WAY',\n",
       "  'location_city': 'ARLINGTON',\n",
       "  'location_state': 'TX',\n",
       "  'location_zip': '76011',\n",
       "  'location_county': '220',\n",
       "  'inside_outside_city_limits_code_y_n': 'Y',\n",
       "  'tabc_permit_number': 'MB722028',\n",
       "  'responsibility_begin_date_yyyymmdd': '2009-05-15T00:00:00.000',\n",
       "  'obligation_end_date_yyyymmdd': '2018-12-31T00:00:00.000',\n",
       "  'liquor_receipts': '2598869',\n",
       "  'wine_receipts': '378626',\n",
       "  'beer_receipts': '3930134',\n",
       "  'cover_charge_receipts': '0',\n",
       "  'total_receipts': '6907629'},\n",
       " {'taxpayer_number': '12633932723',\n",
       "  'taxpayer_name': 'LEGENDS HOSPITALITY, LLC',\n",
       "  'taxpayer_address': '61 BROADWAY STE 2400',\n",
       "  'taxpayer_city': 'NEW YORK',\n",
       "  'taxpayer_state': 'NY',\n",
       "  'taxpayer_zip': '10006',\n",
       "  'taxpayer_county': '0',\n",
       "  'location_number': '1',\n",
       "  'location_name': 'AT&T STADIUM',\n",
       "  'location_address': '1 LEGENDS WAY',\n",
       "  'location_city': 'ARLINGTON',\n",
       "  'location_state': 'TX',\n",
       "  'location_zip': '76011',\n",
       "  'location_county': '220',\n",
       "  'inside_outside_city_limits_code_y_n': 'Y',\n",
       "  'tabc_permit_number': 'MB722028',\n",
       "  'responsibility_begin_date_yyyymmdd': '2009-05-15T00:00:00.000',\n",
       "  'obligation_end_date_yyyymmdd': '2016-09-30T00:00:00.000',\n",
       "  'liquor_receipts': '2454032',\n",
       "  'wine_receipts': '345498',\n",
       "  'beer_receipts': '3967440',\n",
       "  'cover_charge_receipts': '0',\n",
       "  'total_receipts': '6766970'},\n",
       " {'taxpayer_number': '12633932723',\n",
       "  'taxpayer_name': 'LEGENDS HOSPITALITY, LLC',\n",
       "  'taxpayer_address': '61 BROADWAY STE 2400',\n",
       "  'taxpayer_city': 'NEW YORK',\n",
       "  'taxpayer_state': 'NY',\n",
       "  'taxpayer_zip': '10006',\n",
       "  'taxpayer_county': '0',\n",
       "  'location_number': '1',\n",
       "  'location_name': 'AT&T STADIUM',\n",
       "  'location_address': '1 LEGENDS WAY',\n",
       "  'location_city': 'ARLINGTON',\n",
       "  'location_state': 'TX',\n",
       "  'location_zip': '76011',\n",
       "  'location_county': '220',\n",
       "  'inside_outside_city_limits_code_y_n': 'Y',\n",
       "  'tabc_permit_number': 'MB722028',\n",
       "  'responsibility_begin_date_yyyymmdd': '2009-05-15T00:00:00.000',\n",
       "  'obligation_end_date_yyyymmdd': '2015-09-30T00:00:00.000',\n",
       "  'liquor_receipts': '1841205',\n",
       "  'wine_receipts': '257491',\n",
       "  'beer_receipts': '3562353',\n",
       "  'cover_charge_receipts': '0',\n",
       "  'total_receipts': '5661049'},\n",
       " {'taxpayer_number': '12633932723',\n",
       "  'taxpayer_name': 'LEGENDS HOSPITALITY, LLC',\n",
       "  'taxpayer_address': '61 BROADWAY STE 2400',\n",
       "  'taxpayer_city': 'NEW YORK',\n",
       "  'taxpayer_state': 'NY',\n",
       "  'taxpayer_zip': '10006',\n",
       "  'taxpayer_county': '0',\n",
       "  'location_number': '1',\n",
       "  'location_name': 'AT&T STADIUM',\n",
       "  'location_address': '1 LEGENDS WAY',\n",
       "  'location_city': 'ARLINGTON',\n",
       "  'location_state': 'TX',\n",
       "  'location_zip': '76011',\n",
       "  'location_county': '220',\n",
       "  'inside_outside_city_limits_code_y_n': 'Y',\n",
       "  'tabc_permit_number': 'MB722028',\n",
       "  'responsibility_begin_date_yyyymmdd': '2009-05-15T00:00:00.000',\n",
       "  'obligation_end_date_yyyymmdd': '2014-09-30T00:00:00.000',\n",
       "  'liquor_receipts': '1698732',\n",
       "  'wine_receipts': '288860',\n",
       "  'beer_receipts': '3357347',\n",
       "  'cover_charge_receipts': '0',\n",
       "  'total_receipts': '5344939'},\n",
       " {'taxpayer_number': '12325735848',\n",
       "  'taxpayer_name': 'ARAMARK SPORTS AND ENTERTAINMENT SERVICES OF TEXAS',\n",
       "  'taxpayer_address': 'PO BOX 7548 ATTN: KIM KEENAN',\n",
       "  'taxpayer_city': 'PHILADELPHIA',\n",
       "  'taxpayer_state': 'PA',\n",
       "  'taxpayer_zip': '19101',\n",
       "  'taxpayer_county': '0',\n",
       "  'location_number': '19',\n",
       "  'location_name': 'ARAMARK SPORTS & ENTERTAINMENT SER OF TEXAS INC',\n",
       "  'location_address': '8355 KIRBY DR',\n",
       "  'location_city': 'HOUSTON',\n",
       "  'location_state': 'TX',\n",
       "  'location_zip': '77054',\n",
       "  'location_county': '101',\n",
       "  'inside_outside_city_limits_code_y_n': 'Y',\n",
       "  'tabc_permit_number': 'MB520931',\n",
       "  'responsibility_begin_date_yyyymmdd': '2002-08-14T00:00:00.000',\n",
       "  'obligation_end_date_yyyymmdd': '2014-03-31T00:00:00.000',\n",
       "  'liquor_receipts': '20998',\n",
       "  'wine_receipts': '404948',\n",
       "  'beer_receipts': '4890745',\n",
       "  'cover_charge_receipts': '0',\n",
       "  'total_receipts': '5316691'},\n",
       " {'taxpayer_number': '12633932723',\n",
       "  'taxpayer_name': 'LEGENDS HOSPITALITY, LLC',\n",
       "  'taxpayer_address': '61 BROADWAY STE 2400',\n",
       "  'taxpayer_city': 'NEW YORK',\n",
       "  'taxpayer_state': 'NY',\n",
       "  'taxpayer_zip': '10006',\n",
       "  'taxpayer_county': '0',\n",
       "  'location_number': '1',\n",
       "  'location_name': 'AT&T STADIUM',\n",
       "  'location_address': '1 LEGENDS WAY',\n",
       "  'location_city': 'ARLINGTON',\n",
       "  'location_state': 'TX',\n",
       "  'location_zip': '76011',\n",
       "  'location_county': '220',\n",
       "  'inside_outside_city_limits_code_y_n': 'Y',\n",
       "  'tabc_permit_number': 'MB722028',\n",
       "  'responsibility_begin_date_yyyymmdd': '2009-05-15T00:00:00.000',\n",
       "  'obligation_end_date_yyyymmdd': '2012-12-31T00:00:00.000',\n",
       "  'liquor_receipts': '1574058',\n",
       "  'wine_receipts': '281659',\n",
       "  'beer_receipts': '3404436',\n",
       "  'cover_charge_receipts': '0',\n",
       "  'total_receipts': '5260153'},\n",
       " {'taxpayer_number': '12633932723',\n",
       "  'taxpayer_name': 'LEGENDS HOSPITALITY, LLC',\n",
       "  'taxpayer_address': '61 BROADWAY STE 2400',\n",
       "  'taxpayer_city': 'NEW YORK',\n",
       "  'taxpayer_state': 'NY',\n",
       "  'taxpayer_zip': '10006',\n",
       "  'taxpayer_county': '0',\n",
       "  'location_number': '1',\n",
       "  'location_name': 'AT&T STADIUM',\n",
       "  'location_address': '1 LEGENDS WAY',\n",
       "  'location_city': 'ARLINGTON',\n",
       "  'location_state': 'TX',\n",
       "  'location_zip': '76011',\n",
       "  'location_county': '220',\n",
       "  'inside_outside_city_limits_code_y_n': 'Y',\n",
       "  'tabc_permit_number': 'MB722028',\n",
       "  'responsibility_begin_date_yyyymmdd': '2009-05-15T00:00:00.000',\n",
       "  'obligation_end_date_yyyymmdd': '2013-09-30T00:00:00.000',\n",
       "  'liquor_receipts': '1116656',\n",
       "  'wine_receipts': '282141',\n",
       "  'beer_receipts': '3275005',\n",
       "  'cover_charge_receipts': '0',\n",
       "  'total_receipts': '4673802'},\n",
       " {'taxpayer_number': '12633932723',\n",
       "  'taxpayer_name': 'LEGENDS HOSPITALITY, LLC',\n",
       "  'taxpayer_address': '61 BROADWAY STE 2400',\n",
       "  'taxpayer_city': 'NEW YORK',\n",
       "  'taxpayer_state': 'NY',\n",
       "  'taxpayer_zip': '10006',\n",
       "  'taxpayer_county': '0',\n",
       "  'location_number': '1',\n",
       "  'location_name': 'AT&T STADIUM',\n",
       "  'location_address': '1 LEGENDS WAY',\n",
       "  'location_city': 'ARLINGTON',\n",
       "  'location_state': 'TX',\n",
       "  'location_zip': '76011',\n",
       "  'location_county': '220',\n",
       "  'inside_outside_city_limits_code_y_n': 'Y',\n",
       "  'tabc_permit_number': 'MB722028',\n",
       "  'responsibility_begin_date_yyyymmdd': '2009-05-15T00:00:00.000',\n",
       "  'obligation_end_date_yyyymmdd': '2018-09-30T00:00:00.000',\n",
       "  'liquor_receipts': '1892540',\n",
       "  'wine_receipts': '274367',\n",
       "  'beer_receipts': '2261667',\n",
       "  'cover_charge_receipts': '0',\n",
       "  'total_receipts': '4428574'},\n",
       " {'taxpayer_number': '12633932723',\n",
       "  'taxpayer_name': 'LEGENDS HOSPITALITY, LLC',\n",
       "  'taxpayer_address': '61 BROADWAY STE 2400',\n",
       "  'taxpayer_city': 'NEW YORK',\n",
       "  'taxpayer_state': 'NY',\n",
       "  'taxpayer_zip': '10006',\n",
       "  'taxpayer_county': '0',\n",
       "  'location_number': '1',\n",
       "  'location_name': 'AT&T STADIUM',\n",
       "  'location_address': '1 LEGENDS WAY',\n",
       "  'location_city': 'ARLINGTON',\n",
       "  'location_state': 'TX',\n",
       "  'location_zip': '76011',\n",
       "  'location_county': '220',\n",
       "  'inside_outside_city_limits_code_y_n': 'Y',\n",
       "  'tabc_permit_number': 'MB722028',\n",
       "  'responsibility_begin_date_yyyymmdd': '2009-05-15T00:00:00.000',\n",
       "  'obligation_end_date_yyyymmdd': '2016-12-31T00:00:00.000',\n",
       "  'liquor_receipts': '1455140',\n",
       "  'wine_receipts': '253551',\n",
       "  'beer_receipts': '2498606',\n",
       "  'cover_charge_receipts': '0',\n",
       "  'total_receipts': '4207297'},\n",
       " {'taxpayer_number': '12633932723',\n",
       "  'taxpayer_name': 'LEGENDS HOSPITALITY, LLC',\n",
       "  'taxpayer_address': '61 BROADWAY STE 2400',\n",
       "  'taxpayer_city': 'NEW YORK',\n",
       "  'taxpayer_state': 'NY',\n",
       "  'taxpayer_zip': '10006',\n",
       "  'taxpayer_county': '0',\n",
       "  'location_number': '1',\n",
       "  'location_name': 'AT&T STADIUM',\n",
       "  'location_address': '1 LEGENDS WAY',\n",
       "  'location_city': 'ARLINGTON',\n",
       "  'location_state': 'TX',\n",
       "  'location_zip': '76011',\n",
       "  'location_county': '220',\n",
       "  'inside_outside_city_limits_code_y_n': 'Y',\n",
       "  'tabc_permit_number': 'MB722028',\n",
       "  'responsibility_begin_date_yyyymmdd': '2009-05-15T00:00:00.000',\n",
       "  'obligation_end_date_yyyymmdd': '2010-10-31T00:00:00.000',\n",
       "  'liquor_receipts': '1172566',\n",
       "  'wine_receipts': '269816',\n",
       "  'beer_receipts': '2616943',\n",
       "  'cover_charge_receipts': '0',\n",
       "  'total_receipts': '4059325'}]"
      ]
     },
     "execution_count": 88,
     "metadata": {},
     "output_type": "execute_result"
    }
   ],
   "source": [
    "entities"
   ]
  },
  {
   "cell_type": "code",
   "execution_count": 89,
   "metadata": {},
   "outputs": [
    {
     "data": {
      "text/plain": [
       "dict"
      ]
     },
     "execution_count": 89,
     "metadata": {},
     "output_type": "execute_result"
    }
   ],
   "source": [
    "type(entities)\n",
    "# list \n",
    "\n",
    "type(entities[0])\n",
    "# dict"
   ]
  },
  {
   "cell_type": "code",
   "execution_count": 109,
   "metadata": {},
   "outputs": [
    {
     "data": {
      "text/plain": [
       "{'taxpayer_number': '12633932723',\n",
       " 'taxpayer_name': 'LEGENDS HOSPITALITY, LLC',\n",
       " 'taxpayer_address': '61 BROADWAY STE 2400',\n",
       " 'taxpayer_city': 'NEW YORK',\n",
       " 'taxpayer_state': 'NY',\n",
       " 'taxpayer_zip': '10006',\n",
       " 'taxpayer_county': '0',\n",
       " 'location_number': '1',\n",
       " 'location_name': 'AT&T STADIUM',\n",
       " 'location_address': '1 LEGENDS WAY',\n",
       " 'location_city': 'ARLINGTON',\n",
       " 'location_state': 'TX',\n",
       " 'location_zip': '76011',\n",
       " 'location_county': '220',\n",
       " 'inside_outside_city_limits_code_y_n': 'Y',\n",
       " 'tabc_permit_number': 'MB722028',\n",
       " 'responsibility_begin_date_yyyymmdd': '2009-05-15T00:00:00.000',\n",
       " 'obligation_end_date_yyyymmdd': '2018-12-31T00:00:00.000',\n",
       " 'liquor_receipts': '2598869',\n",
       " 'wine_receipts': '378626',\n",
       " 'beer_receipts': '3930134',\n",
       " 'cover_charge_receipts': '0',\n",
       " 'total_receipts': '6907629'}"
      ]
     },
     "execution_count": 109,
     "metadata": {},
     "output_type": "execute_result"
    }
   ],
   "source": [
    "entities[0]"
   ]
  },
  {
   "cell_type": "markdown",
   "metadata": {},
   "source": [
    "### Step 2. Change the dictionaries into objects"
   ]
  },
  {
   "cell_type": "markdown",
   "metadata": {},
   "source": [
    "The next step is to change dictionaries received back from the API into objects.  We can break this down into a couple of steps.\n",
    "\n",
    "1. Create the *target class*.  This is the class the dictionaries will be transformed into.  To do this, choose no more than five attributes to store in each instance."
   ]
  },
  {
   "cell_type": "code",
   "execution_count": 110,
   "metadata": {},
   "outputs": [],
   "source": [
    "class Location:\n",
    "    # please change the name of this class\n",
    "    def __init__(self, address, city, state, zip):\n",
    "        self._address = address\n",
    "        self._city = city\n",
    "        self._state = state\n",
    "        self._zip = zip"
   ]
  },
  {
   "cell_type": "markdown",
   "metadata": {},
   "source": [
    "Check your work by assigning an instance to the variable `target_instance`."
   ]
  },
  {
   "cell_type": "code",
   "execution_count": 111,
   "metadata": {},
   "outputs": [
    {
     "data": {
      "text/plain": [
       "True"
      ]
     },
     "execution_count": 111,
     "metadata": {},
     "output_type": "execute_result"
    }
   ],
   "source": [
    "target_instance = Location(entities[0]['location_address'],\n",
    "                           entities[0]['location_city'],\n",
    "                           entities[0]['location_state'],\n",
    "                           entities[0]['location_zip'])\n",
    "3 < len( target_instance.__dict__.keys()) < 5\n",
    "# True "
   ]
  },
  {
   "cell_type": "markdown",
   "metadata": {},
   "source": [
    "1. Reject some of the data\n",
    "\n",
    "We don't want to pass all of our data into our class.  So create a smaller dictionary of just the attributes we need."
   ]
  },
  {
   "cell_type": "code",
   "execution_count": 112,
   "metadata": {},
   "outputs": [],
   "source": [
    "selected_attributes = {'location_address':entities[0]['location_address'],\n",
    "                       'location_city':entities[0]['location_city'],\n",
    "                       'location_state':entities[0]['location_state'],\n",
    "                       'location_zip':entities[0]['location_zip']}"
   ]
  },
  {
   "cell_type": "code",
   "execution_count": 113,
   "metadata": {},
   "outputs": [
    {
     "data": {
      "text/plain": [
       "dict"
      ]
     },
     "execution_count": 113,
     "metadata": {},
     "output_type": "execute_result"
    }
   ],
   "source": [
    "type(selected_attributes)\n",
    "# dict"
   ]
  },
  {
   "cell_type": "code",
   "execution_count": 114,
   "metadata": {},
   "outputs": [
    {
     "data": {
      "text/plain": [
       "True"
      ]
     },
     "execution_count": 114,
     "metadata": {},
     "output_type": "execute_result"
    }
   ],
   "source": [
    "len(selected_attributes.keys()) == len(target_instance.__dict__.keys())\n",
    "# True"
   ]
  },
  {
   "cell_type": "markdown",
   "metadata": {},
   "source": [
    "2. Coerce dictionaries into objects\n",
    "\n",
    "A. To start, coerce just one dictionary into an object."
   ]
  },
  {
   "cell_type": "code",
   "execution_count": 115,
   "metadata": {},
   "outputs": [],
   "source": [
    "first_object = Location(entities[0]['location_address'],\n",
    "                           entities[0]['location_city'],\n",
    "                           entities[0]['location_state'],\n",
    "                           entities[0]['location_zip'])\n",
    "# change the above line to reference your target class"
   ]
  },
  {
   "cell_type": "code",
   "execution_count": 116,
   "metadata": {},
   "outputs": [
    {
     "data": {
      "text/plain": [
       "'1 LEGENDS WAY'"
      ]
     },
     "execution_count": 116,
     "metadata": {},
     "output_type": "execute_result"
    }
   ],
   "source": [
    "first_object._address"
   ]
  },
  {
   "cell_type": "code",
   "execution_count": 117,
   "metadata": {},
   "outputs": [
    {
     "data": {
      "text/plain": [
       "dict_values(['1 LEGENDS WAY', 'ARLINGTON', 'TX', '76011'])"
      ]
     },
     "execution_count": 117,
     "metadata": {},
     "output_type": "execute_result"
    }
   ],
   "source": [
    "first_object.__dict__.values()"
   ]
  },
  {
   "cell_type": "code",
   "execution_count": 118,
   "metadata": {},
   "outputs": [
    {
     "data": {
      "text/plain": [
       "dict_values(['12633932723', 'LEGENDS HOSPITALITY, LLC', '61 BROADWAY STE 2400', 'NEW YORK', 'NY', '10006', '0', '1', 'AT&T STADIUM', '1 LEGENDS WAY', 'ARLINGTON', 'TX', '76011', '220', 'Y', 'MB722028', '2009-05-15T00:00:00.000', '2018-12-31T00:00:00.000', '2598869', '378626', '3930134', '0', '6907629'])"
      ]
     },
     "execution_count": 118,
     "metadata": {},
     "output_type": "execute_result"
    }
   ],
   "source": [
    "entities[0].values()"
   ]
  },
  {
   "cell_type": "code",
   "execution_count": 119,
   "metadata": {},
   "outputs": [
    {
     "data": {
      "text/plain": [
       "False"
      ]
     },
     "execution_count": 119,
     "metadata": {},
     "output_type": "execute_result"
    }
   ],
   "source": [
    "list(first_object.__dict__.values()) == list(entities[0].values())\n",
    "# True"
   ]
  },
  {
   "cell_type": "markdown",
   "metadata": {},
   "source": [
    "B. Now that you have solved for one, solve for all.  Coerce all of the dictionaries into objects.  Assign the list of objects to a variable `targets`."
   ]
  },
  {
   "cell_type": "code",
   "execution_count": 159,
   "metadata": {},
   "outputs": [],
   "source": [
    "targets = []\n",
    "for location_dict in entities: \n",
    "    selected_attr = {'address': location_dict['location_address'], \n",
    "                     'city': location_dict['location_city'], \n",
    "                     'state': location_dict['location_state'],\n",
    "                     'zip':  location_dict['location_zip']}\n",
    "    target = Location(selected_attr['address'], selected_attr['city'],\n",
    "                      selected_attr['state'], selected_attr['zip'])\n",
    "    targets.append(target)"
   ]
  },
  {
   "cell_type": "code",
   "execution_count": 160,
   "metadata": {},
   "outputs": [
    {
     "data": {
      "text/plain": [
       "list"
      ]
     },
     "execution_count": 160,
     "metadata": {},
     "output_type": "execute_result"
    }
   ],
   "source": [
    "type(targets)"
   ]
  },
  {
   "cell_type": "code",
   "execution_count": 161,
   "metadata": {},
   "outputs": [
    {
     "data": {
      "text/plain": [
       "{'_address': '1 LEGENDS WAY',\n",
       " '_city': 'ARLINGTON',\n",
       " '_state': 'TX',\n",
       " '_zip': '76011'}"
      ]
     },
     "execution_count": 161,
     "metadata": {},
     "output_type": "execute_result"
    }
   ],
   "source": [
    "targets[2].__dict__"
   ]
  },
  {
   "cell_type": "code",
   "execution_count": 162,
   "metadata": {},
   "outputs": [
    {
     "data": {
      "text/plain": [
       "[<__main__.Location at 0x1ea6c19a1d0>,\n",
       " <__main__.Location at 0x1ea6c19a320>,\n",
       " <__main__.Location at 0x1ea6c19a160>,\n",
       " <__main__.Location at 0x1ea6c19a128>,\n",
       " <__main__.Location at 0x1ea6c19a0f0>,\n",
       " <__main__.Location at 0x1ea6c19a080>,\n",
       " <__main__.Location at 0x1ea6c1b3048>,\n",
       " <__main__.Location at 0x1ea6c1b3080>,\n",
       " <__main__.Location at 0x1ea6c1b30b8>,\n",
       " <__main__.Location at 0x1ea6c1b30f0>]"
      ]
     },
     "execution_count": 162,
     "metadata": {},
     "output_type": "execute_result"
    }
   ],
   "source": [
    "targets"
   ]
  },
  {
   "cell_type": "code",
   "execution_count": 156,
   "metadata": {},
   "outputs": [
    {
     "data": {
      "text/plain": [
       "[{'taxpayer_number': '12633932723',\n",
       "  'taxpayer_name': 'LEGENDS HOSPITALITY, LLC',\n",
       "  'taxpayer_address': '61 BROADWAY STE 2400',\n",
       "  'taxpayer_city': 'NEW YORK',\n",
       "  'taxpayer_state': 'NY',\n",
       "  'taxpayer_zip': '10006',\n",
       "  'taxpayer_county': '0',\n",
       "  'location_number': '1',\n",
       "  'location_name': 'AT&T STADIUM',\n",
       "  'location_address': '1 LEGENDS WAY',\n",
       "  'location_city': 'ARLINGTON',\n",
       "  'location_state': 'TX',\n",
       "  'location_zip': '76011',\n",
       "  'location_county': '220',\n",
       "  'inside_outside_city_limits_code_y_n': 'Y',\n",
       "  'tabc_permit_number': 'MB722028',\n",
       "  'responsibility_begin_date_yyyymmdd': '2009-05-15T00:00:00.000',\n",
       "  'obligation_end_date_yyyymmdd': '2018-12-31T00:00:00.000',\n",
       "  'liquor_receipts': '2598869',\n",
       "  'wine_receipts': '378626',\n",
       "  'beer_receipts': '3930134',\n",
       "  'cover_charge_receipts': '0',\n",
       "  'total_receipts': '6907629'},\n",
       " {'taxpayer_number': '12633932723',\n",
       "  'taxpayer_name': 'LEGENDS HOSPITALITY, LLC',\n",
       "  'taxpayer_address': '61 BROADWAY STE 2400',\n",
       "  'taxpayer_city': 'NEW YORK',\n",
       "  'taxpayer_state': 'NY',\n",
       "  'taxpayer_zip': '10006',\n",
       "  'taxpayer_county': '0',\n",
       "  'location_number': '1',\n",
       "  'location_name': 'AT&T STADIUM',\n",
       "  'location_address': '1 LEGENDS WAY',\n",
       "  'location_city': 'ARLINGTON',\n",
       "  'location_state': 'TX',\n",
       "  'location_zip': '76011',\n",
       "  'location_county': '220',\n",
       "  'inside_outside_city_limits_code_y_n': 'Y',\n",
       "  'tabc_permit_number': 'MB722028',\n",
       "  'responsibility_begin_date_yyyymmdd': '2009-05-15T00:00:00.000',\n",
       "  'obligation_end_date_yyyymmdd': '2016-09-30T00:00:00.000',\n",
       "  'liquor_receipts': '2454032',\n",
       "  'wine_receipts': '345498',\n",
       "  'beer_receipts': '3967440',\n",
       "  'cover_charge_receipts': '0',\n",
       "  'total_receipts': '6766970'},\n",
       " {'taxpayer_number': '12633932723',\n",
       "  'taxpayer_name': 'LEGENDS HOSPITALITY, LLC',\n",
       "  'taxpayer_address': '61 BROADWAY STE 2400',\n",
       "  'taxpayer_city': 'NEW YORK',\n",
       "  'taxpayer_state': 'NY',\n",
       "  'taxpayer_zip': '10006',\n",
       "  'taxpayer_county': '0',\n",
       "  'location_number': '1',\n",
       "  'location_name': 'AT&T STADIUM',\n",
       "  'location_address': '1 LEGENDS WAY',\n",
       "  'location_city': 'ARLINGTON',\n",
       "  'location_state': 'TX',\n",
       "  'location_zip': '76011',\n",
       "  'location_county': '220',\n",
       "  'inside_outside_city_limits_code_y_n': 'Y',\n",
       "  'tabc_permit_number': 'MB722028',\n",
       "  'responsibility_begin_date_yyyymmdd': '2009-05-15T00:00:00.000',\n",
       "  'obligation_end_date_yyyymmdd': '2015-09-30T00:00:00.000',\n",
       "  'liquor_receipts': '1841205',\n",
       "  'wine_receipts': '257491',\n",
       "  'beer_receipts': '3562353',\n",
       "  'cover_charge_receipts': '0',\n",
       "  'total_receipts': '5661049'},\n",
       " {'taxpayer_number': '12633932723',\n",
       "  'taxpayer_name': 'LEGENDS HOSPITALITY, LLC',\n",
       "  'taxpayer_address': '61 BROADWAY STE 2400',\n",
       "  'taxpayer_city': 'NEW YORK',\n",
       "  'taxpayer_state': 'NY',\n",
       "  'taxpayer_zip': '10006',\n",
       "  'taxpayer_county': '0',\n",
       "  'location_number': '1',\n",
       "  'location_name': 'AT&T STADIUM',\n",
       "  'location_address': '1 LEGENDS WAY',\n",
       "  'location_city': 'ARLINGTON',\n",
       "  'location_state': 'TX',\n",
       "  'location_zip': '76011',\n",
       "  'location_county': '220',\n",
       "  'inside_outside_city_limits_code_y_n': 'Y',\n",
       "  'tabc_permit_number': 'MB722028',\n",
       "  'responsibility_begin_date_yyyymmdd': '2009-05-15T00:00:00.000',\n",
       "  'obligation_end_date_yyyymmdd': '2014-09-30T00:00:00.000',\n",
       "  'liquor_receipts': '1698732',\n",
       "  'wine_receipts': '288860',\n",
       "  'beer_receipts': '3357347',\n",
       "  'cover_charge_receipts': '0',\n",
       "  'total_receipts': '5344939'},\n",
       " {'taxpayer_number': '12325735848',\n",
       "  'taxpayer_name': 'ARAMARK SPORTS AND ENTERTAINMENT SERVICES OF TEXAS',\n",
       "  'taxpayer_address': 'PO BOX 7548 ATTN: KIM KEENAN',\n",
       "  'taxpayer_city': 'PHILADELPHIA',\n",
       "  'taxpayer_state': 'PA',\n",
       "  'taxpayer_zip': '19101',\n",
       "  'taxpayer_county': '0',\n",
       "  'location_number': '19',\n",
       "  'location_name': 'ARAMARK SPORTS & ENTERTAINMENT SER OF TEXAS INC',\n",
       "  'location_address': '8355 KIRBY DR',\n",
       "  'location_city': 'HOUSTON',\n",
       "  'location_state': 'TX',\n",
       "  'location_zip': '77054',\n",
       "  'location_county': '101',\n",
       "  'inside_outside_city_limits_code_y_n': 'Y',\n",
       "  'tabc_permit_number': 'MB520931',\n",
       "  'responsibility_begin_date_yyyymmdd': '2002-08-14T00:00:00.000',\n",
       "  'obligation_end_date_yyyymmdd': '2014-03-31T00:00:00.000',\n",
       "  'liquor_receipts': '20998',\n",
       "  'wine_receipts': '404948',\n",
       "  'beer_receipts': '4890745',\n",
       "  'cover_charge_receipts': '0',\n",
       "  'total_receipts': '5316691'},\n",
       " {'taxpayer_number': '12633932723',\n",
       "  'taxpayer_name': 'LEGENDS HOSPITALITY, LLC',\n",
       "  'taxpayer_address': '61 BROADWAY STE 2400',\n",
       "  'taxpayer_city': 'NEW YORK',\n",
       "  'taxpayer_state': 'NY',\n",
       "  'taxpayer_zip': '10006',\n",
       "  'taxpayer_county': '0',\n",
       "  'location_number': '1',\n",
       "  'location_name': 'AT&T STADIUM',\n",
       "  'location_address': '1 LEGENDS WAY',\n",
       "  'location_city': 'ARLINGTON',\n",
       "  'location_state': 'TX',\n",
       "  'location_zip': '76011',\n",
       "  'location_county': '220',\n",
       "  'inside_outside_city_limits_code_y_n': 'Y',\n",
       "  'tabc_permit_number': 'MB722028',\n",
       "  'responsibility_begin_date_yyyymmdd': '2009-05-15T00:00:00.000',\n",
       "  'obligation_end_date_yyyymmdd': '2012-12-31T00:00:00.000',\n",
       "  'liquor_receipts': '1574058',\n",
       "  'wine_receipts': '281659',\n",
       "  'beer_receipts': '3404436',\n",
       "  'cover_charge_receipts': '0',\n",
       "  'total_receipts': '5260153'},\n",
       " {'taxpayer_number': '12633932723',\n",
       "  'taxpayer_name': 'LEGENDS HOSPITALITY, LLC',\n",
       "  'taxpayer_address': '61 BROADWAY STE 2400',\n",
       "  'taxpayer_city': 'NEW YORK',\n",
       "  'taxpayer_state': 'NY',\n",
       "  'taxpayer_zip': '10006',\n",
       "  'taxpayer_county': '0',\n",
       "  'location_number': '1',\n",
       "  'location_name': 'AT&T STADIUM',\n",
       "  'location_address': '1 LEGENDS WAY',\n",
       "  'location_city': 'ARLINGTON',\n",
       "  'location_state': 'TX',\n",
       "  'location_zip': '76011',\n",
       "  'location_county': '220',\n",
       "  'inside_outside_city_limits_code_y_n': 'Y',\n",
       "  'tabc_permit_number': 'MB722028',\n",
       "  'responsibility_begin_date_yyyymmdd': '2009-05-15T00:00:00.000',\n",
       "  'obligation_end_date_yyyymmdd': '2013-09-30T00:00:00.000',\n",
       "  'liquor_receipts': '1116656',\n",
       "  'wine_receipts': '282141',\n",
       "  'beer_receipts': '3275005',\n",
       "  'cover_charge_receipts': '0',\n",
       "  'total_receipts': '4673802'},\n",
       " {'taxpayer_number': '12633932723',\n",
       "  'taxpayer_name': 'LEGENDS HOSPITALITY, LLC',\n",
       "  'taxpayer_address': '61 BROADWAY STE 2400',\n",
       "  'taxpayer_city': 'NEW YORK',\n",
       "  'taxpayer_state': 'NY',\n",
       "  'taxpayer_zip': '10006',\n",
       "  'taxpayer_county': '0',\n",
       "  'location_number': '1',\n",
       "  'location_name': 'AT&T STADIUM',\n",
       "  'location_address': '1 LEGENDS WAY',\n",
       "  'location_city': 'ARLINGTON',\n",
       "  'location_state': 'TX',\n",
       "  'location_zip': '76011',\n",
       "  'location_county': '220',\n",
       "  'inside_outside_city_limits_code_y_n': 'Y',\n",
       "  'tabc_permit_number': 'MB722028',\n",
       "  'responsibility_begin_date_yyyymmdd': '2009-05-15T00:00:00.000',\n",
       "  'obligation_end_date_yyyymmdd': '2018-09-30T00:00:00.000',\n",
       "  'liquor_receipts': '1892540',\n",
       "  'wine_receipts': '274367',\n",
       "  'beer_receipts': '2261667',\n",
       "  'cover_charge_receipts': '0',\n",
       "  'total_receipts': '4428574'},\n",
       " {'taxpayer_number': '12633932723',\n",
       "  'taxpayer_name': 'LEGENDS HOSPITALITY, LLC',\n",
       "  'taxpayer_address': '61 BROADWAY STE 2400',\n",
       "  'taxpayer_city': 'NEW YORK',\n",
       "  'taxpayer_state': 'NY',\n",
       "  'taxpayer_zip': '10006',\n",
       "  'taxpayer_county': '0',\n",
       "  'location_number': '1',\n",
       "  'location_name': 'AT&T STADIUM',\n",
       "  'location_address': '1 LEGENDS WAY',\n",
       "  'location_city': 'ARLINGTON',\n",
       "  'location_state': 'TX',\n",
       "  'location_zip': '76011',\n",
       "  'location_county': '220',\n",
       "  'inside_outside_city_limits_code_y_n': 'Y',\n",
       "  'tabc_permit_number': 'MB722028',\n",
       "  'responsibility_begin_date_yyyymmdd': '2009-05-15T00:00:00.000',\n",
       "  'obligation_end_date_yyyymmdd': '2016-12-31T00:00:00.000',\n",
       "  'liquor_receipts': '1455140',\n",
       "  'wine_receipts': '253551',\n",
       "  'beer_receipts': '2498606',\n",
       "  'cover_charge_receipts': '0',\n",
       "  'total_receipts': '4207297'},\n",
       " {'taxpayer_number': '12633932723',\n",
       "  'taxpayer_name': 'LEGENDS HOSPITALITY, LLC',\n",
       "  'taxpayer_address': '61 BROADWAY STE 2400',\n",
       "  'taxpayer_city': 'NEW YORK',\n",
       "  'taxpayer_state': 'NY',\n",
       "  'taxpayer_zip': '10006',\n",
       "  'taxpayer_county': '0',\n",
       "  'location_number': '1',\n",
       "  'location_name': 'AT&T STADIUM',\n",
       "  'location_address': '1 LEGENDS WAY',\n",
       "  'location_city': 'ARLINGTON',\n",
       "  'location_state': 'TX',\n",
       "  'location_zip': '76011',\n",
       "  'location_county': '220',\n",
       "  'inside_outside_city_limits_code_y_n': 'Y',\n",
       "  'tabc_permit_number': 'MB722028',\n",
       "  'responsibility_begin_date_yyyymmdd': '2009-05-15T00:00:00.000',\n",
       "  'obligation_end_date_yyyymmdd': '2010-10-31T00:00:00.000',\n",
       "  'liquor_receipts': '1172566',\n",
       "  'wine_receipts': '269816',\n",
       "  'beer_receipts': '2616943',\n",
       "  'cover_charge_receipts': '0',\n",
       "  'total_receipts': '4059325'}]"
      ]
     },
     "execution_count": 156,
     "metadata": {},
     "output_type": "execute_result"
    }
   ],
   "source": [
    "entities"
   ]
  },
  {
   "cell_type": "code",
   "execution_count": 163,
   "metadata": {},
   "outputs": [
    {
     "data": {
      "text/plain": [
       "True"
      ]
     },
     "execution_count": 163,
     "metadata": {},
     "output_type": "execute_result"
    }
   ],
   "source": [
    "len(targets) == len(entities)\n",
    "# True"
   ]
  },
  {
   "cell_type": "markdown",
   "metadata": {},
   "source": [
    "### 3. Move the remaining code into an object \n",
    "\n",
    "At this point, we successfully have transformed a list of dictionaries from an API into a list of objects.  But we need to keep cleaning up our code.  To do this, look at the code outside of a class, and move it into a class, with a method name of run."
   ]
  },
  {
   "cell_type": "code",
   "execution_count": 135,
   "metadata": {},
   "outputs": [],
   "source": [
    "class LocationAdapter:\n",
    "  def __init__(self, location_dicts):\n",
    "    self._location_dicts = location_dicts\n",
    "    \n",
    "  def run(self):\n",
    "    self._targets = []\n",
    "    for location_dict in self._location_dicts: \n",
    "      selected_attr = {'address': location_dict['location_address'], \n",
    "                       'city': location_dict['location_city'], \n",
    "                       'state': location_dict['location_state'],\n",
    "                       'zip':  location_dict['location_zip']}\n",
    "      target = Location(selected_attr['address'], selected_attr['city'],\n",
    "                        selected_attr['state'], selected_attr['zip'])\n",
    "      self._targets.append(target)\n",
    "    return self._targets"
   ]
  },
  {
   "cell_type": "markdown",
   "metadata": {},
   "source": [
    "Let's marke sure that this works."
   ]
  },
  {
   "cell_type": "code",
   "execution_count": 147,
   "metadata": {},
   "outputs": [],
   "source": [
    "location_adapter = LocationAdapter(entities)\n",
    "# change the above line to reference your adapter\n",
    "results = location_adapter.run()"
   ]
  },
  {
   "cell_type": "code",
   "execution_count": 164,
   "metadata": {},
   "outputs": [
    {
     "data": {
      "text/plain": [
       "True"
      ]
     },
     "execution_count": 164,
     "metadata": {},
     "output_type": "execute_result"
    }
   ],
   "source": [
    "len(results) == len(targets)\n",
    "# True"
   ]
  },
  {
   "cell_type": "markdown",
   "metadata": {},
   "source": [
    "### 4. Make the methods smaller"
   ]
  },
  {
   "cell_type": "markdown",
   "metadata": {},
   "source": [
    "Next, separate out the run method in the adapter class smaller.  Do this by first writing comments in the code, and then moving the code into separate methods.  Please leave the comments in your code.  Your methods should be no longer than five lines long, and there can only be a total of one `if else` statement or `loop` per method.  Having both an `if else` and a `loop` in any method is also too complicated -- don't do it."
   ]
  },
  {
   "cell_type": "code",
   "execution_count": 78,
   "metadata": {},
   "outputs": [],
   "source": [
    "class FooAdapter:\n",
    "    # def run():\n",
    "        # do this\n",
    "        \n",
    "        # and this\n",
    "    pass"
   ]
  },
  {
   "cell_type": "code",
   "execution_count": 165,
   "metadata": {},
   "outputs": [],
   "source": [
    "class LocationAdapter:\n",
    "    # initiation method\n",
    "  def __init__(self, location_dicts):\n",
    "    self._location_dicts = location_dicts\n",
    "    \n",
    "  # run method to generate result  \n",
    "  def run(self):\n",
    "    self._targets = []\n",
    "    for location_dict in self._location_dicts:\n",
    "        target = Location(location_dict['location_address'], location_dict['location_city'], location_dict['location_state'], location_dict['location_zip'])\n",
    "        self._targets.append(target)\n",
    "    return self._targets"
   ]
  },
  {
   "cell_type": "code",
   "execution_count": 167,
   "metadata": {},
   "outputs": [
    {
     "data": {
      "text/plain": [
       "True"
      ]
     },
     "execution_count": 167,
     "metadata": {},
     "output_type": "execute_result"
    }
   ],
   "source": [
    "location_adapter = LocationAdapter(entities)\n",
    "# change the above line to reference your adapter\n",
    "results = location_adapter.run()\n",
    "len(results) == len(targets)"
   ]
  },
  {
   "cell_type": "markdown",
   "metadata": {},
   "source": [
    "### 5. Create the client class"
   ]
  },
  {
   "cell_type": "markdown",
   "metadata": {},
   "source": [
    "Next move calls to the API into their own separate class.  This way we can call the API but later to decide to coerce the data into different types of objects than we did above."
   ]
  },
  {
   "cell_type": "code",
   "execution_count": 171,
   "metadata": {},
   "outputs": [],
   "source": [
    "import requests\n",
    "class ClientAPI:\n",
    "    def run(self):\n",
    "        url = \"https://data.texas.gov/resource/naix-2893.json?$order=total_receipts DESC&$LIMIT=10\"\n",
    "        return requests.get(url).json()"
   ]
  },
  {
   "cell_type": "markdown",
   "metadata": {},
   "source": [
    "Place the updated Adapter class below.  Check that it still works as it did before."
   ]
  },
  {
   "cell_type": "code",
   "execution_count": 177,
   "metadata": {},
   "outputs": [],
   "source": [
    "class RefactoredLocationAdapter:\n",
    "    # initiation method\n",
    "    def __init__(self, location_dicts):\n",
    "        self._location_dicts = location_dicts\n",
    "    \n",
    "    # run method to generate result  \n",
    "    def run(self):\n",
    "        self._targets = []\n",
    "        for location_dict in self._location_dicts:\n",
    "            target = Location(location_dict['location_address'], location_dict['location_city'], location_dict['location_state'], location_dict['location_zip'])\n",
    "            self._targets.append(target)\n",
    "        return self._targets"
   ]
  },
  {
   "cell_type": "code",
   "execution_count": 178,
   "metadata": {},
   "outputs": [
    {
     "data": {
      "text/plain": [
       "True"
      ]
     },
     "execution_count": 178,
     "metadata": {},
     "output_type": "execute_result"
    }
   ],
   "source": [
    "client_api = ClientAPI()\n",
    "refactored_adapter = RefactoredLocationAdapter(client_api.run())\n",
    "len(refactored_adapter.run()) == len(location_adapter.run())"
   ]
  },
  {
   "cell_type": "markdown",
   "metadata": {},
   "source": [
    "### Summary"
   ]
  },
  {
   "cell_type": "markdown",
   "metadata": {},
   "source": [
    "Great job!  Hopefully, you saw how by building our code and then slowly refactoring our code, we can eventually get to some clean code."
   ]
  }
 ],
 "metadata": {
  "kernelspec": {
   "display_name": "Python 3",
   "language": "python",
   "name": "python3"
  },
  "language_info": {
   "codemirror_mode": {
    "name": "ipython",
    "version": 3
   },
   "file_extension": ".py",
   "mimetype": "text/x-python",
   "name": "python",
   "nbconvert_exporter": "python",
   "pygments_lexer": "ipython3",
   "version": "3.7.1"
  }
 },
 "nbformat": 4,
 "nbformat_minor": 2
}
