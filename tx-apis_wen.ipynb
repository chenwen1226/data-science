{
 "cells": [
  {
   "cell_type": "markdown",
   "metadata": {},
   "source": [
    "### Introduction\n",
    "\n",
    "Let's continue to use the Texas Mixed Beverage API.  The documentation can be found [here](https://dev.socrata.com/foundry/data.texas.gov/naix-2893) (go to the page and scroll down) and [here](https://dev.socrata.com/docs/queries/).\n",
    "\n"
   ]
  },
  {
   "cell_type": "markdown",
   "metadata": {},
   "source": [
    "### Complete the following tasks."
   ]
  },
  {
   "cell_type": "markdown",
   "metadata": {},
   "source": [
    "1. Find all of the restaurants listed with a zip code of `75002` and store that list of dictionaries in the variable labled `results`."
   ]
  },
  {
   "cell_type": "code",
   "execution_count": 20,
   "metadata": {},
   "outputs": [],
   "source": [
    "url = \"https://data.texas.gov/resource/naix-2893.json?$where=location_zip = '75002'\""
   ]
  },
  {
   "cell_type": "code",
   "execution_count": 24,
   "metadata": {},
   "outputs": [],
   "source": [
    "import requests\n",
    "response = requests.get(url)\n",
    "results = response.json()"
   ]
  },
  {
   "cell_type": "code",
   "execution_count": 25,
   "metadata": {},
   "outputs": [
    {
     "data": {
      "text/plain": [
       "1000"
      ]
     },
     "execution_count": 25,
     "metadata": {},
     "output_type": "execute_result"
    }
   ],
   "source": [
    "len(results)\n",
    "# 1000"
   ]
  },
  {
   "cell_type": "code",
   "execution_count": 26,
   "metadata": {},
   "outputs": [
    {
     "data": {
      "text/plain": [
       "[{'taxpayer_number': '32038712256',\n",
       "  'taxpayer_name': 'ALLEN CY CATERING CO., INC.',\n",
       "  'taxpayer_address': '4243 HUNT RD',\n",
       "  'taxpayer_city': 'BLUE ASH',\n",
       "  'taxpayer_state': 'OH',\n",
       "  'taxpayer_zip': '45242',\n",
       "  'taxpayer_county': '0',\n",
       "  'location_number': '1',\n",
       "  'location_name': 'ALLEN CY CATERING CO., INC.',\n",
       "  'location_address': '210 E STACY RD BLDG 1250',\n",
       "  'location_city': 'ALLEN',\n",
       "  'location_state': 'TX',\n",
       "  'location_zip': '75002',\n",
       "  'location_county': '43',\n",
       "  'inside_outside_city_limits_code_y_n': 'Y',\n",
       "  'tabc_permit_number': 'RM732181',\n",
       "  'responsibility_begin_date_yyyymmdd': '2009-09-22T00:00:00.000',\n",
       "  'obligation_end_date_yyyymmdd': '2012-04-30T00:00:00.000',\n",
       "  'liquor_receipts': '5415',\n",
       "  'wine_receipts': '5429',\n",
       "  'beer_receipts': '3453',\n",
       "  'cover_charge_receipts': '0',\n",
       "  'total_receipts': '14297'},\n",
       " {'taxpayer_number': '32038712256',\n",
       "  'taxpayer_name': 'ALLEN CY CATERING CO., INC.',\n",
       "  'taxpayer_address': '4243 HUNT RD',\n",
       "  'taxpayer_city': 'BLUE ASH',\n",
       "  'taxpayer_state': 'OH',\n",
       "  'taxpayer_zip': '45242',\n",
       "  'taxpayer_county': '0',\n",
       "  'location_number': '1',\n",
       "  'location_name': 'ALLEN CY CATERING CO., INC.',\n",
       "  'location_address': '210 E STACY RD BLDG 1250',\n",
       "  'location_city': 'ALLEN',\n",
       "  'location_state': 'TX',\n",
       "  'location_zip': '75002',\n",
       "  'location_county': '43',\n",
       "  'inside_outside_city_limits_code_y_n': 'Y',\n",
       "  'tabc_permit_number': 'RM732181',\n",
       "  'responsibility_begin_date_yyyymmdd': '2009-09-22T00:00:00.000',\n",
       "  'obligation_end_date_yyyymmdd': '2011-06-30T00:00:00.000',\n",
       "  'liquor_receipts': '11057',\n",
       "  'wine_receipts': '6486',\n",
       "  'beer_receipts': '8593',\n",
       "  'cover_charge_receipts': '0',\n",
       "  'total_receipts': '26136'}]"
      ]
     },
     "execution_count": 26,
     "metadata": {},
     "output_type": "execute_result"
    }
   ],
   "source": [
    "results[0:2]"
   ]
  },
  {
   "cell_type": "markdown",
   "metadata": {},
   "source": [
    "Now make another API call, and display only those results who had total receipts of 0."
   ]
  },
  {
   "cell_type": "code",
   "execution_count": 30,
   "metadata": {},
   "outputs": [],
   "source": [
    "url = \"https://data.texas.gov/resource/naix-2893.json?$where=location_zip = '75002' AND total_receipts = '0'\"\n",
    "import requests\n",
    "response = requests.get(url)\n",
    "results_with_zero = response.json()"
   ]
  },
  {
   "cell_type": "code",
   "execution_count": 33,
   "metadata": {},
   "outputs": [
    {
     "data": {
      "text/plain": [
       "{'taxpayer_number': '17429023728',\n",
       " 'taxpayer_name': \"LOGAN'S ROADHOUSE OF TEXAS, INC.\",\n",
       " 'taxpayer_address': '3011 ARMORY DR STE 300',\n",
       " 'taxpayer_city': 'NASHVILLE',\n",
       " 'taxpayer_state': 'TN',\n",
       " 'taxpayer_zip': '37204',\n",
       " 'taxpayer_county': '0',\n",
       " 'location_number': '44',\n",
       " 'location_name': \"LOGAN'S ROADHOUSE\",\n",
       " 'location_address': '190 E STACY RD',\n",
       " 'location_city': 'ALLEN',\n",
       " 'location_state': 'TX',\n",
       " 'location_zip': '75002',\n",
       " 'location_county': '43',\n",
       " 'inside_outside_city_limits_code_y_n': 'Y',\n",
       " 'tabc_permit_number': 'RM765105',\n",
       " 'responsibility_begin_date_yyyymmdd': '2011-01-07T00:00:00.000',\n",
       " 'responsibility_end_date_yyyymmdd': '2016-11-08T00:00:00.000',\n",
       " 'obligation_end_date_yyyymmdd': '2011-01-31T00:00:00.000',\n",
       " 'liquor_receipts': '0',\n",
       " 'wine_receipts': '0',\n",
       " 'beer_receipts': '0',\n",
       " 'cover_charge_receipts': '0',\n",
       " 'total_receipts': '0'}"
      ]
     },
     "execution_count": 33,
     "metadata": {},
     "output_type": "execute_result"
    }
   ],
   "source": [
    "results_with_zero[0]"
   ]
  },
  {
   "cell_type": "code",
   "execution_count": 32,
   "metadata": {},
   "outputs": [
    {
     "data": {
      "text/plain": [
       "99"
      ]
     },
     "execution_count": 32,
     "metadata": {},
     "output_type": "execute_result"
    }
   ],
   "source": [
    "len(results_with_zero)\n",
    "# 99 "
   ]
  },
  {
   "cell_type": "markdown",
   "metadata": {},
   "source": [
    "Next let's try to find the top five results in that zip code with the highest total_receipts.  "
   ]
  },
  {
   "cell_type": "markdown",
   "metadata": {},
   "source": [
    "> Hint: Think about how this is done in SQL."
   ]
  },
  {
   "cell_type": "code",
   "execution_count": 57,
   "metadata": {},
   "outputs": [],
   "source": [
    "url = \"https://data.texas.gov/resource/naix-2893.json?$where=location_zip ='75002'&$order=total_receipts DESC&$LIMIT=5\"\n",
    "import requests\n",
    "response = requests.get(url)\n",
    "results_of_highest = response.json()"
   ]
  },
  {
   "cell_type": "code",
   "execution_count": 58,
   "metadata": {},
   "outputs": [
    {
     "data": {
      "text/plain": [
       "[{'taxpayer_number': '12736548525',\n",
       "  'taxpayer_name': 'TOPGOLF USA ALLEN, LLC',\n",
       "  'taxpayer_address': '8750 N CENTRAL EXPY STE 1200',\n",
       "  'taxpayer_city': 'DALLAS',\n",
       "  'taxpayer_state': 'TX',\n",
       "  'taxpayer_zip': '75231',\n",
       "  'taxpayer_county': '57',\n",
       "  'location_number': '1',\n",
       "  'location_name': 'BURGERS & BOTTLES',\n",
       "  'location_address': '1500 ALLEN STATION PKWY',\n",
       "  'location_city': 'ALLEN',\n",
       "  'location_state': 'TX',\n",
       "  'location_zip': '75002',\n",
       "  'location_county': '43',\n",
       "  'inside_outside_city_limits_code_y_n': 'Y',\n",
       "  'tabc_permit_number': 'RM773027',\n",
       "  'responsibility_begin_date_yyyymmdd': '2011-04-15T00:00:00.000',\n",
       "  'obligation_end_date_yyyymmdd': '2012-11-30T00:00:00.000',\n",
       "  'liquor_receipts': '151455',\n",
       "  'wine_receipts': '22735',\n",
       "  'beer_receipts': '229655',\n",
       "  'cover_charge_receipts': '0',\n",
       "  'total_receipts': '403845'},\n",
       " {'taxpayer_number': '12736548525',\n",
       "  'taxpayer_name': 'TOPGOLF USA ALLEN, LLC',\n",
       "  'taxpayer_address': '8750 N CENTRAL EXPY STE 1200',\n",
       "  'taxpayer_city': 'DALLAS',\n",
       "  'taxpayer_state': 'TX',\n",
       "  'taxpayer_zip': '75231',\n",
       "  'taxpayer_county': '57',\n",
       "  'location_number': '1',\n",
       "  'location_name': 'BURGERS & BOTTLES',\n",
       "  'location_address': '1500 ALLEN STATION PKWY',\n",
       "  'location_city': 'ALLEN',\n",
       "  'location_state': 'TX',\n",
       "  'location_zip': '75002',\n",
       "  'location_county': '43',\n",
       "  'inside_outside_city_limits_code_y_n': 'Y',\n",
       "  'tabc_permit_number': 'RM773027',\n",
       "  'responsibility_begin_date_yyyymmdd': '2011-04-15T00:00:00.000',\n",
       "  'obligation_end_date_yyyymmdd': '2013-05-31T00:00:00.000',\n",
       "  'liquor_receipts': '147229',\n",
       "  'wine_receipts': '17470',\n",
       "  'beer_receipts': '194749',\n",
       "  'cover_charge_receipts': '0',\n",
       "  'total_receipts': '359448'},\n",
       " {'taxpayer_number': '12736548525',\n",
       "  'taxpayer_name': 'TOPGOLF USA ALLEN, LLC',\n",
       "  'taxpayer_address': '8750 N CENTRAL EXPY STE 1200',\n",
       "  'taxpayer_city': 'DALLAS',\n",
       "  'taxpayer_state': 'TX',\n",
       "  'taxpayer_zip': '75231',\n",
       "  'taxpayer_county': '57',\n",
       "  'location_number': '1',\n",
       "  'location_name': 'BURGERS & BOTTLES',\n",
       "  'location_address': '1500 ALLEN STATION PKWY',\n",
       "  'location_city': 'ALLEN',\n",
       "  'location_state': 'TX',\n",
       "  'location_zip': '75002',\n",
       "  'location_county': '43',\n",
       "  'inside_outside_city_limits_code_y_n': 'Y',\n",
       "  'tabc_permit_number': 'RM773027',\n",
       "  'responsibility_begin_date_yyyymmdd': '2011-04-15T00:00:00.000',\n",
       "  'obligation_end_date_yyyymmdd': '2013-06-30T00:00:00.000',\n",
       "  'liquor_receipts': '135385',\n",
       "  'wine_receipts': '16796',\n",
       "  'beer_receipts': '192657',\n",
       "  'cover_charge_receipts': '0',\n",
       "  'total_receipts': '344838'},\n",
       " {'taxpayer_number': '12736548525',\n",
       "  'taxpayer_name': 'TOPGOLF USA ALLEN, LLC',\n",
       "  'taxpayer_address': '8750 N CENTRAL EXPY STE 1200',\n",
       "  'taxpayer_city': 'DALLAS',\n",
       "  'taxpayer_state': 'TX',\n",
       "  'taxpayer_zip': '75231',\n",
       "  'taxpayer_county': '57',\n",
       "  'location_number': '1',\n",
       "  'location_name': 'BURGERS & BOTTLES',\n",
       "  'location_address': '1500 ALLEN STATION PKWY',\n",
       "  'location_city': 'ALLEN',\n",
       "  'location_state': 'TX',\n",
       "  'location_zip': '75002',\n",
       "  'location_county': '43',\n",
       "  'inside_outside_city_limits_code_y_n': 'Y',\n",
       "  'tabc_permit_number': 'RM773027',\n",
       "  'responsibility_begin_date_yyyymmdd': '2011-04-15T00:00:00.000',\n",
       "  'obligation_end_date_yyyymmdd': '2013-03-31T00:00:00.000',\n",
       "  'liquor_receipts': '130571',\n",
       "  'wine_receipts': '18237',\n",
       "  'beer_receipts': '192278',\n",
       "  'cover_charge_receipts': '0',\n",
       "  'total_receipts': '341086'},\n",
       " {'taxpayer_number': '12736548525',\n",
       "  'taxpayer_name': 'TOPGOLF USA ALLEN, LLC',\n",
       "  'taxpayer_address': '8750 N CENTRAL EXPY STE 1200',\n",
       "  'taxpayer_city': 'DALLAS',\n",
       "  'taxpayer_state': 'TX',\n",
       "  'taxpayer_zip': '75231',\n",
       "  'taxpayer_county': '57',\n",
       "  'location_number': '1',\n",
       "  'location_name': 'BURGERS & BOTTLES',\n",
       "  'location_address': '1500 ALLEN STATION PKWY',\n",
       "  'location_city': 'ALLEN',\n",
       "  'location_state': 'TX',\n",
       "  'location_zip': '75002',\n",
       "  'location_county': '43',\n",
       "  'inside_outside_city_limits_code_y_n': 'Y',\n",
       "  'tabc_permit_number': 'RM773027',\n",
       "  'responsibility_begin_date_yyyymmdd': '2011-04-15T00:00:00.000',\n",
       "  'obligation_end_date_yyyymmdd': '2013-08-31T00:00:00.000',\n",
       "  'liquor_receipts': '120241',\n",
       "  'wine_receipts': '16541',\n",
       "  'beer_receipts': '196756',\n",
       "  'cover_charge_receipts': '0',\n",
       "  'total_receipts': '333538'}]"
      ]
     },
     "execution_count": 58,
     "metadata": {},
     "output_type": "execute_result"
    }
   ],
   "source": [
    "results_of_highest"
   ]
  },
  {
   "cell_type": "code",
   "execution_count": 59,
   "metadata": {},
   "outputs": [
    {
     "data": {
      "text/plain": [
       "['403845', '359448', '344838', '341086', '333538']"
      ]
     },
     "execution_count": 59,
     "metadata": {},
     "output_type": "execute_result"
    }
   ],
   "source": [
    "list(map(lambda result: result['total_receipts'],results_of_highest))\n",
    "# ['403845', '359448', '344838', '341086', '333538']"
   ]
  },
  {
   "cell_type": "markdown",
   "metadata": {},
   "source": [
    "### Summary "
   ]
  },
  {
   "cell_type": "markdown",
   "metadata": {},
   "source": [
    "Great job.  Continue to search through this API, and see the different queries that you can make.  Note that this is how many governmental APIs work."
   ]
  }
 ],
 "metadata": {
  "kernelspec": {
   "display_name": "Python 3",
   "language": "python",
   "name": "python3"
  },
  "language_info": {
   "codemirror_mode": {
    "name": "ipython",
    "version": 3
   },
   "file_extension": ".py",
   "mimetype": "text/x-python",
   "name": "python",
   "nbconvert_exporter": "python",
   "pygments_lexer": "ipython3",
   "version": "3.7.1"
  }
 },
 "nbformat": 4,
 "nbformat_minor": 2
}
