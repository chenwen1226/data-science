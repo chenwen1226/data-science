{
 "cells": [
  {
   "cell_type": "markdown",
   "metadata": {},
   "source": [
    "# Object Lifecycle Practice"
   ]
  },
  {
   "cell_type": "markdown",
   "metadata": {},
   "source": [
    "### Introduction"
   ]
  },
  {
   "cell_type": "markdown",
   "metadata": {},
   "source": [
    "Now that we know about our object lifecycle method, let's refactor our previous class.  Copy and paste in your previous `Bundle` class from the `Understanding Self Lab`."
   ]
  },
  {
   "cell_type": "code",
   "execution_count": 4,
   "metadata": {},
   "outputs": [],
   "source": [
    "class Bundle:\n",
    "    def __init__(self, weight, dropoff_month, dropoff_day):\n",
    "        self.weight = weight\n",
    "        self.dropoff_month = dropoff_month\n",
    "        self.dropoff_day = dropoff_day\n",
    "    \n",
    "    def weight(self,weight):\n",
    "        self.weight = weight\n",
    "        \n",
    "    def price(self):\n",
    "        if self.weight <= 5:\n",
    "            return 10\n",
    "        else :\n",
    "            return 10 + 1.5 * (self.weight - 5)\n",
    "    \n",
    "    def processingDays(self):\n",
    "        return (self.ready_month - self.dropoff_month) * 30 + (self.ready_day - self.dropoff_day)\n",
    "    \n",
    "    def holdingDays(self):\n",
    "        return (self.pickup_month - self.dropoff_month) * 30 + (self.pickup_day - self.dropoff_day)"
   ]
  },
  {
   "cell_type": "markdown",
   "metadata": {},
   "source": [
    "### Refactoring"
   ]
  },
  {
   "cell_type": "markdown",
   "metadata": {},
   "source": [
    "Let's create one of our bundles."
   ]
  },
  {
   "cell_type": "code",
   "execution_count": 8,
   "metadata": {},
   "outputs": [
    {
     "data": {
      "text/plain": [
       "{'weight': 4, 'dropoff_month': 5, 'dropoff_day': 9}"
      ]
     },
     "execution_count": 8,
     "metadata": {},
     "output_type": "execute_result"
    }
   ],
   "source": [
    "bundle = Bundle(4, 5, 9)\n",
    "bundle.__dict__"
   ]
  },
  {
   "cell_type": "code",
   "execution_count": 3,
   "metadata": {},
   "outputs": [
    {
     "data": {
      "text/plain": [
       "dict_keys(['dropoff_month', 'dropoff_day', 'ready_month', 'ready_day'])"
      ]
     },
     "execution_count": 3,
     "metadata": {},
     "output_type": "execute_result"
    }
   ],
   "source": [
    "from test_helpers import addDaysToBundle\n",
    "\n",
    "bundle = Bundle()\n",
    "\n",
    "bundle\n",
    "\n",
    "addDaysToBundle(bundle)\n",
    "bundle.__dict__.keys()"
   ]
  },
  {
   "cell_type": "markdown",
   "metadata": {},
   "source": [
    "Now if we add an `__init__` method to our class, we are requiring certain information to be provided when we initialize the object.  Think about what information should be moved be required when initializing, and change the `Bundle` class accordingly."
   ]
  },
  {
   "cell_type": "code",
   "execution_count": null,
   "metadata": {},
   "outputs": [],
   "source": []
  }
 ],
 "metadata": {
  "kernelspec": {
   "display_name": "Python 3",
   "language": "python",
   "name": "python3"
  },
  "language_info": {
   "codemirror_mode": {
    "name": "ipython",
    "version": 3
   },
   "file_extension": ".py",
   "mimetype": "text/x-python",
   "name": "python",
   "nbconvert_exporter": "python",
   "pygments_lexer": "ipython3",
   "version": "3.7.1"
  }
 },
 "nbformat": 4,
 "nbformat_minor": 2
}
