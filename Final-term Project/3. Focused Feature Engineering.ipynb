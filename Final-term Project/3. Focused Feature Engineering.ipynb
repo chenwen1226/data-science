{
 "cells": [
  {
   "cell_type": "code",
   "execution_count": 1,
   "metadata": {},
   "outputs": [
    {
     "data": {
      "text/plain": [
       "0.5605871536030607"
      ]
     },
     "execution_count": 1,
     "metadata": {},
     "output_type": "execute_result"
    }
   ],
   "source": [
    "import pandas as pd\n",
    "from sklearn.ensemble import RandomForestRegressor\n",
    "\n",
    "X_train = pd.read_feather('./X_train.feather')\n",
    "y_train = pd.read_feather('./y_train.feather')['prices.amountMax']\n",
    "\n",
    "X_val = pd.read_feather('./X_val.feather')\n",
    "y_val = pd.read_feather('./y_val.feather')['prices.amountMax']\n",
    "\n",
    "rfr = RandomForestRegressor(n_estimators=40, max_features='log2')\n",
    "rfr.fit(X_train, y_train)\n",
    "rfr.score(X_val, y_val)"
   ]
  },
  {
   "cell_type": "code",
   "execution_count": 2,
   "metadata": {},
   "outputs": [],
   "source": [
    "import eli5\n",
    "from eli5.sklearn import PermutationImportance\n",
    "pmi_limited = PermutationImportance(rfr).fit(X_val, y_val)"
   ]
  },
  {
   "cell_type": "code",
   "execution_count": 3,
   "metadata": {},
   "outputs": [
    {
     "data": {
      "text/html": [
       "<div>\n",
       "<style scoped>\n",
       "    .dataframe tbody tr th:only-of-type {\n",
       "        vertical-align: middle;\n",
       "    }\n",
       "\n",
       "    .dataframe tbody tr th {\n",
       "        vertical-align: top;\n",
       "    }\n",
       "\n",
       "    .dataframe thead th {\n",
       "        text-align: right;\n",
       "    }\n",
       "</style>\n",
       "<table border=\"1\" class=\"dataframe\">\n",
       "  <thead>\n",
       "    <tr style=\"text-align: right;\">\n",
       "      <th></th>\n",
       "      <th>feature</th>\n",
       "      <th>weight</th>\n",
       "      <th>std</th>\n",
       "    </tr>\n",
       "  </thead>\n",
       "  <tbody>\n",
       "    <tr>\n",
       "      <th>0</th>\n",
       "      <td>prices.isSale</td>\n",
       "      <td>0.363952</td>\n",
       "      <td>0.010768</td>\n",
       "    </tr>\n",
       "    <tr>\n",
       "      <th>1</th>\n",
       "      <td>prices.dateSeenElapsed</td>\n",
       "      <td>0.339953</td>\n",
       "      <td>0.025215</td>\n",
       "    </tr>\n",
       "    <tr>\n",
       "      <th>2</th>\n",
       "      <td>brand_other</td>\n",
       "      <td>0.154950</td>\n",
       "      <td>0.023055</td>\n",
       "    </tr>\n",
       "    <tr>\n",
       "      <th>3</th>\n",
       "      <td>brand_Dansko</td>\n",
       "      <td>0.140032</td>\n",
       "      <td>0.015172</td>\n",
       "    </tr>\n",
       "    <tr>\n",
       "      <th>4</th>\n",
       "      <td>categories_Boots</td>\n",
       "      <td>0.096119</td>\n",
       "      <td>0.008599</td>\n",
       "    </tr>\n",
       "    <tr>\n",
       "      <th>5</th>\n",
       "      <td>manufacturerNumber_other</td>\n",
       "      <td>0.069657</td>\n",
       "      <td>0.004625</td>\n",
       "    </tr>\n",
       "    <tr>\n",
       "      <th>6</th>\n",
       "      <td>brand_Ugg</td>\n",
       "      <td>0.064418</td>\n",
       "      <td>0.005905</td>\n",
       "    </tr>\n",
       "    <tr>\n",
       "      <th>7</th>\n",
       "      <td>categories_Slippers</td>\n",
       "      <td>0.054026</td>\n",
       "      <td>0.005704</td>\n",
       "    </tr>\n",
       "    <tr>\n",
       "      <th>8</th>\n",
       "      <td>categories_Athletic</td>\n",
       "      <td>0.044342</td>\n",
       "      <td>0.004159</td>\n",
       "    </tr>\n",
       "    <tr>\n",
       "      <th>9</th>\n",
       "      <td>manufacturer_Nike</td>\n",
       "      <td>0.031118</td>\n",
       "      <td>0.011810</td>\n",
       "    </tr>\n",
       "    <tr>\n",
       "      <th>10</th>\n",
       "      <td>colors_Green</td>\n",
       "      <td>0.025795</td>\n",
       "      <td>0.006530</td>\n",
       "    </tr>\n",
       "  </tbody>\n",
       "</table>\n",
       "</div>"
      ],
      "text/plain": [
       "                     feature    weight       std\n",
       "0              prices.isSale  0.363952  0.010768\n",
       "1     prices.dateSeenElapsed  0.339953  0.025215\n",
       "2                brand_other  0.154950  0.023055\n",
       "3               brand_Dansko  0.140032  0.015172\n",
       "4           categories_Boots  0.096119  0.008599\n",
       "5   manufacturerNumber_other  0.069657  0.004625\n",
       "6                  brand_Ugg  0.064418  0.005905\n",
       "7        categories_Slippers  0.054026  0.005704\n",
       "8        categories_Athletic  0.044342  0.004159\n",
       "9          manufacturer_Nike  0.031118  0.011810\n",
       "10              colors_Green  0.025795  0.006530"
      ]
     },
     "execution_count": 3,
     "metadata": {},
     "output_type": "execute_result"
    }
   ],
   "source": [
    "eli5.explain_weights_df(pmi_limited, feature_names = X_val.columns.to_list())"
   ]
  },
  {
   "cell_type": "markdown",
   "metadata": {},
   "source": [
    "Let's try to remove prices.dateSeenElapsed to see how score changes."
   ]
  },
  {
   "cell_type": "code",
   "execution_count": 4,
   "metadata": {},
   "outputs": [
    {
     "data": {
      "text/plain": [
       "0.4492823180372233"
      ]
     },
     "execution_count": 4,
     "metadata": {},
     "output_type": "execute_result"
    }
   ],
   "source": [
    "train_drop_dateSeenElapsed = X_train.drop(columns = ['prices.dateSeenElapsed'])\n",
    "val_drop_dateSeenElapsed = X_val.drop(columns = ['prices.dateSeenElapsed'])\n",
    "rfr_dropped_dateSeenElapsed = RandomForestRegressor(n_estimators=40, max_features='log2')\n",
    "\n",
    "rfr_dropped_dateSeenElapsed.fit(train_drop_dateSeenElapsed, y_train)\n",
    "rfr_dropped_dateSeenElapsed.score(val_drop_dateSeenElapsed, y_val)"
   ]
  },
  {
   "cell_type": "markdown",
   "metadata": {},
   "source": [
    "It really drops a lot as 0.12 ."
   ]
  },
  {
   "cell_type": "code",
   "execution_count": 9,
   "metadata": {},
   "outputs": [
    {
     "data": {
      "text/html": [
       "<div>\n",
       "<style scoped>\n",
       "    .dataframe tbody tr th:only-of-type {\n",
       "        vertical-align: middle;\n",
       "    }\n",
       "\n",
       "    .dataframe tbody tr th {\n",
       "        vertical-align: top;\n",
       "    }\n",
       "\n",
       "    .dataframe thead th {\n",
       "        text-align: right;\n",
       "    }\n",
       "</style>\n",
       "<table border=\"1\" class=\"dataframe\">\n",
       "  <thead>\n",
       "    <tr style=\"text-align: right;\">\n",
       "      <th></th>\n",
       "      <th>prices.isSale</th>\n",
       "      <th>prices.dateSeenElapsed</th>\n",
       "      <th>brand_Dansko</th>\n",
       "      <th>brand_Ugg</th>\n",
       "      <th>brand_other</th>\n",
       "      <th>manufacturer_Nike</th>\n",
       "      <th>manufacturerNumber_other</th>\n",
       "      <th>categories_Athletic</th>\n",
       "      <th>categories_Boots</th>\n",
       "      <th>categories_Slippers</th>\n",
       "      <th>colors_Green</th>\n",
       "    </tr>\n",
       "  </thead>\n",
       "  <tbody>\n",
       "    <tr>\n",
       "      <th>0</th>\n",
       "      <td>0</td>\n",
       "      <td>1475539200</td>\n",
       "      <td>0</td>\n",
       "      <td>0</td>\n",
       "      <td>1</td>\n",
       "      <td>0</td>\n",
       "      <td>1</td>\n",
       "      <td>0</td>\n",
       "      <td>0</td>\n",
       "      <td>0</td>\n",
       "      <td>0</td>\n",
       "    </tr>\n",
       "    <tr>\n",
       "      <th>1</th>\n",
       "      <td>0</td>\n",
       "      <td>1490400000</td>\n",
       "      <td>1</td>\n",
       "      <td>0</td>\n",
       "      <td>0</td>\n",
       "      <td>0</td>\n",
       "      <td>0</td>\n",
       "      <td>0</td>\n",
       "      <td>0</td>\n",
       "      <td>0</td>\n",
       "      <td>0</td>\n",
       "    </tr>\n",
       "    <tr>\n",
       "      <th>2</th>\n",
       "      <td>0</td>\n",
       "      <td>1477353600</td>\n",
       "      <td>0</td>\n",
       "      <td>0</td>\n",
       "      <td>0</td>\n",
       "      <td>0</td>\n",
       "      <td>1</td>\n",
       "      <td>0</td>\n",
       "      <td>0</td>\n",
       "      <td>0</td>\n",
       "      <td>0</td>\n",
       "    </tr>\n",
       "    <tr>\n",
       "      <th>3</th>\n",
       "      <td>1</td>\n",
       "      <td>1478390400</td>\n",
       "      <td>0</td>\n",
       "      <td>0</td>\n",
       "      <td>0</td>\n",
       "      <td>0</td>\n",
       "      <td>1</td>\n",
       "      <td>0</td>\n",
       "      <td>0</td>\n",
       "      <td>0</td>\n",
       "      <td>0</td>\n",
       "    </tr>\n",
       "    <tr>\n",
       "      <th>4</th>\n",
       "      <td>1</td>\n",
       "      <td>1475625600</td>\n",
       "      <td>0</td>\n",
       "      <td>0</td>\n",
       "      <td>1</td>\n",
       "      <td>0</td>\n",
       "      <td>1</td>\n",
       "      <td>0</td>\n",
       "      <td>0</td>\n",
       "      <td>0</td>\n",
       "      <td>0</td>\n",
       "    </tr>\n",
       "  </tbody>\n",
       "</table>\n",
       "</div>"
      ],
      "text/plain": [
       "   prices.isSale  prices.dateSeenElapsed  brand_Dansko  brand_Ugg  \\\n",
       "0              0              1475539200             0          0   \n",
       "1              0              1490400000             1          0   \n",
       "2              0              1477353600             0          0   \n",
       "3              1              1478390400             0          0   \n",
       "4              1              1475625600             0          0   \n",
       "\n",
       "   brand_other  manufacturer_Nike  manufacturerNumber_other  \\\n",
       "0            1                  0                         1   \n",
       "1            0                  0                         0   \n",
       "2            0                  0                         1   \n",
       "3            0                  0                         1   \n",
       "4            1                  0                         1   \n",
       "\n",
       "   categories_Athletic  categories_Boots  categories_Slippers  colors_Green  \n",
       "0                    0                 0                    0             0  \n",
       "1                    0                 0                    0             0  \n",
       "2                    0                 0                    0             0  \n",
       "3                    0                 0                    0             0  \n",
       "4                    0                 0                    0             0  "
      ]
     },
     "execution_count": 9,
     "metadata": {},
     "output_type": "execute_result"
    }
   ],
   "source": [
    "X_train[:5]"
   ]
  },
  {
   "cell_type": "code",
   "execution_count": 7,
   "metadata": {},
   "outputs": [],
   "source": [
    "train_drop_dateSeenElapsed.to_feather('./X_train_1.feather')"
   ]
  },
  {
   "cell_type": "code",
   "execution_count": 8,
   "metadata": {},
   "outputs": [],
   "source": [
    "val_drop_dateSeenElapsed.to_feather('./X_val_1.feather')"
   ]
  }
 ],
 "metadata": {
  "kernelspec": {
   "display_name": "Python 3",
   "language": "python",
   "name": "python3"
  },
  "language_info": {
   "codemirror_mode": {
    "name": "ipython",
    "version": 3
   },
   "file_extension": ".py",
   "mimetype": "text/x-python",
   "name": "python",
   "nbconvert_exporter": "python",
   "pygments_lexer": "ipython3",
   "version": "3.7.3"
  }
 },
 "nbformat": 4,
 "nbformat_minor": 2
}
