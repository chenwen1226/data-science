{
 "cells": [
  {
   "cell_type": "markdown",
   "metadata": {},
   "source": [
    "# Tree Numbers and Subsampling Features"
   ]
  },
  {
   "cell_type": "markdown",
   "metadata": {},
   "source": [
    "### Loading Data"
   ]
  },
  {
   "cell_type": "markdown",
   "metadata": {},
   "source": [
    "Let's work with our women shoes price data."
   ]
  },
  {
   "cell_type": "code",
   "execution_count": 1,
   "metadata": {},
   "outputs": [],
   "source": [
    "from sklearn.model_selection import train_test_split\n",
    "import json\n",
    "import pandas as pd\n",
    "import numpy as np\n",
    "\n",
    "df = pd.read_csv('df2.csv')\n",
    "\n",
    "X = df.drop(columns=['Unnamed: 0', 'prices.amountMax'])\n",
    "y = df['prices.amountMax']\n",
    "\n",
    "X_train, X_test, y_train, y_test = train_test_split(X, y, test_size=0.2, random_state=1)\n",
    "\n",
    "X_train, X_val, y_train, y_val = train_test_split(X_train, y_train, test_size=0.2, random_state=1)"
   ]
  },
  {
   "cell_type": "code",
   "execution_count": 2,
   "metadata": {},
   "outputs": [
    {
     "data": {
      "text/plain": [
       "(3428, 102)"
      ]
     },
     "execution_count": 2,
     "metadata": {},
     "output_type": "execute_result"
    }
   ],
   "source": [
    "X_train.shape"
   ]
  },
  {
   "cell_type": "code",
   "execution_count": 3,
   "metadata": {},
   "outputs": [
    {
     "data": {
      "text/plain": [
       "(1072, 102)"
      ]
     },
     "execution_count": 3,
     "metadata": {},
     "output_type": "execute_result"
    }
   ],
   "source": [
    "X_test.shape"
   ]
  },
  {
   "cell_type": "code",
   "execution_count": 4,
   "metadata": {},
   "outputs": [
    {
     "data": {
      "text/plain": [
       "(857, 102)"
      ]
     },
     "execution_count": 4,
     "metadata": {},
     "output_type": "execute_result"
    }
   ],
   "source": [
    "X_val.shape"
   ]
  },
  {
   "cell_type": "code",
   "execution_count": 5,
   "metadata": {},
   "outputs": [
    {
     "name": "stdout",
     "output_type": "stream",
     "text": [
      "<class 'pandas.core.frame.DataFrame'>\n",
      "RangeIndex: 5357 entries, 0 to 5356\n",
      "Columns: 104 entries, Unnamed: 0 to prices.currency_USD\n",
      "dtypes: bool(7), float64(1), int64(96)\n",
      "memory usage: 4.0 MB\n"
     ]
    }
   ],
   "source": [
    "df.info()"
   ]
  },
  {
   "cell_type": "markdown",
   "metadata": {},
   "source": [
    "### Number of trees"
   ]
  },
  {
   "cell_type": "markdown",
   "metadata": {},
   "source": [
    "One hyperparameter that we can vary with sklearn is the number of estimators of our random forest.  Now, in general, increasing the number of trees should improve our model.  With more trees, our trees will be more varied, thus reducing the error due to variance when we aggregate our trees.  In addition, we expect more of our trees to find the underlying pattern in the data thus reducing the bias of our random forest.  \n",
    "\n",
    "However, at a certain point, adding new estimators will only provide a small benefit as they begin to be similar to earlier trained estimators.  At this point, the main cost is simply the time that it takes to work on our random forest. \n",
    "\n",
    "Let's see the benefit of adding additional trees.  We can do so by training one large random forest, and then seeing the improvement of including an additional estimator."
   ]
  },
  {
   "cell_type": "code",
   "execution_count": 7,
   "metadata": {},
   "outputs": [
    {
     "data": {
      "text/plain": [
       "(3428, 102)"
      ]
     },
     "execution_count": 7,
     "metadata": {},
     "output_type": "execute_result"
    }
   ],
   "source": [
    "X_train.shape"
   ]
  },
  {
   "cell_type": "code",
   "execution_count": 8,
   "metadata": {},
   "outputs": [
    {
     "data": {
      "text/plain": [
       "RandomForestRegressor(bootstrap=True, criterion='mse', max_depth=None,\n",
       "                      max_features='auto', max_leaf_nodes=None,\n",
       "                      min_impurity_decrease=0.0, min_impurity_split=None,\n",
       "                      min_samples_leaf=1, min_samples_split=2,\n",
       "                      min_weight_fraction_leaf=0.0, n_estimators=100,\n",
       "                      n_jobs=None, oob_score=False, random_state=None,\n",
       "                      verbose=0, warm_start=False)"
      ]
     },
     "execution_count": 8,
     "metadata": {},
     "output_type": "execute_result"
    }
   ],
   "source": [
    "from sklearn.ensemble import RandomForestRegressor\n",
    "rfr = RandomForestRegressor(n_estimators = 100)\n",
    "rfr.fit(X_train, y_train)"
   ]
  },
  {
   "cell_type": "code",
   "execution_count": 9,
   "metadata": {},
   "outputs": [],
   "source": [
    "tree_predictions = np.vstack([estimator.predict(X_val) for estimator in rfr.estimators_])"
   ]
  },
  {
   "cell_type": "markdown",
   "metadata": {},
   "source": [
    "Each row of `tree_predictions` contains a separate prediction for each observation in the validation set made by the respective tree."
   ]
  },
  {
   "cell_type": "code",
   "execution_count": 10,
   "metadata": {},
   "outputs": [
    {
     "data": {
      "text/plain": [
       "(100, 857)"
      ]
     },
     "execution_count": 10,
     "metadata": {},
     "output_type": "execute_result"
    }
   ],
   "source": [
    "tree_predictions.shape"
   ]
  },
  {
   "cell_type": "code",
   "execution_count": 11,
   "metadata": {},
   "outputs": [
    {
     "data": {
      "text/plain": [
       "array([[ 60.29      ,  19.96      ,  98.3       , ..., 108.68833333,\n",
       "        110.9       ,  24.99      ],\n",
       "       [ 30.82333333,  81.38      ,  81.07428571, ...,  83.16428571,\n",
       "         89.9       ,  20.99      ],\n",
       "       [ 13.65666667,  19.96      ,  87.61714286, ..., 110.34      ,\n",
       "        134.9       ,  15.49      ],\n",
       "       ...,\n",
       "       [ 52.76777778,  19.96      ,  81.75      , ...,  97.06      ,\n",
       "         98.9       ,  34.74      ],\n",
       "       [ 44.26272727,  19.96      ,  93.09444444, ..., 103.36833333,\n",
       "        117.75714286,  15.32333333],\n",
       "       [ 40.99      ,  75.        ,  73.78142857, ..., 115.96833333,\n",
       "         84.9       ,  23.39      ]])"
      ]
     },
     "execution_count": 11,
     "metadata": {},
     "output_type": "execute_result"
    }
   ],
   "source": [
    "tree_predictions[:10]"
   ]
  },
  {
   "cell_type": "markdown",
   "metadata": {},
   "source": [
    "Then we can see the benefit of taking the mean aggregation of each additional tree."
   ]
  },
  {
   "cell_type": "code",
   "execution_count": 12,
   "metadata": {},
   "outputs": [],
   "source": [
    "from sklearn.metrics import r2_score\n",
    "r2_scores = [r2_score(y_val, np.mean(tree_predictions[:i + 1], axis = 0)) for i in range(0, 100)]\n",
    "x_vals = list(range(1, 100))"
   ]
  },
  {
   "cell_type": "markdown",
   "metadata": {},
   "source": [
    "Let's plot the data."
   ]
  },
  {
   "cell_type": "code",
   "execution_count": 13,
   "metadata": {},
   "outputs": [
    {
     "data": {
      "text/html": [
       "        <script type=\"text/javascript\">\n",
       "        window.PlotlyConfig = {MathJaxConfig: 'local'};\n",
       "        if (window.MathJax) {MathJax.Hub.Config({SVG: {font: \"STIX-Web\"}});}\n",
       "        if (typeof require !== 'undefined') {\n",
       "        require.undef(\"plotly\");\n",
       "        requirejs.config({\n",
       "            paths: {\n",
       "                'plotly': ['https://cdn.plot.ly/plotly-latest.min']\n",
       "            }\n",
       "        });\n",
       "        require(['plotly'], function(Plotly) {\n",
       "            window._Plotly = Plotly;\n",
       "        });\n",
       "        }\n",
       "        </script>\n",
       "        "
      ]
     },
     "metadata": {},
     "output_type": "display_data"
    },
    {
     "data": {
      "application/vnd.plotly.v1+json": {
       "config": {
        "linkText": "Export to plot.ly",
        "plotlyServerURL": "https://plot.ly",
        "showLink": false
       },
       "data": [
        {
         "mode": "markers",
         "name": "data",
         "text": [],
         "type": "scatter",
         "uid": "ad94b541-fdee-4864-8dd5-aac88fb5d443",
         "x": [
          1,
          2,
          3,
          4,
          5,
          6,
          7,
          8,
          9,
          10,
          11,
          12,
          13,
          14,
          15,
          16,
          17,
          18,
          19,
          20,
          21,
          22,
          23,
          24,
          25,
          26,
          27,
          28,
          29,
          30,
          31,
          32,
          33,
          34,
          35,
          36,
          37,
          38,
          39,
          40,
          41,
          42,
          43,
          44,
          45,
          46,
          47,
          48,
          49,
          50,
          51,
          52,
          53,
          54,
          55,
          56,
          57,
          58,
          59,
          60,
          61,
          62,
          63,
          64,
          65,
          66,
          67,
          68,
          69,
          70,
          71,
          72,
          73,
          74,
          75,
          76,
          77,
          78,
          79,
          80,
          81,
          82,
          83,
          84,
          85,
          86,
          87,
          88,
          89,
          90,
          91,
          92,
          93,
          94,
          95,
          96,
          97,
          98,
          99
         ],
         "y": [
          0.41939782786676894,
          0.48965066321472617,
          0.522497390714717,
          0.5488174118933073,
          0.5620653669336646,
          0.559387612639452,
          0.5640018265433806,
          0.5666419598517738,
          0.5714877737383579,
          0.5716138311729999,
          0.571002525835875,
          0.5756585342578798,
          0.579209738323547,
          0.5770629649138885,
          0.5753559623083417,
          0.5744030271253918,
          0.5741534939955768,
          0.5732202945457601,
          0.5752100453911867,
          0.5769031828785756,
          0.5776854265873919,
          0.5786510931695615,
          0.5795890870399546,
          0.5807349664105299,
          0.5807928745614193,
          0.5813726227122376,
          0.5814506670256603,
          0.5819228375197456,
          0.5839166765683781,
          0.5840597886978802,
          0.5829392731021552,
          0.5827374711747041,
          0.5821766921974338,
          0.5822587582112868,
          0.5818764007607332,
          0.5822080678469242,
          0.5824213330580974,
          0.5819304457663,
          0.5842542005632522,
          0.5843153462276115,
          0.5841454220706788,
          0.583938500015278,
          0.5852088849149737,
          0.584814129595553,
          0.5853515480975047,
          0.5856072914931524,
          0.5859124850995369,
          0.5868306810823782,
          0.5863984505748532,
          0.58561489815224,
          0.584698710889561,
          0.585062075894119,
          0.5851902918606193,
          0.5847553948044271,
          0.5853210555437345,
          0.5849856352072962,
          0.5844012733855221,
          0.58460263159434,
          0.5848889311736165,
          0.584925972351146,
          0.5847253317844676,
          0.5846481796010131,
          0.5842524366662852,
          0.5842611014303656,
          0.5839788964380437,
          0.5838327832027429,
          0.5841060140352867,
          0.5844447984398375,
          0.5839965981744552,
          0.5839044230168233,
          0.5844240057884643,
          0.5841997125649262,
          0.5841802379326517,
          0.5840525206527687,
          0.5838682785711395,
          0.5838288312196567,
          0.5839974840823485,
          0.5843081500423706,
          0.5847049563932533,
          0.5847676000322357,
          0.5852870883851018,
          0.5852011571385553,
          0.5845017521549777,
          0.5845746788062445,
          0.585205148839541,
          0.5855004713239612,
          0.5848976586128862,
          0.5847198238266353,
          0.584938224364182,
          0.5844645557771669,
          0.584263633187253,
          0.5840196395846959,
          0.5843192244255018,
          0.584371640638058,
          0.5842713186523251,
          0.5849514612064189,
          0.58533315552334,
          0.585591808585644,
          0.5853643348816784,
          0.585535002847765
         ]
        }
       ],
       "layout": {}
      },
      "text/html": [
       "<div>\n",
       "        \n",
       "        \n",
       "            <div id=\"1736a408-8287-4e4c-9ae9-58967e6d08cb\" class=\"plotly-graph-div\" style=\"height:525px; width:100%;\"></div>\n",
       "            <script type=\"text/javascript\">\n",
       "                require([\"plotly\"], function(Plotly) {\n",
       "                    window.PLOTLYENV=window.PLOTLYENV || {};\n",
       "                    window.PLOTLYENV.BASE_URL='https://plot.ly';\n",
       "                    \n",
       "                if (document.getElementById(\"1736a408-8287-4e4c-9ae9-58967e6d08cb\")) {\n",
       "                    Plotly.newPlot(\n",
       "                        '1736a408-8287-4e4c-9ae9-58967e6d08cb',\n",
       "                        [{\"mode\": \"markers\", \"name\": \"data\", \"text\": [], \"type\": \"scatter\", \"uid\": \"ad94b541-fdee-4864-8dd5-aac88fb5d443\", \"x\": [1, 2, 3, 4, 5, 6, 7, 8, 9, 10, 11, 12, 13, 14, 15, 16, 17, 18, 19, 20, 21, 22, 23, 24, 25, 26, 27, 28, 29, 30, 31, 32, 33, 34, 35, 36, 37, 38, 39, 40, 41, 42, 43, 44, 45, 46, 47, 48, 49, 50, 51, 52, 53, 54, 55, 56, 57, 58, 59, 60, 61, 62, 63, 64, 65, 66, 67, 68, 69, 70, 71, 72, 73, 74, 75, 76, 77, 78, 79, 80, 81, 82, 83, 84, 85, 86, 87, 88, 89, 90, 91, 92, 93, 94, 95, 96, 97, 98, 99], \"y\": [0.41939782786676894, 0.48965066321472617, 0.522497390714717, 0.5488174118933073, 0.5620653669336646, 0.559387612639452, 0.5640018265433806, 0.5666419598517738, 0.5714877737383579, 0.5716138311729999, 0.571002525835875, 0.5756585342578798, 0.579209738323547, 0.5770629649138885, 0.5753559623083417, 0.5744030271253918, 0.5741534939955768, 0.5732202945457601, 0.5752100453911867, 0.5769031828785756, 0.5776854265873919, 0.5786510931695615, 0.5795890870399546, 0.5807349664105299, 0.5807928745614193, 0.5813726227122376, 0.5814506670256603, 0.5819228375197456, 0.5839166765683781, 0.5840597886978802, 0.5829392731021552, 0.5827374711747041, 0.5821766921974338, 0.5822587582112868, 0.5818764007607332, 0.5822080678469242, 0.5824213330580974, 0.5819304457663, 0.5842542005632522, 0.5843153462276115, 0.5841454220706788, 0.583938500015278, 0.5852088849149737, 0.584814129595553, 0.5853515480975047, 0.5856072914931524, 0.5859124850995369, 0.5868306810823782, 0.5863984505748532, 0.58561489815224, 0.584698710889561, 0.585062075894119, 0.5851902918606193, 0.5847553948044271, 0.5853210555437345, 0.5849856352072962, 0.5844012733855221, 0.58460263159434, 0.5848889311736165, 0.584925972351146, 0.5847253317844676, 0.5846481796010131, 0.5842524366662852, 0.5842611014303656, 0.5839788964380437, 0.5838327832027429, 0.5841060140352867, 0.5844447984398375, 0.5839965981744552, 0.5839044230168233, 0.5844240057884643, 0.5841997125649262, 0.5841802379326517, 0.5840525206527687, 0.5838682785711395, 0.5838288312196567, 0.5839974840823485, 0.5843081500423706, 0.5847049563932533, 0.5847676000322357, 0.5852870883851018, 0.5852011571385553, 0.5845017521549777, 0.5845746788062445, 0.585205148839541, 0.5855004713239612, 0.5848976586128862, 0.5847198238266353, 0.584938224364182, 0.5844645557771669, 0.584263633187253, 0.5840196395846959, 0.5843192244255018, 0.584371640638058, 0.5842713186523251, 0.5849514612064189, 0.58533315552334, 0.585591808585644, 0.5853643348816784, 0.585535002847765]}],\n",
       "                        {},\n",
       "                        {\"showLink\": false, \"linkText\": \"Export to plot.ly\", \"plotlyServerURL\": \"https://plot.ly\", \"responsive\": true}\n",
       "                    ).then(function(){\n",
       "                            \n",
       "var gd = document.getElementById('1736a408-8287-4e4c-9ae9-58967e6d08cb');\n",
       "var x = new MutationObserver(function (mutations, observer) {{\n",
       "        var display = window.getComputedStyle(gd).display;\n",
       "        if (!display || display === 'none') {{\n",
       "            console.log([gd, 'removed!']);\n",
       "            Plotly.purge(gd);\n",
       "            observer.disconnect();\n",
       "        }}\n",
       "}});\n",
       "\n",
       "// Listen for the removal of the full notebook cells\n",
       "var notebookContainer = gd.closest('#notebook-container');\n",
       "if (notebookContainer) {{\n",
       "    x.observe(notebookContainer, {childList: true});\n",
       "}}\n",
       "\n",
       "// Listen for the clearing of the current output cell\n",
       "var outputEl = gd.closest('.output');\n",
       "if (outputEl) {{\n",
       "    x.observe(outputEl, {childList: true});\n",
       "}}\n",
       "\n",
       "                        })\n",
       "                };\n",
       "                });\n",
       "            </script>\n",
       "        </div>"
      ]
     },
     "metadata": {},
     "output_type": "display_data"
    }
   ],
   "source": [
    "from graph import trace_values, plot\n",
    "trace = trace_values(x_vals, r2_scores)\n",
    "plot([trace])"
   ]
  },
  {
   "cell_type": "markdown",
   "metadata": {},
   "source": [
    "So we can see that our accuracy level stabalizes around 30 trees.  Fitting this model with 30 trees still takes a while, so just for the purpose of developing our model, we'll knock it down to 20 trees, which also performs well."
   ]
  },
  {
   "cell_type": "markdown",
   "metadata": {},
   "source": [
    "### Subsampling Features"
   ]
  },
  {
   "cell_type": "markdown",
   "metadata": {},
   "source": [
    "The next hyperparameter to work with is sampling the features at each split.  Here is how it works:\n",
    "\n",
    "* For each split, the random forest first takes a random sample of the features, and then determines what the next best split is from this subsample.  \n",
    "\n",
    "The idea behind this is to again increase the variation of the trees.  The problem if that certain features are dominant, the features will be repeatedly selected early and this can have a large impact on what occurs later in the trees.  \n",
    "\n",
    "Let's see this by looking at the first two estimators of the random forest we just trained."
   ]
  },
  {
   "cell_type": "markdown",
   "metadata": {},
   "source": [
    "* plot the first estimator, with the plot set to a max_depth of 1"
   ]
  },
  {
   "cell_type": "code",
   "execution_count": 14,
   "metadata": {},
   "outputs": [],
   "source": [
    "from plot_tree import plot_tree"
   ]
  },
  {
   "cell_type": "code",
   "execution_count": 15,
   "metadata": {},
   "outputs": [],
   "source": [
    "import os\n",
    "os.environ[\"PATH\"] += os.pathsep + 'C:/Program Files (x86)/Graphviz2.38/bin/'"
   ]
  },
  {
   "cell_type": "code",
   "execution_count": 16,
   "metadata": {},
   "outputs": [],
   "source": [
    "def feature_sampling_scores (max_features_list):\n",
    "    feature_sampling_scores_list = []\n",
    "    for max_feature in max_features_list:\n",
    "        rfr = RandomForestRegressor(max_features=max_feature, random_state=1)\n",
    "        rfr.fit(X_train, y_train)\n",
    "        score = (max_feature, rfr.score(X_val,y_val))\n",
    "        feature_sampling_scores_list.append(score)\n",
    "    return feature_sampling_scores_list"
   ]
  },
  {
   "cell_type": "code",
   "execution_count": 17,
   "metadata": {},
   "outputs": [
    {
     "name": "stderr",
     "output_type": "stream",
     "text": [
      "C:\\Users\\51759\\Anaconda3\\lib\\site-packages\\sklearn\\ensemble\\forest.py:245: FutureWarning:\n",
      "\n",
      "The default value of n_estimators will change from 10 in version 0.20 to 100 in 0.22.\n",
      "\n",
      "C:\\Users\\51759\\Anaconda3\\lib\\site-packages\\sklearn\\ensemble\\forest.py:245: FutureWarning:\n",
      "\n",
      "The default value of n_estimators will change from 10 in version 0.20 to 100 in 0.22.\n",
      "\n",
      "C:\\Users\\51759\\Anaconda3\\lib\\site-packages\\sklearn\\ensemble\\forest.py:245: FutureWarning:\n",
      "\n",
      "The default value of n_estimators will change from 10 in version 0.20 to 100 in 0.22.\n",
      "\n",
      "C:\\Users\\51759\\Anaconda3\\lib\\site-packages\\sklearn\\ensemble\\forest.py:245: FutureWarning:\n",
      "\n",
      "The default value of n_estimators will change from 10 in version 0.20 to 100 in 0.22.\n",
      "\n"
     ]
    },
    {
     "data": {
      "text/plain": [
       "[(0.5, 0.558681193638169),\n",
       " ('log2', 0.5800808753821141),\n",
       " ('sqrt', 0.568869988999662),\n",
       " (None, 0.5695249500923423)]"
      ]
     },
     "execution_count": 17,
     "metadata": {},
     "output_type": "execute_result"
    }
   ],
   "source": [
    "feature_sampling_scores([0.5,'log2','sqrt',None])"
   ]
  },
  {
   "cell_type": "markdown",
   "metadata": {},
   "source": [
    "### 3. Number of leaves"
   ]
  },
  {
   "cell_type": "code",
   "execution_count": 18,
   "metadata": {},
   "outputs": [
    {
     "data": {
      "text/plain": [
       "array([ 2,  7, 12, 17, 22, 27, 32, 37, 42, 47])"
      ]
     },
     "execution_count": 18,
     "metadata": {},
     "output_type": "execute_result"
    }
   ],
   "source": [
    "min_samples = np.arange(2,51,5)\n",
    "min_samples"
   ]
  },
  {
   "cell_type": "code",
   "execution_count": 19,
   "metadata": {},
   "outputs": [],
   "source": [
    "def num_leaves_wrapped_scores (min_samples):\n",
    "    num_leaves_wrapped_scores_list = []\n",
    "    for min_sample in min_samples:\n",
    "        rfr = RandomForestRegressor(n_estimators=50, min_samples_leaf=min_sample, random_state=1)\n",
    "        rfr.fit(X_train, y_train)\n",
    "        score = rfr.score(X_val,y_val)\n",
    "        num_leaves_wrapped_scores_list.append(score)\n",
    "    return num_leaves_wrapped_scores_list"
   ]
  },
  {
   "cell_type": "code",
   "execution_count": 20,
   "metadata": {},
   "outputs": [],
   "source": [
    "scores = num_leaves_wrapped_scores(min_samples)"
   ]
  },
  {
   "cell_type": "code",
   "execution_count": 21,
   "metadata": {},
   "outputs": [
    {
     "data": {
      "text/plain": [
       "[0.6006395918068812,\n",
       " 0.584262634140373,\n",
       " 0.5560724861850751,\n",
       " 0.5331077059829161,\n",
       " 0.4996094867340214]"
      ]
     },
     "execution_count": 21,
     "metadata": {},
     "output_type": "execute_result"
    }
   ],
   "source": [
    "scores[:5]"
   ]
  },
  {
   "cell_type": "code",
   "execution_count": 157,
   "metadata": {},
   "outputs": [],
   "source": [
    "wrapped_scores = np.column_stack((min_samples, scores))"
   ]
  },
  {
   "cell_type": "code",
   "execution_count": 158,
   "metadata": {},
   "outputs": [],
   "source": [
    "trace_1 = trace_values(wrapped_scores[:, 0], wrapped_scores[:, 1])"
   ]
  },
  {
   "cell_type": "code",
   "execution_count": 159,
   "metadata": {},
   "outputs": [
    {
     "data": {
      "application/vnd.plotly.v1+json": {
       "config": {
        "linkText": "Export to plot.ly",
        "plotlyServerURL": "https://plot.ly",
        "showLink": false
       },
       "data": [
        {
         "mode": "markers",
         "name": "data",
         "text": [],
         "type": "scatter",
         "uid": "dbf2c5ed-01c4-4a95-89bc-edde05832d55",
         "x": [
          2,
          3,
          4,
          5,
          6,
          7,
          8,
          9,
          10,
          11,
          12,
          13,
          14,
          15,
          16,
          17,
          18,
          19,
          20,
          21,
          22,
          23,
          24,
          25,
          26,
          27,
          28,
          29,
          30,
          31,
          32,
          33,
          34,
          35,
          36,
          37,
          38,
          39,
          40,
          41,
          42,
          43,
          44,
          45,
          46,
          47,
          48,
          49,
          50
         ],
         "y": [
          0.6006395918068812,
          0.6042870365251122,
          0.6015636886859417,
          0.5943095645556589,
          0.5921117286593569,
          0.584262634140373,
          0.5802925521345204,
          0.5763296553496453,
          0.5675569632723301,
          0.5627575386373895,
          0.5560724861850751,
          0.5504009020371421,
          0.5461668119105416,
          0.5436282529942985,
          0.5385020593794745,
          0.5331077059829161,
          0.527635283110458,
          0.5221713232481229,
          0.515161328097431,
          0.5076609966132202,
          0.4996094867340214,
          0.49821030883603146,
          0.49449638453664924,
          0.4926309418048568,
          0.4907098050642135,
          0.48729533538836434,
          0.4831198554140588,
          0.47969489559576567,
          0.47869127614686685,
          0.47659368955153353,
          0.47531003675396755,
          0.47409644834602277,
          0.4744529974902655,
          0.4732264573267967,
          0.47317896497985357,
          0.47107639538229995,
          0.46962571586060436,
          0.4682434668263774,
          0.46595467597894724,
          0.4623553346191792,
          0.4601026166242588,
          0.45835285390511293,
          0.4567818650232318,
          0.45634498779689636,
          0.4557185891863911,
          0.4544547422019235,
          0.45375562005903847,
          0.45234436578211423,
          0.45149163063937314
         ]
        }
       ],
       "layout": {}
      },
      "text/html": [
       "<div>\n",
       "        \n",
       "        \n",
       "            <div id=\"e863b10b-8e57-47f7-89aa-a9606b63a34e\" class=\"plotly-graph-div\" style=\"height:525px; width:100%;\"></div>\n",
       "            <script type=\"text/javascript\">\n",
       "                require([\"plotly\"], function(Plotly) {\n",
       "                    window.PLOTLYENV=window.PLOTLYENV || {};\n",
       "                    window.PLOTLYENV.BASE_URL='https://plot.ly';\n",
       "                    \n",
       "                if (document.getElementById(\"e863b10b-8e57-47f7-89aa-a9606b63a34e\")) {\n",
       "                    Plotly.newPlot(\n",
       "                        'e863b10b-8e57-47f7-89aa-a9606b63a34e',\n",
       "                        [{\"mode\": \"markers\", \"name\": \"data\", \"text\": [], \"type\": \"scatter\", \"uid\": \"dbf2c5ed-01c4-4a95-89bc-edde05832d55\", \"x\": [2.0, 3.0, 4.0, 5.0, 6.0, 7.0, 8.0, 9.0, 10.0, 11.0, 12.0, 13.0, 14.0, 15.0, 16.0, 17.0, 18.0, 19.0, 20.0, 21.0, 22.0, 23.0, 24.0, 25.0, 26.0, 27.0, 28.0, 29.0, 30.0, 31.0, 32.0, 33.0, 34.0, 35.0, 36.0, 37.0, 38.0, 39.0, 40.0, 41.0, 42.0, 43.0, 44.0, 45.0, 46.0, 47.0, 48.0, 49.0, 50.0], \"y\": [0.6006395918068812, 0.6042870365251122, 0.6015636886859417, 0.5943095645556589, 0.5921117286593569, 0.584262634140373, 0.5802925521345204, 0.5763296553496453, 0.5675569632723301, 0.5627575386373895, 0.5560724861850751, 0.5504009020371421, 0.5461668119105416, 0.5436282529942985, 0.5385020593794745, 0.5331077059829161, 0.527635283110458, 0.5221713232481229, 0.515161328097431, 0.5076609966132202, 0.4996094867340214, 0.49821030883603146, 0.49449638453664924, 0.4926309418048568, 0.4907098050642135, 0.48729533538836434, 0.4831198554140588, 0.47969489559576567, 0.47869127614686685, 0.47659368955153353, 0.47531003675396755, 0.47409644834602277, 0.4744529974902655, 0.4732264573267967, 0.47317896497985357, 0.47107639538229995, 0.46962571586060436, 0.4682434668263774, 0.46595467597894724, 0.4623553346191792, 0.4601026166242588, 0.45835285390511293, 0.4567818650232318, 0.45634498779689636, 0.4557185891863911, 0.4544547422019235, 0.45375562005903847, 0.45234436578211423, 0.45149163063937314]}],\n",
       "                        {},\n",
       "                        {\"showLink\": false, \"linkText\": \"Export to plot.ly\", \"plotlyServerURL\": \"https://plot.ly\", \"responsive\": true}\n",
       "                    ).then(function(){\n",
       "                            \n",
       "var gd = document.getElementById('e863b10b-8e57-47f7-89aa-a9606b63a34e');\n",
       "var x = new MutationObserver(function (mutations, observer) {{\n",
       "        var display = window.getComputedStyle(gd).display;\n",
       "        if (!display || display === 'none') {{\n",
       "            console.log([gd, 'removed!']);\n",
       "            Plotly.purge(gd);\n",
       "            observer.disconnect();\n",
       "        }}\n",
       "}});\n",
       "\n",
       "// Listen for the removal of the full notebook cells\n",
       "var notebookContainer = gd.closest('#notebook-container');\n",
       "if (notebookContainer) {{\n",
       "    x.observe(notebookContainer, {childList: true});\n",
       "}}\n",
       "\n",
       "// Listen for the clearing of the current output cell\n",
       "var outputEl = gd.closest('.output');\n",
       "if (outputEl) {{\n",
       "    x.observe(outputEl, {childList: true});\n",
       "}}\n",
       "\n",
       "                        })\n",
       "                };\n",
       "                });\n",
       "            </script>\n",
       "        </div>"
      ]
     },
     "metadata": {},
     "output_type": "display_data"
    }
   ],
   "source": [
    "plot([trace_1])"
   ]
  },
  {
   "cell_type": "markdown",
   "metadata": {},
   "source": [
    "* The more number of leaves, the lower score we get. The highest score locates at the number of leaves of 3."
   ]
  },
  {
   "cell_type": "code",
   "execution_count": 160,
   "metadata": {},
   "outputs": [],
   "source": [
    "combined_X = np.vstack((X_train, X_val))"
   ]
  },
  {
   "cell_type": "code",
   "execution_count": 161,
   "metadata": {},
   "outputs": [],
   "source": [
    "combined_y = np.concatenate((y_train, y_val))"
   ]
  },
  {
   "cell_type": "code",
   "execution_count": 162,
   "metadata": {},
   "outputs": [
    {
     "data": {
      "text/plain": [
       "0.5947623887175424"
      ]
     },
     "execution_count": 162,
     "metadata": {},
     "output_type": "execute_result"
    }
   ],
   "source": [
    "rfr3 = RandomForestRegressor(n_estimators=50, random_state=1, max_features=0.5)\n",
    "rfr3.fit(combined_X, combined_y)\n",
    "rfr3.score(X_test,y_test)"
   ]
  },
  {
   "cell_type": "code",
   "execution_count": 163,
   "metadata": {},
   "outputs": [
    {
     "data": {
      "image/svg+xml": [
       "<?xml version=\"1.0\" encoding=\"UTF-8\" standalone=\"no\"?>\r\n",
       "<!DOCTYPE svg PUBLIC \"-//W3C//DTD SVG 1.1//EN\"\r\n",
       " \"http://www.w3.org/Graphics/SVG/1.1/DTD/svg11.dtd\">\r\n",
       "<!-- Generated by graphviz version 2.38.0 (20140413.2041)\r\n",
       " -->\r\n",
       "<!-- Title: Tree Pages: 1 -->\r\n",
       "<svg width=\"398pt\" height=\"252pt\"\r\n",
       " viewBox=\"0.00 0.00 398.00 252.00\" xmlns=\"http://www.w3.org/2000/svg\" xmlns:xlink=\"http://www.w3.org/1999/xlink\">\r\n",
       "<g id=\"graph0\" class=\"graph\" transform=\"scale(1 1) rotate(0) translate(4 248)\">\r\n",
       "<title>Tree</title>\r\n",
       "<polygon fill=\"white\" stroke=\"none\" points=\"-4,4 -4,-248 394,-248 394,4 -4,4\"/>\r\n",
       "<!-- 0 -->\r\n",
       "<g id=\"node1\" class=\"node\"><title>0</title>\r\n",
       "<polygon fill=\"none\" stroke=\"black\" points=\"236,-244 96,-244 96,-176 236,-176 236,-244\"/>\r\n",
       "<text text-anchor=\"middle\" x=\"166\" y=\"-228.8\" font-family=\"Times New Roman,serif\" font-size=\"14.00\">brand_Dansko &lt;= 0.5</text>\r\n",
       "<text text-anchor=\"middle\" x=\"166\" y=\"-213.8\" font-family=\"Times New Roman,serif\" font-size=\"14.00\">mse = 1337.64</text>\r\n",
       "<text text-anchor=\"middle\" x=\"166\" y=\"-198.8\" font-family=\"Times New Roman,serif\" font-size=\"14.00\">samples = 2695</text>\r\n",
       "<text text-anchor=\"middle\" x=\"166\" y=\"-183.8\" font-family=\"Times New Roman,serif\" font-size=\"14.00\">value = 59.98</text>\r\n",
       "</g>\r\n",
       "<!-- 1 -->\r\n",
       "<g id=\"node2\" class=\"node\"><title>1</title>\r\n",
       "<polygon fill=\"none\" stroke=\"black\" points=\"128,-140 0,-140 0,-72 128,-72 128,-140\"/>\r\n",
       "<text text-anchor=\"middle\" x=\"64\" y=\"-124.8\" font-family=\"Times New Roman,serif\" font-size=\"14.00\">prices.isSale &lt;= 0.5</text>\r\n",
       "<text text-anchor=\"middle\" x=\"64\" y=\"-109.8\" font-family=\"Times New Roman,serif\" font-size=\"14.00\">mse = 1207.883</text>\r\n",
       "<text text-anchor=\"middle\" x=\"64\" y=\"-94.8\" font-family=\"Times New Roman,serif\" font-size=\"14.00\">samples = 2591</text>\r\n",
       "<text text-anchor=\"middle\" x=\"64\" y=\"-79.8\" font-family=\"Times New Roman,serif\" font-size=\"14.00\">value = 57.223</text>\r\n",
       "</g>\r\n",
       "<!-- 0&#45;&gt;1 -->\r\n",
       "<g id=\"edge1\" class=\"edge\"><title>0&#45;&gt;1</title>\r\n",
       "<path fill=\"none\" stroke=\"black\" d=\"M132.884,-175.884C123.798,-166.798 113.845,-156.845 104.4,-147.4\"/>\r\n",
       "<polygon fill=\"black\" stroke=\"black\" points=\"106.845,-144.896 97.2994,-140.299 101.896,-149.845 106.845,-144.896\"/>\r\n",
       "<text text-anchor=\"middle\" x=\"97.2994\" y=\"-161.599\" font-family=\"Times New Roman,serif\" font-size=\"14.00\">True</text>\r\n",
       "</g>\r\n",
       "<!-- 2404 -->\r\n",
       "<g id=\"node5\" class=\"node\"><title>2404</title>\r\n",
       "<polygon fill=\"none\" stroke=\"black\" points=\"390,-140 146,-140 146,-72 390,-72 390,-140\"/>\r\n",
       "<text text-anchor=\"middle\" x=\"268\" y=\"-124.8\" font-family=\"Times New Roman,serif\" font-size=\"14.00\">manufacturerNumber_806020202 &lt;= 0.5</text>\r\n",
       "<text text-anchor=\"middle\" x=\"268\" y=\"-109.8\" font-family=\"Times New Roman,serif\" font-size=\"14.00\">mse = 15.086</text>\r\n",
       "<text text-anchor=\"middle\" x=\"268\" y=\"-94.8\" font-family=\"Times New Roman,serif\" font-size=\"14.00\">samples = 104</text>\r\n",
       "<text text-anchor=\"middle\" x=\"268\" y=\"-79.8\" font-family=\"Times New Roman,serif\" font-size=\"14.00\">value = 124.722</text>\r\n",
       "</g>\r\n",
       "<!-- 0&#45;&gt;2404 -->\r\n",
       "<g id=\"edge4\" class=\"edge\"><title>0&#45;&gt;2404</title>\r\n",
       "<path fill=\"none\" stroke=\"black\" d=\"M199.116,-175.884C208.202,-166.798 218.155,-156.845 227.6,-147.4\"/>\r\n",
       "<polygon fill=\"black\" stroke=\"black\" points=\"230.104,-149.845 234.701,-140.299 225.155,-144.896 230.104,-149.845\"/>\r\n",
       "<text text-anchor=\"middle\" x=\"234.701\" y=\"-161.599\" font-family=\"Times New Roman,serif\" font-size=\"14.00\">False</text>\r\n",
       "</g>\r\n",
       "<!-- 2 -->\r\n",
       "<g id=\"node3\" class=\"node\"><title>2</title>\r\n",
       "<polygon fill=\"none\" stroke=\"black\" points=\"85,-36 31,-36 31,-0 85,-0 85,-36\"/>\r\n",
       "<text text-anchor=\"middle\" x=\"58\" y=\"-14.3\" font-family=\"Times New Roman,serif\" font-size=\"14.00\">(...)</text>\r\n",
       "</g>\r\n",
       "<!-- 1&#45;&gt;2 -->\r\n",
       "<g id=\"edge2\" class=\"edge\"><title>1&#45;&gt;2</title>\r\n",
       "<path fill=\"none\" stroke=\"black\" d=\"M61.6974,-71.9961C61.1092,-63.5646 60.483,-54.5902 59.9165,-46.4696\"/>\r\n",
       "<polygon fill=\"black\" stroke=\"black\" points=\"63.4018,-46.1355 59.2142,-36.4034 56.4188,-46.6228 63.4018,-46.1355\"/>\r\n",
       "</g>\r\n",
       "<!-- 1449 -->\r\n",
       "<g id=\"node4\" class=\"node\"><title>1449</title>\r\n",
       "<polygon fill=\"none\" stroke=\"black\" points=\"157,-36 103,-36 103,-0 157,-0 157,-36\"/>\r\n",
       "<text text-anchor=\"middle\" x=\"130\" y=\"-14.3\" font-family=\"Times New Roman,serif\" font-size=\"14.00\">(...)</text>\r\n",
       "</g>\r\n",
       "<!-- 1&#45;&gt;1449 -->\r\n",
       "<g id=\"edge3\" class=\"edge\"><title>1&#45;&gt;1449</title>\r\n",
       "<path fill=\"none\" stroke=\"black\" d=\"M89.3286,-71.9961C96.3082,-62.9014 103.773,-53.1752 110.377,-44.57\"/>\r\n",
       "<polygon fill=\"black\" stroke=\"black\" points=\"113.332,-46.4674 116.644,-36.4034 107.779,-42.2056 113.332,-46.4674\"/>\r\n",
       "</g>\r\n",
       "<!-- 2405 -->\r\n",
       "<g id=\"node6\" class=\"node\"><title>2405</title>\r\n",
       "<polygon fill=\"none\" stroke=\"black\" points=\"262,-36 208,-36 208,-0 262,-0 262,-36\"/>\r\n",
       "<text text-anchor=\"middle\" x=\"235\" y=\"-14.3\" font-family=\"Times New Roman,serif\" font-size=\"14.00\">(...)</text>\r\n",
       "</g>\r\n",
       "<!-- 2404&#45;&gt;2405 -->\r\n",
       "<g id=\"edge5\" class=\"edge\"><title>2404&#45;&gt;2405</title>\r\n",
       "<path fill=\"none\" stroke=\"black\" d=\"M255.336,-71.9961C252.028,-63.3751 248.502,-54.1866 245.331,-45.9234\"/>\r\n",
       "<polygon fill=\"black\" stroke=\"black\" points=\"248.528,-44.4857 241.678,-36.4034 241.993,-46.9935 248.528,-44.4857\"/>\r\n",
       "</g>\r\n",
       "<!-- 2412 -->\r\n",
       "<g id=\"node7\" class=\"node\"><title>2412</title>\r\n",
       "<polygon fill=\"none\" stroke=\"black\" points=\"334,-36 280,-36 280,-0 334,-0 334,-36\"/>\r\n",
       "<text text-anchor=\"middle\" x=\"307\" y=\"-14.3\" font-family=\"Times New Roman,serif\" font-size=\"14.00\">(...)</text>\r\n",
       "</g>\r\n",
       "<!-- 2404&#45;&gt;2412 -->\r\n",
       "<g id=\"edge6\" class=\"edge\"><title>2404&#45;&gt;2412</title>\r\n",
       "<path fill=\"none\" stroke=\"black\" d=\"M282.967,-71.9961C286.919,-63.2804 291.135,-53.9846 294.914,-45.6514\"/>\r\n",
       "<polygon fill=\"black\" stroke=\"black\" points=\"298.165,-46.9562 299.108,-36.4034 291.79,-44.0651 298.165,-46.9562\"/>\r\n",
       "</g>\r\n",
       "</g>\r\n",
       "</svg>\r\n"
      ],
      "text/plain": [
       "<graphviz.files.Source at 0x223169156a0>"
      ]
     },
     "execution_count": 163,
     "metadata": {},
     "output_type": "execute_result"
    }
   ],
   "source": [
    "plot_tree(rfr3[0], X.columns, max_depth=1)"
   ]
  },
  {
   "cell_type": "markdown",
   "metadata": {},
   "source": [
    "* plot the second estimator, with the plot set to a max_depth of 1"
   ]
  },
  {
   "cell_type": "code",
   "execution_count": 164,
   "metadata": {},
   "outputs": [
    {
     "data": {
      "image/svg+xml": [
       "<?xml version=\"1.0\" encoding=\"UTF-8\" standalone=\"no\"?>\r\n",
       "<!DOCTYPE svg PUBLIC \"-//W3C//DTD SVG 1.1//EN\"\r\n",
       " \"http://www.w3.org/Graphics/SVG/1.1/DTD/svg11.dtd\">\r\n",
       "<!-- Generated by graphviz version 2.38.0 (20140413.2041)\r\n",
       " -->\r\n",
       "<!-- Title: Tree Pages: 1 -->\r\n",
       "<svg width=\"492pt\" height=\"252pt\"\r\n",
       " viewBox=\"0.00 0.00 491.50 252.00\" xmlns=\"http://www.w3.org/2000/svg\" xmlns:xlink=\"http://www.w3.org/1999/xlink\">\r\n",
       "<g id=\"graph0\" class=\"graph\" transform=\"scale(1 1) rotate(0) translate(4 248)\">\r\n",
       "<title>Tree</title>\r\n",
       "<polygon fill=\"white\" stroke=\"none\" points=\"-4,4 -4,-248 487.5,-248 487.5,4 -4,4\"/>\r\n",
       "<!-- 0 -->\r\n",
       "<g id=\"node1\" class=\"node\"><title>0</title>\r\n",
       "<polygon fill=\"none\" stroke=\"black\" points=\"311,-244 183,-244 183,-176 311,-176 311,-244\"/>\r\n",
       "<text text-anchor=\"middle\" x=\"247\" y=\"-228.8\" font-family=\"Times New Roman,serif\" font-size=\"14.00\">prices.isSale &lt;= 0.5</text>\r\n",
       "<text text-anchor=\"middle\" x=\"247\" y=\"-213.8\" font-family=\"Times New Roman,serif\" font-size=\"14.00\">mse = 1340.268</text>\r\n",
       "<text text-anchor=\"middle\" x=\"247\" y=\"-198.8\" font-family=\"Times New Roman,serif\" font-size=\"14.00\">samples = 2706</text>\r\n",
       "<text text-anchor=\"middle\" x=\"247\" y=\"-183.8\" font-family=\"Times New Roman,serif\" font-size=\"14.00\">value = 61.086</text>\r\n",
       "</g>\r\n",
       "<!-- 1 -->\r\n",
       "<g id=\"node2\" class=\"node\"><title>1</title>\r\n",
       "<polygon fill=\"none\" stroke=\"black\" points=\"244,-140 1.42109e-014,-140 1.42109e-014,-72 244,-72 244,-140\"/>\r\n",
       "<text text-anchor=\"middle\" x=\"122\" y=\"-124.8\" font-family=\"Times New Roman,serif\" font-size=\"14.00\">manufacturerNumber_806020202 &lt;= 0.5</text>\r\n",
       "<text text-anchor=\"middle\" x=\"122\" y=\"-109.8\" font-family=\"Times New Roman,serif\" font-size=\"14.00\">mse = 1225.508</text>\r\n",
       "<text text-anchor=\"middle\" x=\"122\" y=\"-94.8\" font-family=\"Times New Roman,serif\" font-size=\"14.00\">samples = 1816</text>\r\n",
       "<text text-anchor=\"middle\" x=\"122\" y=\"-79.8\" font-family=\"Times New Roman,serif\" font-size=\"14.00\">value = 71.353</text>\r\n",
       "</g>\r\n",
       "<!-- 0&#45;&gt;1 -->\r\n",
       "<g id=\"edge1\" class=\"edge\"><title>0&#45;&gt;1</title>\r\n",
       "<path fill=\"none\" stroke=\"black\" d=\"M206.416,-175.884C195.064,-166.62 182.606,-156.455 170.83,-146.845\"/>\r\n",
       "<polygon fill=\"black\" stroke=\"black\" points=\"172.769,-143.91 162.808,-140.299 168.343,-149.333 172.769,-143.91\"/>\r\n",
       "<text text-anchor=\"middle\" x=\"165.328\" y=\"-161.472\" font-family=\"Times New Roman,serif\" font-size=\"14.00\">True</text>\r\n",
       "</g>\r\n",
       "<!-- 1444 -->\r\n",
       "<g id=\"node5\" class=\"node\"><title>1444</title>\r\n",
       "<polygon fill=\"none\" stroke=\"black\" points=\"483.5,-140 262.5,-140 262.5,-72 483.5,-72 483.5,-140\"/>\r\n",
       "<text text-anchor=\"middle\" x=\"373\" y=\"-124.8\" font-family=\"Times New Roman,serif\" font-size=\"14.00\">manufacturer_UGG Australia &lt;= 0.5</text>\r\n",
       "<text text-anchor=\"middle\" x=\"373\" y=\"-109.8\" font-family=\"Times New Roman,serif\" font-size=\"14.00\">mse = 919.166</text>\r\n",
       "<text text-anchor=\"middle\" x=\"373\" y=\"-94.8\" font-family=\"Times New Roman,serif\" font-size=\"14.00\">samples = 890</text>\r\n",
       "<text text-anchor=\"middle\" x=\"373\" y=\"-79.8\" font-family=\"Times New Roman,serif\" font-size=\"14.00\">value = 40.105</text>\r\n",
       "</g>\r\n",
       "<!-- 0&#45;&gt;1444 -->\r\n",
       "<g id=\"edge4\" class=\"edge\"><title>0&#45;&gt;1444</title>\r\n",
       "<path fill=\"none\" stroke=\"black\" d=\"M287.909,-175.884C299.352,-166.62 311.909,-156.455 323.779,-146.845\"/>\r\n",
       "<polygon fill=\"black\" stroke=\"black\" points=\"326.295,-149.312 331.865,-140.299 321.891,-143.871 326.295,-149.312\"/>\r\n",
       "<text text-anchor=\"middle\" x=\"329.248\" y=\"-161.462\" font-family=\"Times New Roman,serif\" font-size=\"14.00\">False</text>\r\n",
       "</g>\r\n",
       "<!-- 2 -->\r\n",
       "<g id=\"node3\" class=\"node\"><title>2</title>\r\n",
       "<polygon fill=\"none\" stroke=\"black\" points=\"113,-36 59,-36 59,-0 113,-0 113,-36\"/>\r\n",
       "<text text-anchor=\"middle\" x=\"86\" y=\"-14.3\" font-family=\"Times New Roman,serif\" font-size=\"14.00\">(...)</text>\r\n",
       "</g>\r\n",
       "<!-- 1&#45;&gt;2 -->\r\n",
       "<g id=\"edge2\" class=\"edge\"><title>1&#45;&gt;2</title>\r\n",
       "<path fill=\"none\" stroke=\"black\" d=\"M108.184,-71.9961C104.536,-63.2804 100.645,-53.9846 97.1564,-45.6514\"/>\r\n",
       "<polygon fill=\"black\" stroke=\"black\" points=\"100.375,-44.2763 93.2851,-36.4034 93.918,-46.9793 100.375,-44.2763\"/>\r\n",
       "</g>\r\n",
       "<!-- 1435 -->\r\n",
       "<g id=\"node4\" class=\"node\"><title>1435</title>\r\n",
       "<polygon fill=\"none\" stroke=\"black\" points=\"185,-36 131,-36 131,-0 185,-0 185,-36\"/>\r\n",
       "<text text-anchor=\"middle\" x=\"158\" y=\"-14.3\" font-family=\"Times New Roman,serif\" font-size=\"14.00\">(...)</text>\r\n",
       "</g>\r\n",
       "<!-- 1&#45;&gt;1435 -->\r\n",
       "<g id=\"edge3\" class=\"edge\"><title>1&#45;&gt;1435</title>\r\n",
       "<path fill=\"none\" stroke=\"black\" d=\"M135.816,-71.9961C139.464,-63.2804 143.355,-53.9846 146.844,-45.6514\"/>\r\n",
       "<polygon fill=\"black\" stroke=\"black\" points=\"150.082,-46.9793 150.715,-36.4034 143.625,-44.2763 150.082,-46.9793\"/>\r\n",
       "</g>\r\n",
       "<!-- 1445 -->\r\n",
       "<g id=\"node6\" class=\"node\"><title>1445</title>\r\n",
       "<polygon fill=\"none\" stroke=\"black\" points=\"364,-36 310,-36 310,-0 364,-0 364,-36\"/>\r\n",
       "<text text-anchor=\"middle\" x=\"337\" y=\"-14.3\" font-family=\"Times New Roman,serif\" font-size=\"14.00\">(...)</text>\r\n",
       "</g>\r\n",
       "<!-- 1444&#45;&gt;1445 -->\r\n",
       "<g id=\"edge5\" class=\"edge\"><title>1444&#45;&gt;1445</title>\r\n",
       "<path fill=\"none\" stroke=\"black\" d=\"M359.184,-71.9961C355.536,-63.2804 351.645,-53.9846 348.156,-45.6514\"/>\r\n",
       "<polygon fill=\"black\" stroke=\"black\" points=\"351.375,-44.2763 344.285,-36.4034 344.918,-46.9793 351.375,-44.2763\"/>\r\n",
       "</g>\r\n",
       "<!-- 2396 -->\r\n",
       "<g id=\"node7\" class=\"node\"><title>2396</title>\r\n",
       "<polygon fill=\"none\" stroke=\"black\" points=\"436,-36 382,-36 382,-0 436,-0 436,-36\"/>\r\n",
       "<text text-anchor=\"middle\" x=\"409\" y=\"-14.3\" font-family=\"Times New Roman,serif\" font-size=\"14.00\">(...)</text>\r\n",
       "</g>\r\n",
       "<!-- 1444&#45;&gt;2396 -->\r\n",
       "<g id=\"edge6\" class=\"edge\"><title>1444&#45;&gt;2396</title>\r\n",
       "<path fill=\"none\" stroke=\"black\" d=\"M386.816,-71.9961C390.464,-63.2804 394.355,-53.9846 397.844,-45.6514\"/>\r\n",
       "<polygon fill=\"black\" stroke=\"black\" points=\"401.082,-46.9793 401.715,-36.4034 394.625,-44.2763 401.082,-46.9793\"/>\r\n",
       "</g>\r\n",
       "</g>\r\n",
       "</svg>\r\n"
      ],
      "text/plain": [
       "<graphviz.files.Source at 0x22316915978>"
      ]
     },
     "execution_count": 164,
     "metadata": {},
     "output_type": "execute_result"
    }
   ],
   "source": [
    "plot_tree(rfr3[1], X.columns, max_depth=1)"
   ]
  },
  {
   "cell_type": "markdown",
   "metadata": {},
   "source": [
    "Now we can see, we can get the different tree by using max_features argument. It can generate more varience to models."
   ]
  }
 ],
 "metadata": {
  "kernelspec": {
   "display_name": "Python 3",
   "language": "python",
   "name": "python3"
  },
  "language_info": {
   "codemirror_mode": {
    "name": "ipython",
    "version": 3
   },
   "file_extension": ".py",
   "mimetype": "text/x-python",
   "name": "python",
   "nbconvert_exporter": "python",
   "pygments_lexer": "ipython3",
   "version": "3.7.3"
  }
 },
 "nbformat": 4,
 "nbformat_minor": 2
}
