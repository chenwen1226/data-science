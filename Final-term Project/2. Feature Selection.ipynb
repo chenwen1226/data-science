{
 "cells": [
  {
   "cell_type": "markdown",
   "metadata": {},
   "source": [
    "# Feature Selection"
   ]
  },
  {
   "cell_type": "markdown",
   "metadata": {},
   "source": [
    "### Loading our data"
   ]
  },
  {
   "cell_type": "code",
   "execution_count": 1,
   "metadata": {},
   "outputs": [],
   "source": [
    "from sklearn.model_selection import train_test_split\n",
    "import json\n",
    "import pandas as pd\n",
    "import numpy as np\n",
    "\n",
    "df = pd.read_csv('df2.csv')\n",
    "\n",
    "X = df.drop(columns=['Unnamed: 0', 'prices.amountMax'])\n",
    "y = df['prices.amountMax']\n",
    "\n",
    "X_train, X, y_train, y_test = train_test_split(X, y, test_size=0.2, random_state=1)\n",
    "\n",
    "X_train, X_val, y_train, y_val = train_test_split(X_train, y_train, test_size=0.2, random_state=1)"
   ]
  },
  {
   "cell_type": "code",
   "execution_count": 2,
   "metadata": {},
   "outputs": [
    {
     "data": {
      "text/plain": [
       "(3428, 102)"
      ]
     },
     "execution_count": 2,
     "metadata": {},
     "output_type": "execute_result"
    }
   ],
   "source": [
    "X_train.shape"
   ]
  },
  {
   "cell_type": "code",
   "execution_count": 3,
   "metadata": {},
   "outputs": [
    {
     "data": {
      "text/plain": [
       "(1072, 102)"
      ]
     },
     "execution_count": 3,
     "metadata": {},
     "output_type": "execute_result"
    }
   ],
   "source": [
    "X.shape"
   ]
  },
  {
   "cell_type": "code",
   "execution_count": 4,
   "metadata": {},
   "outputs": [
    {
     "data": {
      "text/plain": [
       "(857, 102)"
      ]
     },
     "execution_count": 4,
     "metadata": {},
     "output_type": "execute_result"
    }
   ],
   "source": [
    "X_val.shape"
   ]
  },
  {
   "cell_type": "code",
   "execution_count": 5,
   "metadata": {},
   "outputs": [],
   "source": [
    "from sklearn.ensemble import RandomForestRegressor\n",
    "rfr = RandomForestRegressor(n_estimators = 35, max_features='log2').fit(X_train, y_train)"
   ]
  },
  {
   "cell_type": "code",
   "execution_count": 6,
   "metadata": {},
   "outputs": [
    {
     "data": {
      "text/plain": [
       "0.5770258444582641"
      ]
     },
     "execution_count": 6,
     "metadata": {},
     "output_type": "execute_result"
    }
   ],
   "source": [
    "rfr.score(X_val, y_val)"
   ]
  },
  {
   "cell_type": "markdown",
   "metadata": {},
   "source": [
    "### 1. Working with Feature Importances"
   ]
  },
  {
   "cell_type": "code",
   "execution_count": 7,
   "metadata": {},
   "outputs": [],
   "source": [
    "importance_numbers = rfr.feature_importances_"
   ]
  },
  {
   "cell_type": "code",
   "execution_count": 8,
   "metadata": {},
   "outputs": [],
   "source": [
    "importance_list = importance_numbers.tolist()"
   ]
  },
  {
   "cell_type": "code",
   "execution_count": 9,
   "metadata": {},
   "outputs": [
    {
     "data": {
      "text/plain": [
       "Index(['prices.isSale', 'prices.dateSeenYear', 'prices.dateSeenMonth',\n",
       "       'prices.dateSeenWeek', 'prices.dateSeenDay', 'prices.dateSeenDayofweek',\n",
       "       'prices.dateSeenDayofyear', 'prices.dateSeenIs_month_end',\n",
       "       'prices.dateSeenIs_month_start', 'prices.dateSeenIs_quarter_end',\n",
       "       ...\n",
       "       'colors_Multicolor', 'colors_Pink', 'colors_Red', 'colors_Silver',\n",
       "       'colors_White', 'colors_nan_value', 'colors_other',\n",
       "       'prices.currency_AUD', 'prices.currency_CAD', 'prices.currency_USD'],\n",
       "      dtype='object', length=102)"
      ]
     },
     "execution_count": 9,
     "metadata": {},
     "output_type": "execute_result"
    }
   ],
   "source": [
    "X.columns"
   ]
  },
  {
   "cell_type": "code",
   "execution_count": 10,
   "metadata": {},
   "outputs": [],
   "source": [
    "importances = np.vstack((X.columns, importance_list))"
   ]
  },
  {
   "cell_type": "code",
   "execution_count": 11,
   "metadata": {},
   "outputs": [],
   "source": [
    "importances = pd.Series(importance_list, index = X.columns)"
   ]
  },
  {
   "cell_type": "code",
   "execution_count": 12,
   "metadata": {},
   "outputs": [
    {
     "data": {
      "text/plain": [
       "(27,)"
      ]
     },
     "execution_count": 12,
     "metadata": {},
     "output_type": "execute_result"
    }
   ],
   "source": [
    "importances[importances>0.01].shape"
   ]
  },
  {
   "cell_type": "markdown",
   "metadata": {},
   "source": [
    "* The number of the features whose importance values are larger than .01, is 27."
   ]
  },
  {
   "cell_type": "code",
   "execution_count": 13,
   "metadata": {},
   "outputs": [],
   "source": [
    "Important = X.columns[importances>0.01]"
   ]
  },
  {
   "cell_type": "code",
   "execution_count": 14,
   "metadata": {},
   "outputs": [],
   "source": [
    "X_importances_train = X_train[Important]"
   ]
  },
  {
   "cell_type": "code",
   "execution_count": 15,
   "metadata": {},
   "outputs": [],
   "source": [
    "X_importances_val = X_val[Important]"
   ]
  },
  {
   "cell_type": "code",
   "execution_count": 16,
   "metadata": {},
   "outputs": [
    {
     "data": {
      "text/plain": [
       "(3428, 27)"
      ]
     },
     "execution_count": 16,
     "metadata": {},
     "output_type": "execute_result"
    }
   ],
   "source": [
    "X_importances_train.shape"
   ]
  },
  {
   "cell_type": "code",
   "execution_count": 17,
   "metadata": {},
   "outputs": [
    {
     "data": {
      "text/plain": [
       "(857, 27)"
      ]
     },
     "execution_count": 17,
     "metadata": {},
     "output_type": "execute_result"
    }
   ],
   "source": [
    "X_importances_val.shape"
   ]
  },
  {
   "cell_type": "code",
   "execution_count": 18,
   "metadata": {},
   "outputs": [],
   "source": [
    "rfr_importances = RandomForestRegressor(n_estimators = 40, max_features='log2').fit(X_importances_train, y_train)"
   ]
  },
  {
   "cell_type": "code",
   "execution_count": 19,
   "metadata": {},
   "outputs": [
    {
     "data": {
      "text/plain": [
       "0.5315595834247"
      ]
     },
     "execution_count": 19,
     "metadata": {},
     "output_type": "execute_result"
    }
   ],
   "source": [
    "rfr_importances.score(X_importances_val, y_val)"
   ]
  },
  {
   "cell_type": "markdown",
   "metadata": {},
   "source": [
    "Here, we can see that using the feature importances did not exactly provide us with a cutoff number, and increase our accuracy."
   ]
  },
  {
   "cell_type": "markdown",
   "metadata": {},
   "source": [
    "### 2. Working with Permutation Importance"
   ]
  },
  {
   "cell_type": "code",
   "execution_count": 20,
   "metadata": {},
   "outputs": [
    {
     "data": {
      "text/plain": [
       "0.5777096037982281"
      ]
     },
     "execution_count": 20,
     "metadata": {},
     "output_type": "execute_result"
    }
   ],
   "source": [
    "from sklearn.ensemble import RandomForestRegressor\n",
    "rfr = RandomForestRegressor(n_estimators = 40, max_features='log2')\n",
    "rfr.fit(X_train, y_train)\n",
    "rfr.score(X_val, y_val)"
   ]
  },
  {
   "cell_type": "markdown",
   "metadata": {},
   "source": [
    "Now that we have trained our model, it's time to select some features from the model.  We start by using our `PermutationImportance` transformer."
   ]
  },
  {
   "cell_type": "code",
   "execution_count": 21,
   "metadata": {},
   "outputs": [],
   "source": [
    "import eli5"
   ]
  },
  {
   "cell_type": "code",
   "execution_count": 22,
   "metadata": {},
   "outputs": [],
   "source": [
    "from eli5.sklearn import PermutationImportance\n",
    "perm = PermutationImportance(rfr).fit(X_val, y_val)"
   ]
  },
  {
   "cell_type": "markdown",
   "metadata": {},
   "source": [
    "> And then we view the importances."
   ]
  },
  {
   "cell_type": "code",
   "execution_count": 23,
   "metadata": {},
   "outputs": [
    {
     "data": {
      "text/html": [
       "<div>\n",
       "<style scoped>\n",
       "    .dataframe tbody tr th:only-of-type {\n",
       "        vertical-align: middle;\n",
       "    }\n",
       "\n",
       "    .dataframe tbody tr th {\n",
       "        vertical-align: top;\n",
       "    }\n",
       "\n",
       "    .dataframe thead th {\n",
       "        text-align: right;\n",
       "    }\n",
       "</style>\n",
       "<table border=\"1\" class=\"dataframe\">\n",
       "  <thead>\n",
       "    <tr style=\"text-align: right;\">\n",
       "      <th></th>\n",
       "      <th>feature</th>\n",
       "      <th>weight</th>\n",
       "      <th>std</th>\n",
       "    </tr>\n",
       "  </thead>\n",
       "  <tbody>\n",
       "    <tr>\n",
       "      <th>0</th>\n",
       "      <td>prices.isSale</td>\n",
       "      <td>0.301369</td>\n",
       "      <td>0.017391</td>\n",
       "    </tr>\n",
       "    <tr>\n",
       "      <th>1</th>\n",
       "      <td>categories_Boots</td>\n",
       "      <td>0.028634</td>\n",
       "      <td>0.003665</td>\n",
       "    </tr>\n",
       "    <tr>\n",
       "      <th>2</th>\n",
       "      <td>categories_Slippers</td>\n",
       "      <td>0.015874</td>\n",
       "      <td>0.001687</td>\n",
       "    </tr>\n",
       "    <tr>\n",
       "      <th>3</th>\n",
       "      <td>brand_Dansko</td>\n",
       "      <td>0.015483</td>\n",
       "      <td>0.001242</td>\n",
       "    </tr>\n",
       "    <tr>\n",
       "      <th>4</th>\n",
       "      <td>brand_other</td>\n",
       "      <td>0.012488</td>\n",
       "      <td>0.004773</td>\n",
       "    </tr>\n",
       "  </tbody>\n",
       "</table>\n",
       "</div>"
      ],
      "text/plain": [
       "               feature    weight       std\n",
       "0        prices.isSale  0.301369  0.017391\n",
       "1     categories_Boots  0.028634  0.003665\n",
       "2  categories_Slippers  0.015874  0.001687\n",
       "3         brand_Dansko  0.015483  0.001242\n",
       "4          brand_other  0.012488  0.004773"
      ]
     },
     "execution_count": 23,
     "metadata": {},
     "output_type": "execute_result"
    }
   ],
   "source": [
    "eli5.explain_weights_df(perm, feature_names = X_val.columns.to_list()).head(5)"
   ]
  },
  {
   "cell_type": "markdown",
   "metadata": {},
   "source": [
    "Now, to select the features, we could simply select the features from the dataframe.  Another mechanism is to use the `SelectFromModel` transformer from sklearn."
   ]
  },
  {
   "cell_type": "code",
   "execution_count": 24,
   "metadata": {},
   "outputs": [],
   "source": [
    "from sklearn.feature_selection import SelectFromModel\n",
    "first_selection = SelectFromModel(perm, threshold=0.005, prefit=True)\n",
    "X_val_first_select = first_selection.transform(X_val)\n",
    "X_train_first_select = first_selection.transform(X_train)"
   ]
  },
  {
   "cell_type": "markdown",
   "metadata": {},
   "source": [
    "At the beginning we select the all 102 features. Then we retrain the model with just features beyond .005 and see how it performs.  "
   ]
  },
  {
   "cell_type": "code",
   "execution_count": 25,
   "metadata": {},
   "outputs": [
    {
     "data": {
      "text/plain": [
       "0.5658769952381899"
      ]
     },
     "execution_count": 25,
     "metadata": {},
     "output_type": "execute_result"
    }
   ],
   "source": [
    "rfr_first_select = RandomForestRegressor(n_estimators=40, max_features='log2')\n",
    "rfr_first_select.fit(X_train_first_select, y_train)\n",
    "rfr_first_select.score(X_val_first_select, y_val)"
   ]
  },
  {
   "cell_type": "markdown",
   "metadata": {},
   "source": [
    "Here, we see an increase in performance from our model.  We can determine which features were selected with the `get_support` method."
   ]
  },
  {
   "cell_type": "code",
   "execution_count": 26,
   "metadata": {},
   "outputs": [
    {
     "data": {
      "text/plain": [
       "Index(['prices.isSale', 'prices.dateSeenElapsed', 'brand_Dansko', 'brand_Nike',\n",
       "       'brand_Ugg', 'brand_other', 'manufacturer_Nike',\n",
       "       'manufacturerNumber_other', 'prices.merchant_Shoes.com',\n",
       "       'categories_Athletic', 'categories_Boots', 'categories_Sandals',\n",
       "       'categories_Slip-ons', 'categories_Slippers', 'categories_other',\n",
       "       'colors_Green', 'colors_nan_value'],\n",
       "      dtype='object')"
      ]
     },
     "execution_count": 26,
     "metadata": {},
     "output_type": "execute_result"
    }
   ],
   "source": [
    "first_select_cols = X_train.columns[first_selection.get_support()]\n",
    "first_select_cols"
   ]
  },
  {
   "cell_type": "code",
   "execution_count": 27,
   "metadata": {},
   "outputs": [
    {
     "data": {
      "text/plain": [
       "(17,)"
      ]
     },
     "execution_count": 27,
     "metadata": {},
     "output_type": "execute_result"
    }
   ],
   "source": [
    "first_select_cols.shape"
   ]
  },
  {
   "cell_type": "markdown",
   "metadata": {},
   "source": [
    "Round two"
   ]
  },
  {
   "cell_type": "markdown",
   "metadata": {},
   "source": [
    "Now that we are only selecting thirty eight columns, and some of the features were collinear with others, if we look at feature importances we are sure to see some changes.  Let's call `PermutationImportance` again just with these features."
   ]
  },
  {
   "cell_type": "code",
   "execution_count": 28,
   "metadata": {},
   "outputs": [],
   "source": [
    "from eli5.sklearn import PermutationImportance\n",
    "second_pmi = PermutationImportance(rfr_first_select).fit(X_val_first_select, y_val)"
   ]
  },
  {
   "cell_type": "code",
   "execution_count": 29,
   "metadata": {},
   "outputs": [
    {
     "data": {
      "text/html": [
       "<div>\n",
       "<style scoped>\n",
       "    .dataframe tbody tr th:only-of-type {\n",
       "        vertical-align: middle;\n",
       "    }\n",
       "\n",
       "    .dataframe tbody tr th {\n",
       "        vertical-align: top;\n",
       "    }\n",
       "\n",
       "    .dataframe thead th {\n",
       "        text-align: right;\n",
       "    }\n",
       "</style>\n",
       "<table border=\"1\" class=\"dataframe\">\n",
       "  <thead>\n",
       "    <tr style=\"text-align: right;\">\n",
       "      <th></th>\n",
       "      <th>feature</th>\n",
       "      <th>weight</th>\n",
       "      <th>std</th>\n",
       "    </tr>\n",
       "  </thead>\n",
       "  <tbody>\n",
       "    <tr>\n",
       "      <th>0</th>\n",
       "      <td>prices.isSale</td>\n",
       "      <td>0.396160</td>\n",
       "      <td>0.020308</td>\n",
       "    </tr>\n",
       "    <tr>\n",
       "      <th>1</th>\n",
       "      <td>prices.dateSeenElapsed</td>\n",
       "      <td>0.281447</td>\n",
       "      <td>0.011757</td>\n",
       "    </tr>\n",
       "    <tr>\n",
       "      <th>2</th>\n",
       "      <td>brand_other</td>\n",
       "      <td>0.167439</td>\n",
       "      <td>0.010576</td>\n",
       "    </tr>\n",
       "    <tr>\n",
       "      <th>3</th>\n",
       "      <td>categories_other</td>\n",
       "      <td>0.111436</td>\n",
       "      <td>0.012583</td>\n",
       "    </tr>\n",
       "    <tr>\n",
       "      <th>4</th>\n",
       "      <td>brand_Dansko</td>\n",
       "      <td>0.076253</td>\n",
       "      <td>0.004496</td>\n",
       "    </tr>\n",
       "    <tr>\n",
       "      <th>5</th>\n",
       "      <td>categories_Boots</td>\n",
       "      <td>0.074275</td>\n",
       "      <td>0.008252</td>\n",
       "    </tr>\n",
       "    <tr>\n",
       "      <th>6</th>\n",
       "      <td>brand_Ugg</td>\n",
       "      <td>0.073363</td>\n",
       "      <td>0.003695</td>\n",
       "    </tr>\n",
       "    <tr>\n",
       "      <th>7</th>\n",
       "      <td>categories_Athletic</td>\n",
       "      <td>0.062089</td>\n",
       "      <td>0.007250</td>\n",
       "    </tr>\n",
       "    <tr>\n",
       "      <th>8</th>\n",
       "      <td>categories_Slip-ons</td>\n",
       "      <td>0.055433</td>\n",
       "      <td>0.003924</td>\n",
       "    </tr>\n",
       "    <tr>\n",
       "      <th>9</th>\n",
       "      <td>categories_Slippers</td>\n",
       "      <td>0.042482</td>\n",
       "      <td>0.004750</td>\n",
       "    </tr>\n",
       "  </tbody>\n",
       "</table>\n",
       "</div>"
      ],
      "text/plain": [
       "                  feature    weight       std\n",
       "0           prices.isSale  0.396160  0.020308\n",
       "1  prices.dateSeenElapsed  0.281447  0.011757\n",
       "2             brand_other  0.167439  0.010576\n",
       "3        categories_other  0.111436  0.012583\n",
       "4            brand_Dansko  0.076253  0.004496\n",
       "5        categories_Boots  0.074275  0.008252\n",
       "6               brand_Ugg  0.073363  0.003695\n",
       "7     categories_Athletic  0.062089  0.007250\n",
       "8     categories_Slip-ons  0.055433  0.003924\n",
       "9     categories_Slippers  0.042482  0.004750"
      ]
     },
     "execution_count": 29,
     "metadata": {},
     "output_type": "execute_result"
    }
   ],
   "source": [
    "eli5.explain_weights_df(second_pmi, top=10, feature_names = first_select_cols.to_list())"
   ]
  },
  {
   "cell_type": "markdown",
   "metadata": {},
   "source": [
    "So we can see that prices.isSale count now has a weight near .39, up from it's previous score of .09.  On the other side, we also have features that no longer make our one percent weight cutoff."
   ]
  },
  {
   "cell_type": "code",
   "execution_count": 30,
   "metadata": {},
   "outputs": [
    {
     "data": {
      "text/html": [
       "<div>\n",
       "<style scoped>\n",
       "    .dataframe tbody tr th:only-of-type {\n",
       "        vertical-align: middle;\n",
       "    }\n",
       "\n",
       "    .dataframe tbody tr th {\n",
       "        vertical-align: top;\n",
       "    }\n",
       "\n",
       "    .dataframe thead th {\n",
       "        text-align: right;\n",
       "    }\n",
       "</style>\n",
       "<table border=\"1\" class=\"dataframe\">\n",
       "  <thead>\n",
       "    <tr style=\"text-align: right;\">\n",
       "      <th></th>\n",
       "      <th>feature</th>\n",
       "      <th>weight</th>\n",
       "      <th>std</th>\n",
       "    </tr>\n",
       "  </thead>\n",
       "  <tbody>\n",
       "    <tr>\n",
       "      <th>12</th>\n",
       "      <td>manufacturer_Nike</td>\n",
       "      <td>0.018960</td>\n",
       "      <td>0.002471</td>\n",
       "    </tr>\n",
       "    <tr>\n",
       "      <th>13</th>\n",
       "      <td>colors_nan_value</td>\n",
       "      <td>0.011060</td>\n",
       "      <td>0.003765</td>\n",
       "    </tr>\n",
       "    <tr>\n",
       "      <th>14</th>\n",
       "      <td>categories_Sandals</td>\n",
       "      <td>0.009913</td>\n",
       "      <td>0.003066</td>\n",
       "    </tr>\n",
       "    <tr>\n",
       "      <th>15</th>\n",
       "      <td>prices.merchant_Shoes.com</td>\n",
       "      <td>0.008995</td>\n",
       "      <td>0.002737</td>\n",
       "    </tr>\n",
       "    <tr>\n",
       "      <th>16</th>\n",
       "      <td>brand_Nike</td>\n",
       "      <td>0.002388</td>\n",
       "      <td>0.001239</td>\n",
       "    </tr>\n",
       "  </tbody>\n",
       "</table>\n",
       "</div>"
      ],
      "text/plain": [
       "                      feature    weight       std\n",
       "12          manufacturer_Nike  0.018960  0.002471\n",
       "13           colors_nan_value  0.011060  0.003765\n",
       "14         categories_Sandals  0.009913  0.003066\n",
       "15  prices.merchant_Shoes.com  0.008995  0.002737\n",
       "16                 brand_Nike  0.002388  0.001239"
      ]
     },
     "execution_count": 30,
     "metadata": {},
     "output_type": "execute_result"
    }
   ],
   "source": [
    "eli5.explain_weights_df(second_pmi, feature_names = first_select_cols.to_list()).tail(5)"
   ]
  },
  {
   "cell_type": "markdown",
   "metadata": {},
   "source": [
    "So let's select from our model again."
   ]
  },
  {
   "cell_type": "code",
   "execution_count": 31,
   "metadata": {},
   "outputs": [
    {
     "data": {
      "text/plain": [
       "0.5601169165449147"
      ]
     },
     "execution_count": 31,
     "metadata": {},
     "output_type": "execute_result"
    }
   ],
   "source": [
    "second_select = SelectFromModel(second_pmi, threshold=0.01, prefit=True)\n",
    "X_train_second_select = second_select.transform(X_train_first_select)\n",
    "X_val_second_select = second_select.transform(X_val_first_select)\n",
    "\n",
    "rfr_second_select = RandomForestRegressor(n_estimators=40, max_features='log2')\n",
    "rfr_second_select.fit(X_train_second_select, y_train)\n",
    "rfr_second_select.score(X_val_second_select, y_val)"
   ]
  },
  {
   "cell_type": "markdown",
   "metadata": {},
   "source": [
    "And again."
   ]
  },
  {
   "cell_type": "code",
   "execution_count": 32,
   "metadata": {},
   "outputs": [
    {
     "data": {
      "text/plain": [
       "0.5556765896967703"
      ]
     },
     "execution_count": 32,
     "metadata": {},
     "output_type": "execute_result"
    }
   ],
   "source": [
    "third_pmi = PermutationImportance(rfr_second_select).fit(X_val_second_select, y_val)\n",
    "third_select = SelectFromModel(third_pmi, threshold=0.01, prefit=True)\n",
    "\n",
    "X_train_third_select = third_select.transform(X_train_second_select)\n",
    "X_val_third_select = third_select.transform(X_val_second_select)\n",
    "\n",
    "rfr_third_select = RandomForestRegressor(n_estimators=40, max_features='log2')\n",
    "rfr_third_select.fit(X_train_third_select, y_train)\n",
    "rfr_third_select.score(X_val_third_select, y_val)"
   ]
  },
  {
   "cell_type": "code",
   "execution_count": 33,
   "metadata": {},
   "outputs": [
    {
     "data": {
      "text/plain": [
       "(14,)"
      ]
     },
     "execution_count": 33,
     "metadata": {},
     "output_type": "execute_result"
    }
   ],
   "source": [
    "second_select_cols = first_select_cols[second_select.get_support()]\n",
    "third_select_cols = second_select_cols[third_select.get_support()]\n",
    "third_select_cols.shape"
   ]
  },
  {
   "cell_type": "code",
   "execution_count": 34,
   "metadata": {},
   "outputs": [
    {
     "data": {
      "text/html": [
       "<div>\n",
       "<style scoped>\n",
       "    .dataframe tbody tr th:only-of-type {\n",
       "        vertical-align: middle;\n",
       "    }\n",
       "\n",
       "    .dataframe tbody tr th {\n",
       "        vertical-align: top;\n",
       "    }\n",
       "\n",
       "    .dataframe thead th {\n",
       "        text-align: right;\n",
       "    }\n",
       "</style>\n",
       "<table border=\"1\" class=\"dataframe\">\n",
       "  <thead>\n",
       "    <tr style=\"text-align: right;\">\n",
       "      <th></th>\n",
       "      <th>feature</th>\n",
       "      <th>weight</th>\n",
       "      <th>std</th>\n",
       "    </tr>\n",
       "  </thead>\n",
       "  <tbody>\n",
       "    <tr>\n",
       "      <th>0</th>\n",
       "      <td>prices.isSale</td>\n",
       "      <td>0.366877</td>\n",
       "      <td>0.014884</td>\n",
       "    </tr>\n",
       "    <tr>\n",
       "      <th>1</th>\n",
       "      <td>prices.dateSeenElapsed</td>\n",
       "      <td>0.338579</td>\n",
       "      <td>0.025123</td>\n",
       "    </tr>\n",
       "    <tr>\n",
       "      <th>2</th>\n",
       "      <td>brand_other</td>\n",
       "      <td>0.164640</td>\n",
       "      <td>0.016674</td>\n",
       "    </tr>\n",
       "    <tr>\n",
       "      <th>3</th>\n",
       "      <td>categories_other</td>\n",
       "      <td>0.123573</td>\n",
       "      <td>0.022912</td>\n",
       "    </tr>\n",
       "    <tr>\n",
       "      <th>4</th>\n",
       "      <td>brand_Ugg</td>\n",
       "      <td>0.070968</td>\n",
       "      <td>0.008322</td>\n",
       "    </tr>\n",
       "    <tr>\n",
       "      <th>5</th>\n",
       "      <td>brand_Dansko</td>\n",
       "      <td>0.069838</td>\n",
       "      <td>0.004791</td>\n",
       "    </tr>\n",
       "    <tr>\n",
       "      <th>6</th>\n",
       "      <td>categories_Boots</td>\n",
       "      <td>0.063177</td>\n",
       "      <td>0.007665</td>\n",
       "    </tr>\n",
       "    <tr>\n",
       "      <th>7</th>\n",
       "      <td>categories_Athletic</td>\n",
       "      <td>0.045831</td>\n",
       "      <td>0.003270</td>\n",
       "    </tr>\n",
       "    <tr>\n",
       "      <th>8</th>\n",
       "      <td>categories_Slippers</td>\n",
       "      <td>0.038395</td>\n",
       "      <td>0.003174</td>\n",
       "    </tr>\n",
       "    <tr>\n",
       "      <th>9</th>\n",
       "      <td>manufacturerNumber_other</td>\n",
       "      <td>0.035802</td>\n",
       "      <td>0.002862</td>\n",
       "    </tr>\n",
       "    <tr>\n",
       "      <th>10</th>\n",
       "      <td>manufacturer_Nike</td>\n",
       "      <td>0.028630</td>\n",
       "      <td>0.008353</td>\n",
       "    </tr>\n",
       "    <tr>\n",
       "      <th>11</th>\n",
       "      <td>categories_Slip-ons</td>\n",
       "      <td>0.025117</td>\n",
       "      <td>0.001792</td>\n",
       "    </tr>\n",
       "    <tr>\n",
       "      <th>12</th>\n",
       "      <td>colors_Green</td>\n",
       "      <td>0.023463</td>\n",
       "      <td>0.004648</td>\n",
       "    </tr>\n",
       "    <tr>\n",
       "      <th>13</th>\n",
       "      <td>colors_nan_value</td>\n",
       "      <td>0.015943</td>\n",
       "      <td>0.007893</td>\n",
       "    </tr>\n",
       "  </tbody>\n",
       "</table>\n",
       "</div>"
      ],
      "text/plain": [
       "                     feature    weight       std\n",
       "0              prices.isSale  0.366877  0.014884\n",
       "1     prices.dateSeenElapsed  0.338579  0.025123\n",
       "2                brand_other  0.164640  0.016674\n",
       "3           categories_other  0.123573  0.022912\n",
       "4                  brand_Ugg  0.070968  0.008322\n",
       "5               brand_Dansko  0.069838  0.004791\n",
       "6           categories_Boots  0.063177  0.007665\n",
       "7        categories_Athletic  0.045831  0.003270\n",
       "8        categories_Slippers  0.038395  0.003174\n",
       "9   manufacturerNumber_other  0.035802  0.002862\n",
       "10         manufacturer_Nike  0.028630  0.008353\n",
       "11       categories_Slip-ons  0.025117  0.001792\n",
       "12              colors_Green  0.023463  0.004648\n",
       "13          colors_nan_value  0.015943  0.007893"
      ]
     },
     "execution_count": 34,
     "metadata": {},
     "output_type": "execute_result"
    }
   ],
   "source": [
    "eli5.explain_weights_df(third_pmi, feature_names = second_select_cols.to_list())"
   ]
  },
  {
   "cell_type": "markdown",
   "metadata": {},
   "source": [
    "And again."
   ]
  },
  {
   "cell_type": "code",
   "execution_count": 35,
   "metadata": {},
   "outputs": [
    {
     "data": {
      "text/plain": [
       "0.5614794262767551"
      ]
     },
     "execution_count": 35,
     "metadata": {},
     "output_type": "execute_result"
    }
   ],
   "source": [
    "fourth_pmi = PermutationImportance(rfr_third_select).fit(X_val_third_select, y_val)\n",
    "fourth_select = SelectFromModel(fourth_pmi, threshold=0.01, prefit=True)\n",
    "\n",
    "X_train_fourth_select = fourth_select.transform(X_train_third_select)\n",
    "X_val_fourth_select = fourth_select.transform(X_val_third_select)\n",
    "\n",
    "rfr_fourth_select = RandomForestRegressor(n_estimators=40, max_features='log2')\n",
    "rfr_fourth_select.fit(X_train_fourth_select, y_train)\n",
    "rfr_fourth_select.score(X_val_fourth_select, y_val)"
   ]
  },
  {
   "cell_type": "code",
   "execution_count": 36,
   "metadata": {},
   "outputs": [
    {
     "data": {
      "text/plain": [
       "(13,)"
      ]
     },
     "execution_count": 36,
     "metadata": {},
     "output_type": "execute_result"
    }
   ],
   "source": [
    "third_select_cols = second_select_cols[third_select.get_support()]\n",
    "fourth_select_cols = third_select_cols[fourth_select.get_support()]\n",
    "fourth_select_cols.shape"
   ]
  },
  {
   "cell_type": "code",
   "execution_count": 37,
   "metadata": {},
   "outputs": [
    {
     "data": {
      "text/html": [
       "<div>\n",
       "<style scoped>\n",
       "    .dataframe tbody tr th:only-of-type {\n",
       "        vertical-align: middle;\n",
       "    }\n",
       "\n",
       "    .dataframe tbody tr th {\n",
       "        vertical-align: top;\n",
       "    }\n",
       "\n",
       "    .dataframe thead th {\n",
       "        text-align: right;\n",
       "    }\n",
       "</style>\n",
       "<table border=\"1\" class=\"dataframe\">\n",
       "  <thead>\n",
       "    <tr style=\"text-align: right;\">\n",
       "      <th></th>\n",
       "      <th>feature</th>\n",
       "      <th>weight</th>\n",
       "      <th>std</th>\n",
       "    </tr>\n",
       "  </thead>\n",
       "  <tbody>\n",
       "    <tr>\n",
       "      <th>0</th>\n",
       "      <td>prices.isSale</td>\n",
       "      <td>0.379113</td>\n",
       "      <td>0.025581</td>\n",
       "    </tr>\n",
       "    <tr>\n",
       "      <th>1</th>\n",
       "      <td>prices.dateSeenElapsed</td>\n",
       "      <td>0.322318</td>\n",
       "      <td>0.027204</td>\n",
       "    </tr>\n",
       "    <tr>\n",
       "      <th>2</th>\n",
       "      <td>brand_other</td>\n",
       "      <td>0.169531</td>\n",
       "      <td>0.017784</td>\n",
       "    </tr>\n",
       "    <tr>\n",
       "      <th>3</th>\n",
       "      <td>categories_other</td>\n",
       "      <td>0.113063</td>\n",
       "      <td>0.009195</td>\n",
       "    </tr>\n",
       "    <tr>\n",
       "      <th>4</th>\n",
       "      <td>brand_Dansko</td>\n",
       "      <td>0.104862</td>\n",
       "      <td>0.005855</td>\n",
       "    </tr>\n",
       "    <tr>\n",
       "      <th>5</th>\n",
       "      <td>categories_Boots</td>\n",
       "      <td>0.087794</td>\n",
       "      <td>0.012794</td>\n",
       "    </tr>\n",
       "    <tr>\n",
       "      <th>6</th>\n",
       "      <td>brand_Ugg</td>\n",
       "      <td>0.068031</td>\n",
       "      <td>0.004230</td>\n",
       "    </tr>\n",
       "    <tr>\n",
       "      <th>7</th>\n",
       "      <td>categories_Athletic</td>\n",
       "      <td>0.048411</td>\n",
       "      <td>0.007695</td>\n",
       "    </tr>\n",
       "    <tr>\n",
       "      <th>8</th>\n",
       "      <td>categories_Slippers</td>\n",
       "      <td>0.036771</td>\n",
       "      <td>0.002879</td>\n",
       "    </tr>\n",
       "    <tr>\n",
       "      <th>9</th>\n",
       "      <td>manufacturer_Nike</td>\n",
       "      <td>0.027604</td>\n",
       "      <td>0.003949</td>\n",
       "    </tr>\n",
       "    <tr>\n",
       "      <th>10</th>\n",
       "      <td>manufacturerNumber_other</td>\n",
       "      <td>0.026137</td>\n",
       "      <td>0.002505</td>\n",
       "    </tr>\n",
       "    <tr>\n",
       "      <th>11</th>\n",
       "      <td>colors_Green</td>\n",
       "      <td>0.024284</td>\n",
       "      <td>0.010696</td>\n",
       "    </tr>\n",
       "    <tr>\n",
       "      <th>12</th>\n",
       "      <td>categories_Slip-ons</td>\n",
       "      <td>0.018078</td>\n",
       "      <td>0.001750</td>\n",
       "    </tr>\n",
       "    <tr>\n",
       "      <th>13</th>\n",
       "      <td>colors_nan_value</td>\n",
       "      <td>0.009461</td>\n",
       "      <td>0.006597</td>\n",
       "    </tr>\n",
       "  </tbody>\n",
       "</table>\n",
       "</div>"
      ],
      "text/plain": [
       "                     feature    weight       std\n",
       "0              prices.isSale  0.379113  0.025581\n",
       "1     prices.dateSeenElapsed  0.322318  0.027204\n",
       "2                brand_other  0.169531  0.017784\n",
       "3           categories_other  0.113063  0.009195\n",
       "4               brand_Dansko  0.104862  0.005855\n",
       "5           categories_Boots  0.087794  0.012794\n",
       "6                  brand_Ugg  0.068031  0.004230\n",
       "7        categories_Athletic  0.048411  0.007695\n",
       "8        categories_Slippers  0.036771  0.002879\n",
       "9          manufacturer_Nike  0.027604  0.003949\n",
       "10  manufacturerNumber_other  0.026137  0.002505\n",
       "11              colors_Green  0.024284  0.010696\n",
       "12       categories_Slip-ons  0.018078  0.001750\n",
       "13          colors_nan_value  0.009461  0.006597"
      ]
     },
     "execution_count": 37,
     "metadata": {},
     "output_type": "execute_result"
    }
   ],
   "source": [
    "eli5.explain_weights_df(fourth_pmi, feature_names = third_select_cols.to_list())"
   ]
  },
  {
   "cell_type": "markdown",
   "metadata": {},
   "source": [
    "The score doesn't go up after this round. So from here, we can begin to identify the most important features."
   ]
  },
  {
   "cell_type": "code",
   "execution_count": 38,
   "metadata": {},
   "outputs": [],
   "source": [
    "selected_X_train = pd.DataFrame(X_train_fourth_select, columns=fourth_select_cols)\n",
    "selected_X_val = pd.DataFrame(X_val_fourth_select, columns=fourth_select_cols)"
   ]
  },
  {
   "cell_type": "code",
   "execution_count": 39,
   "metadata": {},
   "outputs": [
    {
     "data": {
      "text/plain": [
       "Index(['prices.isSale', 'prices.dateSeenElapsed', 'brand_Dansko', 'brand_Ugg',\n",
       "       'brand_other', 'manufacturer_Nike', 'manufacturerNumber_other',\n",
       "       'categories_Athletic', 'categories_Boots', 'categories_Slip-ons',\n",
       "       'categories_Slippers', 'categories_other', 'colors_Green'],\n",
       "      dtype='object')"
      ]
     },
     "execution_count": 39,
     "metadata": {},
     "output_type": "execute_result"
    }
   ],
   "source": [
    "fourth_select_cols"
   ]
  },
  {
   "cell_type": "markdown",
   "metadata": {},
   "source": [
    "### 3. Correlation Analysis"
   ]
  },
  {
   "cell_type": "markdown",
   "metadata": {},
   "source": [
    "#### Working with Spearman Correlation"
   ]
  },
  {
   "cell_type": "code",
   "execution_count": 40,
   "metadata": {},
   "outputs": [],
   "source": [
    "selected_X_train = selected_X_train.astype('int32')\n",
    "selected_X_val = selected_X_val.astype('int32')"
   ]
  },
  {
   "cell_type": "code",
   "execution_count": 41,
   "metadata": {},
   "outputs": [
    {
     "data": {
      "text/plain": [
       "Index(['brand_Dansko', 'manufacturerNumber_other', 'categories_Slip-ons',\n",
       "       'categories_other'],\n",
       "      dtype='object')"
      ]
     },
     "execution_count": 41,
     "metadata": {},
     "output_type": "execute_result"
    }
   ],
   "source": [
    "import numpy as np\n",
    "indexed_corr = (np.abs(selected_X_train.corr(method = 'spearman')) > .5).sum()\n",
    "correlated_cols = indexed_corr[indexed_corr > 1].index\n",
    "correlated_cols"
   ]
  },
  {
   "cell_type": "code",
   "execution_count": 43,
   "metadata": {},
   "outputs": [
    {
     "data": {
      "text/plain": [
       "<matplotlib.axes._subplots.AxesSubplot at 0x2111fab2b00>"
      ]
     },
     "execution_count": 43,
     "metadata": {},
     "output_type": "execute_result"
    },
    {
     "data": {
      "image/png": "[encoded data removed]",
      "text/plain": [
       "<Figure size 432x432 with 2 Axes>"
      ]
     },
     "metadata": {
      "needs_background": "light"
     },
     "output_type": "display_data"
    }
   ],
   "source": [
    "import seaborn as sns\n",
    "import matplotlib.pyplot as plt\n",
    "plt.figure(figsize=(6, 6))\n",
    "df_corr = selected_X_train[correlated_cols].corr(method = 'spearman')\n",
    "sns.heatmap(df_corr, annot = True)"
   ]
  },
  {
   "cell_type": "markdown",
   "metadata": {},
   "source": [
    "From here we can identify those features that are highly correlated. The lighter the color, the higher the correlation."
   ]
  },
  {
   "cell_type": "markdown",
   "metadata": {},
   "source": [
    "* 'brand_Dansko', 'categories_Slip-ons'\n",
    "* 'manufacturerNumber_other', 'categories_other'"
   ]
  },
  {
   "cell_type": "markdown",
   "metadata": {},
   "source": [
    "#### a) 'brand_Dansko', 'categories_Slip-ons'"
   ]
  },
  {
   "cell_type": "markdown",
   "metadata": {},
   "source": [
    "If we try various permutations of removing one or more of our availability features, to see if we suffer a significant from from our original score of .831. We find scores like the following:\n",
    "* remove `brand_Dansko`: 0.560\n",
    "* remove `categories_Slip-ons`: 0.564\n",
    "\n",
    "They are almost the same.  I prefer remove categories_Slip-ons."
   ]
  },
  {
   "cell_type": "code",
   "execution_count": 44,
   "metadata": {},
   "outputs": [
    {
     "data": {
      "text/plain": [
       "0.5606915962634698"
      ]
     },
     "execution_count": 44,
     "metadata": {},
     "output_type": "execute_result"
    }
   ],
   "source": [
    "df_dropped_brand_Dansko_train = selected_X_train.drop(columns = ['brand_Dansko'])\n",
    "df_dropped_brand_Dansko_val = selected_X_val.drop(columns = ['brand_Dansko'])\n",
    "\n",
    "rfr_dropped_brand_Dansko = RandomForestRegressor(n_estimators=40, max_features='log2')\n",
    "rfr_dropped_brand_Dansko.fit(df_dropped_brand_Dansko_train, y_train)\n",
    "rfr_dropped_brand_Dansko.score(df_dropped_brand_Dansko_val, y_val)"
   ]
  },
  {
   "cell_type": "code",
   "execution_count": 45,
   "metadata": {},
   "outputs": [
    {
     "data": {
      "text/plain": [
       "0.5642189681732557"
      ]
     },
     "execution_count": 45,
     "metadata": {},
     "output_type": "execute_result"
    }
   ],
   "source": [
    "df_dropped_categories_Slip_ons_train = selected_X_train.drop(columns = ['categories_Slip-ons'])\n",
    "df_dropped_categories_Slip_ons_val = selected_X_val.drop(columns = ['categories_Slip-ons'])\n",
    "\n",
    "rfr_dropped_categories_Slip_ons = RandomForestRegressor(n_estimators=40, max_features='log2')\n",
    "rfr_dropped_categories_Slip_ons.fit(df_dropped_categories_Slip_ons_train, y_train)\n",
    "rfr_dropped_categories_Slip_ons.score(df_dropped_categories_Slip_ons_val, y_val)"
   ]
  },
  {
   "cell_type": "markdown",
   "metadata": {},
   "source": [
    "#### b) 'prices.merchant_Walmart', 'categories_other'"
   ]
  },
  {
   "cell_type": "markdown",
   "metadata": {},
   "source": [
    " `categories_other` and `manufacturerNumber_other` are neither informative\n",
    " \n",
    "* remove `categories_other`: 0.567\n",
    "* remove `manufacturerNumber_other`: 0.562\n",
    "\n",
    "So I drop `categories_other` for a higher score."
   ]
  },
  {
   "cell_type": "code",
   "execution_count": 54,
   "metadata": {},
   "outputs": [
    {
     "data": {
      "text/plain": [
       "0.567091195301141"
      ]
     },
     "execution_count": 54,
     "metadata": {},
     "output_type": "execute_result"
    }
   ],
   "source": [
    "train_drop_categories_other = df_dropped_categories_Slip_ons_train.drop(columns = ['categories_other'])\n",
    "val_drop_categories_other = df_dropped_categories_Slip_ons_val.drop(columns = ['categories_other'])\n",
    "rfr_dropped_categories_other = RandomForestRegressor(n_estimators=40, max_features='log2')\n",
    "\n",
    "rfr_dropped_categories_other.fit(train_drop_categories_other, y_train)\n",
    "rfr_dropped_categories_other.score(val_drop_categories_other, y_val)"
   ]
  },
  {
   "cell_type": "code",
   "execution_count": 55,
   "metadata": {},
   "outputs": [
    {
     "data": {
      "text/plain": [
       "0.5628136404384981"
      ]
     },
     "execution_count": 55,
     "metadata": {},
     "output_type": "execute_result"
    }
   ],
   "source": [
    "train_drop_manufacturerNumber_other = df_dropped_categories_Slip_ons_train.drop(columns = ['manufacturerNumber_other'])\n",
    "val_drop_manufacturerNumber_other = df_dropped_categories_Slip_ons_val.drop(columns = ['manufacturerNumber_other'])\n",
    "rfr_dropped_manufacturerNumber_other = RandomForestRegressor(n_estimators=40, max_features='log2')\n",
    "\n",
    "rfr_dropped_manufacturerNumber_other.fit(train_drop_manufacturerNumber_other, y_train)\n",
    "rfr_dropped_manufacturerNumber_other.score(val_drop_manufacturerNumber_other, y_val)"
   ]
  },
  {
   "cell_type": "code",
   "execution_count": 56,
   "metadata": {},
   "outputs": [
    {
     "data": {
      "text/plain": [
       "(3428, 11)"
      ]
     },
     "execution_count": 56,
     "metadata": {},
     "output_type": "execute_result"
    }
   ],
   "source": [
    "train_drop_categories_other.shape"
   ]
  },
  {
   "cell_type": "markdown",
   "metadata": {},
   "source": [
    "After the correlation analysis, we remove two features, then we get score .567 . Not bad.\n",
    "\n",
    "At the beginning we apply 102 features to score .56 . Now we use only 11 features."
   ]
  },
  {
   "cell_type": "markdown",
   "metadata": {},
   "source": [
    "#### Working with Scatter Plots"
   ]
  },
  {
   "cell_type": "code",
   "execution_count": 57,
   "metadata": {},
   "outputs": [
    {
     "name": "stdout",
     "output_type": "stream",
     "text": [
      "scatter matrix\n"
     ]
    },
    {
     "data": {
      "image/png": "[encoded data removed]",
      "text/plain": [
       "<Figure size 1440x1440 with 169 Axes>"
      ]
     },
     "metadata": {
      "needs_background": "light"
     },
     "output_type": "display_data"
    }
   ],
   "source": [
    "pd.plotting.scatter_matrix(selected_X_train, figsize=(20,20))\n",
    "print('scatter matrix')"
   ]
  },
  {
   "cell_type": "markdown",
   "metadata": {},
   "source": [
    "Although we can not tell the feature names in the graph, but we can see, the correlation maps are either spot or line. So it concludes that not any two of the features have high correlation in this graph.\n",
    "But as we see in spearson correlation analysis, some of them have correlation like .9, but we can not discover it here."
   ]
  },
  {
   "cell_type": "code",
   "execution_count": 58,
   "metadata": {},
   "outputs": [
    {
     "data": {
      "text/html": [
       "<div>\n",
       "<style scoped>\n",
       "    .dataframe tbody tr th:only-of-type {\n",
       "        vertical-align: middle;\n",
       "    }\n",
       "\n",
       "    .dataframe tbody tr th {\n",
       "        vertical-align: top;\n",
       "    }\n",
       "\n",
       "    .dataframe thead th {\n",
       "        text-align: right;\n",
       "    }\n",
       "</style>\n",
       "<table border=\"1\" class=\"dataframe\">\n",
       "  <thead>\n",
       "    <tr style=\"text-align: right;\">\n",
       "      <th></th>\n",
       "      <th>prices.isSale</th>\n",
       "      <th>prices.dateSeenElapsed</th>\n",
       "      <th>brand_Dansko</th>\n",
       "      <th>brand_Ugg</th>\n",
       "      <th>brand_other</th>\n",
       "      <th>manufacturer_Nike</th>\n",
       "      <th>manufacturerNumber_other</th>\n",
       "      <th>categories_Athletic</th>\n",
       "      <th>categories_Boots</th>\n",
       "      <th>categories_Slip-ons</th>\n",
       "      <th>categories_Slippers</th>\n",
       "      <th>categories_other</th>\n",
       "      <th>colors_Green</th>\n",
       "    </tr>\n",
       "  </thead>\n",
       "  <tbody>\n",
       "    <tr>\n",
       "      <th>prices.isSale</th>\n",
       "      <td>1.000000</td>\n",
       "      <td>-0.084094</td>\n",
       "      <td>-0.143868</td>\n",
       "      <td>0.032033</td>\n",
       "      <td>0.195032</td>\n",
       "      <td>-0.079268</td>\n",
       "      <td>0.231918</td>\n",
       "      <td>-0.181022</td>\n",
       "      <td>-0.110105</td>\n",
       "      <td>-0.156999</td>\n",
       "      <td>-0.082487</td>\n",
       "      <td>0.348756</td>\n",
       "      <td>0.044377</td>\n",
       "    </tr>\n",
       "    <tr>\n",
       "      <th>prices.dateSeenElapsed</th>\n",
       "      <td>-0.084094</td>\n",
       "      <td>1.000000</td>\n",
       "      <td>0.201446</td>\n",
       "      <td>0.001720</td>\n",
       "      <td>-0.135989</td>\n",
       "      <td>0.084033</td>\n",
       "      <td>-0.217906</td>\n",
       "      <td>0.056932</td>\n",
       "      <td>0.129051</td>\n",
       "      <td>0.216032</td>\n",
       "      <td>-0.108949</td>\n",
       "      <td>-0.156670</td>\n",
       "      <td>-0.002492</td>\n",
       "    </tr>\n",
       "    <tr>\n",
       "      <th>brand_Dansko</th>\n",
       "      <td>-0.143868</td>\n",
       "      <td>0.201446</td>\n",
       "      <td>1.000000</td>\n",
       "      <td>-0.028040</td>\n",
       "      <td>-0.200637</td>\n",
       "      <td>-0.046921</td>\n",
       "      <td>-0.436997</td>\n",
       "      <td>-0.064941</td>\n",
       "      <td>-0.068013</td>\n",
       "      <td>0.899795</td>\n",
       "      <td>-0.041773</td>\n",
       "      <td>-0.249776</td>\n",
       "      <td>-0.029751</td>\n",
       "    </tr>\n",
       "    <tr>\n",
       "      <th>brand_Ugg</th>\n",
       "      <td>0.032033</td>\n",
       "      <td>0.001720</td>\n",
       "      <td>-0.028040</td>\n",
       "      <td>1.000000</td>\n",
       "      <td>-0.138297</td>\n",
       "      <td>-0.032343</td>\n",
       "      <td>-0.301218</td>\n",
       "      <td>-0.044763</td>\n",
       "      <td>0.412281</td>\n",
       "      <td>-0.031163</td>\n",
       "      <td>-0.028794</td>\n",
       "      <td>-0.172168</td>\n",
       "      <td>-0.020507</td>\n",
       "    </tr>\n",
       "    <tr>\n",
       "      <th>brand_other</th>\n",
       "      <td>0.195032</td>\n",
       "      <td>-0.135989</td>\n",
       "      <td>-0.200637</td>\n",
       "      <td>-0.138297</td>\n",
       "      <td>1.000000</td>\n",
       "      <td>-0.231420</td>\n",
       "      <td>0.459126</td>\n",
       "      <td>-0.212298</td>\n",
       "      <td>-0.190923</td>\n",
       "      <td>-0.195644</td>\n",
       "      <td>-0.015071</td>\n",
       "      <td>0.380713</td>\n",
       "      <td>0.051292</td>\n",
       "    </tr>\n",
       "    <tr>\n",
       "      <th>manufacturer_Nike</th>\n",
       "      <td>-0.079268</td>\n",
       "      <td>0.084033</td>\n",
       "      <td>-0.046921</td>\n",
       "      <td>-0.032343</td>\n",
       "      <td>-0.231420</td>\n",
       "      <td>1.000000</td>\n",
       "      <td>0.107373</td>\n",
       "      <td>0.491453</td>\n",
       "      <td>-0.078448</td>\n",
       "      <td>-0.052147</td>\n",
       "      <td>-0.048183</td>\n",
       "      <td>-0.152885</td>\n",
       "      <td>-0.034316</td>\n",
       "    </tr>\n",
       "    <tr>\n",
       "      <th>manufacturerNumber_other</th>\n",
       "      <td>0.231918</td>\n",
       "      <td>-0.217906</td>\n",
       "      <td>-0.436997</td>\n",
       "      <td>-0.301218</td>\n",
       "      <td>0.459126</td>\n",
       "      <td>0.107373</td>\n",
       "      <td>1.000000</td>\n",
       "      <td>0.148607</td>\n",
       "      <td>-0.472335</td>\n",
       "      <td>-0.377897</td>\n",
       "      <td>-0.136040</td>\n",
       "      <td>0.571574</td>\n",
       "      <td>0.052149</td>\n",
       "    </tr>\n",
       "    <tr>\n",
       "      <th>categories_Athletic</th>\n",
       "      <td>-0.181022</td>\n",
       "      <td>0.056932</td>\n",
       "      <td>-0.064941</td>\n",
       "      <td>-0.044763</td>\n",
       "      <td>-0.212298</td>\n",
       "      <td>0.491453</td>\n",
       "      <td>0.148607</td>\n",
       "      <td>1.000000</td>\n",
       "      <td>-0.108574</td>\n",
       "      <td>-0.072173</td>\n",
       "      <td>-0.066686</td>\n",
       "      <td>-0.398738</td>\n",
       "      <td>-0.019789</td>\n",
       "    </tr>\n",
       "    <tr>\n",
       "      <th>categories_Boots</th>\n",
       "      <td>-0.110105</td>\n",
       "      <td>0.129051</td>\n",
       "      <td>-0.068013</td>\n",
       "      <td>0.412281</td>\n",
       "      <td>-0.190923</td>\n",
       "      <td>-0.078448</td>\n",
       "      <td>-0.472335</td>\n",
       "      <td>-0.108574</td>\n",
       "      <td>1.000000</td>\n",
       "      <td>-0.075587</td>\n",
       "      <td>-0.069841</td>\n",
       "      <td>-0.417599</td>\n",
       "      <td>-0.049741</td>\n",
       "    </tr>\n",
       "    <tr>\n",
       "      <th>categories_Slip-ons</th>\n",
       "      <td>-0.156999</td>\n",
       "      <td>0.216032</td>\n",
       "      <td>0.899795</td>\n",
       "      <td>-0.031163</td>\n",
       "      <td>-0.195644</td>\n",
       "      <td>-0.052147</td>\n",
       "      <td>-0.377897</td>\n",
       "      <td>-0.072173</td>\n",
       "      <td>-0.075587</td>\n",
       "      <td>1.000000</td>\n",
       "      <td>-0.046425</td>\n",
       "      <td>-0.277592</td>\n",
       "      <td>-0.033065</td>\n",
       "    </tr>\n",
       "    <tr>\n",
       "      <th>categories_Slippers</th>\n",
       "      <td>-0.082487</td>\n",
       "      <td>-0.108949</td>\n",
       "      <td>-0.041773</td>\n",
       "      <td>-0.028794</td>\n",
       "      <td>-0.015071</td>\n",
       "      <td>-0.048183</td>\n",
       "      <td>-0.136040</td>\n",
       "      <td>-0.066686</td>\n",
       "      <td>-0.069841</td>\n",
       "      <td>-0.046425</td>\n",
       "      <td>1.000000</td>\n",
       "      <td>-0.256490</td>\n",
       "      <td>0.010148</td>\n",
       "    </tr>\n",
       "    <tr>\n",
       "      <th>categories_other</th>\n",
       "      <td>0.348756</td>\n",
       "      <td>-0.156670</td>\n",
       "      <td>-0.249776</td>\n",
       "      <td>-0.172168</td>\n",
       "      <td>0.380713</td>\n",
       "      <td>-0.152885</td>\n",
       "      <td>0.571574</td>\n",
       "      <td>-0.398738</td>\n",
       "      <td>-0.417599</td>\n",
       "      <td>-0.277592</td>\n",
       "      <td>-0.256490</td>\n",
       "      <td>1.000000</td>\n",
       "      <td>0.065369</td>\n",
       "    </tr>\n",
       "    <tr>\n",
       "      <th>colors_Green</th>\n",
       "      <td>0.044377</td>\n",
       "      <td>-0.002492</td>\n",
       "      <td>-0.029751</td>\n",
       "      <td>-0.020507</td>\n",
       "      <td>0.051292</td>\n",
       "      <td>-0.034316</td>\n",
       "      <td>0.052149</td>\n",
       "      <td>-0.019789</td>\n",
       "      <td>-0.049741</td>\n",
       "      <td>-0.033065</td>\n",
       "      <td>0.010148</td>\n",
       "      <td>0.065369</td>\n",
       "      <td>1.000000</td>\n",
       "    </tr>\n",
       "  </tbody>\n",
       "</table>\n",
       "</div>"
      ],
      "text/plain": [
       "                          prices.isSale  prices.dateSeenElapsed  brand_Dansko  \\\n",
       "prices.isSale                  1.000000               -0.084094     -0.143868   \n",
       "prices.dateSeenElapsed        -0.084094                1.000000      0.201446   \n",
       "brand_Dansko                  -0.143868                0.201446      1.000000   \n",
       "brand_Ugg                      0.032033                0.001720     -0.028040   \n",
       "brand_other                    0.195032               -0.135989     -0.200637   \n",
       "manufacturer_Nike             -0.079268                0.084033     -0.046921   \n",
       "manufacturerNumber_other       0.231918               -0.217906     -0.436997   \n",
       "categories_Athletic           -0.181022                0.056932     -0.064941   \n",
       "categories_Boots              -0.110105                0.129051     -0.068013   \n",
       "categories_Slip-ons           -0.156999                0.216032      0.899795   \n",
       "categories_Slippers           -0.082487               -0.108949     -0.041773   \n",
       "categories_other               0.348756               -0.156670     -0.249776   \n",
       "colors_Green                   0.044377               -0.002492     -0.029751   \n",
       "\n",
       "                          brand_Ugg  brand_other  manufacturer_Nike  \\\n",
       "prices.isSale              0.032033     0.195032          -0.079268   \n",
       "prices.dateSeenElapsed     0.001720    -0.135989           0.084033   \n",
       "brand_Dansko              -0.028040    -0.200637          -0.046921   \n",
       "brand_Ugg                  1.000000    -0.138297          -0.032343   \n",
       "brand_other               -0.138297     1.000000          -0.231420   \n",
       "manufacturer_Nike         -0.032343    -0.231420           1.000000   \n",
       "manufacturerNumber_other  -0.301218     0.459126           0.107373   \n",
       "categories_Athletic       -0.044763    -0.212298           0.491453   \n",
       "categories_Boots           0.412281    -0.190923          -0.078448   \n",
       "categories_Slip-ons       -0.031163    -0.195644          -0.052147   \n",
       "categories_Slippers       -0.028794    -0.015071          -0.048183   \n",
       "categories_other          -0.172168     0.380713          -0.152885   \n",
       "colors_Green              -0.020507     0.051292          -0.034316   \n",
       "\n",
       "                          manufacturerNumber_other  categories_Athletic  \\\n",
       "prices.isSale                             0.231918            -0.181022   \n",
       "prices.dateSeenElapsed                   -0.217906             0.056932   \n",
       "brand_Dansko                             -0.436997            -0.064941   \n",
       "brand_Ugg                                -0.301218            -0.044763   \n",
       "brand_other                               0.459126            -0.212298   \n",
       "manufacturer_Nike                         0.107373             0.491453   \n",
       "manufacturerNumber_other                  1.000000             0.148607   \n",
       "categories_Athletic                       0.148607             1.000000   \n",
       "categories_Boots                         -0.472335            -0.108574   \n",
       "categories_Slip-ons                      -0.377897            -0.072173   \n",
       "categories_Slippers                      -0.136040            -0.066686   \n",
       "categories_other                          0.571574            -0.398738   \n",
       "colors_Green                              0.052149            -0.019789   \n",
       "\n",
       "                          categories_Boots  categories_Slip-ons  \\\n",
       "prices.isSale                    -0.110105            -0.156999   \n",
       "prices.dateSeenElapsed            0.129051             0.216032   \n",
       "brand_Dansko                     -0.068013             0.899795   \n",
       "brand_Ugg                         0.412281            -0.031163   \n",
       "brand_other                      -0.190923            -0.195644   \n",
       "manufacturer_Nike                -0.078448            -0.052147   \n",
       "manufacturerNumber_other         -0.472335            -0.377897   \n",
       "categories_Athletic              -0.108574            -0.072173   \n",
       "categories_Boots                  1.000000            -0.075587   \n",
       "categories_Slip-ons              -0.075587             1.000000   \n",
       "categories_Slippers              -0.069841            -0.046425   \n",
       "categories_other                 -0.417599            -0.277592   \n",
       "colors_Green                     -0.049741            -0.033065   \n",
       "\n",
       "                          categories_Slippers  categories_other  colors_Green  \n",
       "prices.isSale                       -0.082487          0.348756      0.044377  \n",
       "prices.dateSeenElapsed              -0.108949         -0.156670     -0.002492  \n",
       "brand_Dansko                        -0.041773         -0.249776     -0.029751  \n",
       "brand_Ugg                           -0.028794         -0.172168     -0.020507  \n",
       "brand_other                         -0.015071          0.380713      0.051292  \n",
       "manufacturer_Nike                   -0.048183         -0.152885     -0.034316  \n",
       "manufacturerNumber_other            -0.136040          0.571574      0.052149  \n",
       "categories_Athletic                 -0.066686         -0.398738     -0.019789  \n",
       "categories_Boots                    -0.069841         -0.417599     -0.049741  \n",
       "categories_Slip-ons                 -0.046425         -0.277592     -0.033065  \n",
       "categories_Slippers                  1.000000         -0.256490      0.010148  \n",
       "categories_other                    -0.256490          1.000000      0.065369  \n",
       "colors_Green                         0.010148          0.065369      1.000000  "
      ]
     },
     "execution_count": 58,
     "metadata": {},
     "output_type": "execute_result"
    }
   ],
   "source": [
    "selected_X_train.corr(method = 'pearson')"
   ]
  },
  {
   "cell_type": "markdown",
   "metadata": {},
   "source": [
    "* From the chart, we can find the .89 between brand_Dansko and categories_Slip-ons."
   ]
  },
  {
   "cell_type": "markdown",
   "metadata": {},
   "source": [
    "#### Working with Dendrograms"
   ]
  },
  {
   "cell_type": "code",
   "execution_count": 59,
   "metadata": {},
   "outputs": [
    {
     "name": "stdout",
     "output_type": "stream",
     "text": [
      "Wall time: 272 ms\n"
     ]
    },
    {
     "data": {
      "image/png": "[encoded data removed]",
      "text/plain": [
       "<Figure size 1152x720 with 1 Axes>"
      ]
     },
     "metadata": {
      "needs_background": "light"
     },
     "output_type": "display_data"
    }
   ],
   "source": [
    "%%time\n",
    "import scipy.cluster.hierarchy as hc\n",
    "corr = selected_X_train.corr(method = 'spearman')\n",
    "corr_condensed = hc.distance.squareform(1 - np.abs(corr))\n",
    "z = hc.linkage(corr_condensed, method = 'average')\n",
    "\n",
    "import matplotlib.pyplot as plt\n",
    "fig = plt.figure(figsize=(16,10))\n",
    "dendrogram = hc.dendrogram(z, labels = list(selected_X_train.columns), orientation = 'left', leaf_font_size=16)"
   ]
  },
  {
   "cell_type": "markdown",
   "metadata": {},
   "source": [
    "Looking at the dendrogram above, the result matches the spearman method. We should either remove either `brand_Dansko` or  `categories_Slip-ons`, either `manufacturerNumber_other` or `categories_other`.\n",
    "\n",
    "* The result after removing these features should be the same as spearman method does."
   ]
  },
  {
   "cell_type": "code",
   "execution_count": 60,
   "metadata": {},
   "outputs": [
    {
     "data": {
      "image/png": "[encoded data removed]",
      "text/plain": [
       "<Figure size 1152x720 with 1 Axes>"
      ]
     },
     "metadata": {
      "needs_background": "light"
     },
     "output_type": "display_data"
    }
   ],
   "source": [
    "import scipy.cluster.hierarchy as hc\n",
    "corr = train_drop_categories_other.corr(method = 'spearman')\n",
    "corr_condensed = hc.distance.squareform(1 - np.abs(corr))\n",
    "z = hc.linkage(corr_condensed, method = 'average')\n",
    "\n",
    "import matplotlib.pyplot as plt\n",
    "fig = plt.figure(figsize=(16,10))\n",
    "dendrogram = hc.dendrogram(z, labels = list(train_drop_categories_other.columns), orientation = 'left', leaf_font_size=16)"
   ]
  },
  {
   "cell_type": "markdown",
   "metadata": {},
   "source": [
    "### Summary "
   ]
  },
  {
   "cell_type": "markdown",
   "metadata": {},
   "source": [
    "We apply feature importance and permutation importance. Both the two ways are to set a shreshhold and remove the bottom features with lowest weight at one time, and iterate this process to reduce our feature number and hope to acquire a better score. But sometimes the score goes down when removing features. It depends on the dataset you are using."
   ]
  },
  {
   "cell_type": "code",
   "execution_count": 61,
   "metadata": {},
   "outputs": [],
   "source": [
    "train_drop_categories_other.to_feather('./X_train.feather')"
   ]
  },
  {
   "cell_type": "code",
   "execution_count": 62,
   "metadata": {},
   "outputs": [],
   "source": [
    "val_drop_categories_other.to_feather('./X_val.feather')"
   ]
  },
  {
   "cell_type": "code",
   "execution_count": 63,
   "metadata": {},
   "outputs": [],
   "source": [
    "y_train.to_frame().reset_index().to_feather('./y_train.feather')"
   ]
  },
  {
   "cell_type": "code",
   "execution_count": 64,
   "metadata": {},
   "outputs": [],
   "source": [
    "y_val.to_frame().reset_index().to_feather('./y_val.feather')"
   ]
  },
  {
   "cell_type": "code",
   "execution_count": 67,
   "metadata": {},
   "outputs": [],
   "source": [
    "X.reset_index().to_feather('./X_test.feather')"
   ]
  },
  {
   "cell_type": "code",
   "execution_count": 66,
   "metadata": {},
   "outputs": [],
   "source": [
    "y_test.to_frame().reset_index().to_feather('./y_test.feather')"
   ]
  }
 ],
 "metadata": {
  "kernelspec": {
   "display_name": "Python 3",
   "language": "python",
   "name": "python3"
  },
  "language_info": {
   "codemirror_mode": {
    "name": "ipython",
    "version": 3
   },
   "file_extension": ".py",
   "mimetype": "text/x-python",
   "name": "python",
   "nbconvert_exporter": "python",
   "pygments_lexer": "ipython3",
   "version": "3.7.3"
  }
 },
 "nbformat": 4,
 "nbformat_minor": 2
}
