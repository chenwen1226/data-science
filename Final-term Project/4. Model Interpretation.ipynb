{
 "cells": [
  {
   "cell_type": "markdown",
   "metadata": {},
   "source": [
    "# A. Plotting Features"
   ]
  },
  {
   "cell_type": "markdown",
   "metadata": {},
   "source": [
    "### Load the data"
   ]
  },
  {
   "cell_type": "code",
   "execution_count": 1,
   "metadata": {},
   "outputs": [
    {
     "data": {
      "text/plain": [
       "0.4498070416462593"
      ]
     },
     "execution_count": 1,
     "metadata": {},
     "output_type": "execute_result"
    }
   ],
   "source": [
    "import pandas as pd\n",
    "from sklearn.ensemble import RandomForestRegressor\n",
    "\n",
    "X_train = pd.read_feather('./X_train_1.feather')\n",
    "y_train = pd.read_feather('./y_train.feather')['prices.amountMax']\n",
    "\n",
    "X_val = pd.read_feather('./X_val_1.feather')\n",
    "y_val = pd.read_feather('./y_val.feather')['prices.amountMax']\n",
    "\n",
    "rfr = RandomForestRegressor(n_estimators=40, max_features='log2')\n",
    "rfr.fit(X_train, y_train)\n",
    "rfr.score(X_val, y_val)"
   ]
  },
  {
   "cell_type": "markdown",
   "metadata": {},
   "source": [
    "Now let's explore our top features."
   ]
  },
  {
   "cell_type": "code",
   "execution_count": 2,
   "metadata": {},
   "outputs": [],
   "source": [
    "import eli5\n",
    "from eli5.sklearn import PermutationImportance\n",
    "pmi_limited = PermutationImportance(rfr).fit(X_val, y_val)"
   ]
  },
  {
   "cell_type": "code",
   "execution_count": 3,
   "metadata": {},
   "outputs": [
    {
     "data": {
      "text/html": [
       "<div>\n",
       "<style scoped>\n",
       "    .dataframe tbody tr th:only-of-type {\n",
       "        vertical-align: middle;\n",
       "    }\n",
       "\n",
       "    .dataframe tbody tr th {\n",
       "        vertical-align: top;\n",
       "    }\n",
       "\n",
       "    .dataframe thead th {\n",
       "        text-align: right;\n",
       "    }\n",
       "</style>\n",
       "<table border=\"1\" class=\"dataframe\">\n",
       "  <thead>\n",
       "    <tr style=\"text-align: right;\">\n",
       "      <th></th>\n",
       "      <th>feature</th>\n",
       "      <th>weight</th>\n",
       "      <th>std</th>\n",
       "    </tr>\n",
       "  </thead>\n",
       "  <tbody>\n",
       "    <tr>\n",
       "      <th>0</th>\n",
       "      <td>prices.isSale</td>\n",
       "      <td>0.295789</td>\n",
       "      <td>0.015398</td>\n",
       "    </tr>\n",
       "    <tr>\n",
       "      <th>1</th>\n",
       "      <td>brand_Dansko</td>\n",
       "      <td>0.179065</td>\n",
       "      <td>0.010491</td>\n",
       "    </tr>\n",
       "    <tr>\n",
       "      <th>2</th>\n",
       "      <td>brand_other</td>\n",
       "      <td>0.083605</td>\n",
       "      <td>0.012454</td>\n",
       "    </tr>\n",
       "    <tr>\n",
       "      <th>3</th>\n",
       "      <td>categories_Boots</td>\n",
       "      <td>0.056440</td>\n",
       "      <td>0.010538</td>\n",
       "    </tr>\n",
       "    <tr>\n",
       "      <th>4</th>\n",
       "      <td>categories_Slippers</td>\n",
       "      <td>0.052308</td>\n",
       "      <td>0.003961</td>\n",
       "    </tr>\n",
       "    <tr>\n",
       "      <th>5</th>\n",
       "      <td>brand_Ugg</td>\n",
       "      <td>0.050982</td>\n",
       "      <td>0.007079</td>\n",
       "    </tr>\n",
       "    <tr>\n",
       "      <th>6</th>\n",
       "      <td>manufacturerNumber_other</td>\n",
       "      <td>0.033372</td>\n",
       "      <td>0.005974</td>\n",
       "    </tr>\n",
       "    <tr>\n",
       "      <th>7</th>\n",
       "      <td>manufacturer_Nike</td>\n",
       "      <td>0.030141</td>\n",
       "      <td>0.010213</td>\n",
       "    </tr>\n",
       "    <tr>\n",
       "      <th>8</th>\n",
       "      <td>categories_Athletic</td>\n",
       "      <td>0.023526</td>\n",
       "      <td>0.009495</td>\n",
       "    </tr>\n",
       "    <tr>\n",
       "      <th>9</th>\n",
       "      <td>colors_Green</td>\n",
       "      <td>0.010811</td>\n",
       "      <td>0.004049</td>\n",
       "    </tr>\n",
       "  </tbody>\n",
       "</table>\n",
       "</div>"
      ],
      "text/plain": [
       "                    feature    weight       std\n",
       "0             prices.isSale  0.295789  0.015398\n",
       "1              brand_Dansko  0.179065  0.010491\n",
       "2               brand_other  0.083605  0.012454\n",
       "3          categories_Boots  0.056440  0.010538\n",
       "4       categories_Slippers  0.052308  0.003961\n",
       "5                 brand_Ugg  0.050982  0.007079\n",
       "6  manufacturerNumber_other  0.033372  0.005974\n",
       "7         manufacturer_Nike  0.030141  0.010213\n",
       "8       categories_Athletic  0.023526  0.009495\n",
       "9              colors_Green  0.010811  0.004049"
      ]
     },
     "execution_count": 3,
     "metadata": {},
     "output_type": "execute_result"
    }
   ],
   "source": [
    "eli5.explain_weights_df(pmi_limited, feature_names = X_val.columns.to_list())"
   ]
  },
  {
   "cell_type": "markdown",
   "metadata": {},
   "source": [
    "### Model Interpretation"
   ]
  },
  {
   "cell_type": "markdown",
   "metadata": {},
   "source": [
    "Now that we have identified our top features, we still would like to determine how our target variable changes as one of our feature changes.  We can view this simply by plotting our target against changes in our feature."
   ]
  },
  {
   "cell_type": "markdown",
   "metadata": {},
   "source": [
    "Because we are not assuming the relationship to be linear, let's use `plotnine` which allows us to plot non-linear relationships."
   ]
  },
  {
   "cell_type": "code",
   "execution_count": 4,
   "metadata": {},
   "outputs": [],
   "source": [
    "df_train = X_train.merge(y_train, on = y_train.index).drop(columns = ['key_0'])"
   ]
  },
  {
   "cell_type": "code",
   "execution_count": 5,
   "metadata": {},
   "outputs": [],
   "source": [
    "from plotnine import *\n",
    "sampled_train = df_train.sample(n=3000, random_state=1)"
   ]
  },
  {
   "cell_type": "code",
   "execution_count": 6,
   "metadata": {},
   "outputs": [
    {
     "name": "stderr",
     "output_type": "stream",
     "text": [
      "C:\\Users\\51759\\Anaconda3\\lib\\site-packages\\plotnine\\scales\\scale.py:93: MatplotlibDeprecationWarning: \n",
      "The iterable function was deprecated in Matplotlib 3.1 and will be removed in 3.3. Use np.iterable instead.\n",
      "  if cbook.iterable(self.breaks) and cbook.iterable(self.labels):\n",
      "C:\\Users\\51759\\Anaconda3\\lib\\site-packages\\plotnine\\scales\\scale.py:93: MatplotlibDeprecationWarning: \n",
      "The iterable function was deprecated in Matplotlib 3.1 and will be removed in 3.3. Use np.iterable instead.\n",
      "  if cbook.iterable(self.breaks) and cbook.iterable(self.labels):\n",
      "C:\\Users\\51759\\Anaconda3\\lib\\site-packages\\plotnine\\stats\\smoothers.py:238: UserWarning: See sklearn.gaussian_process.GaussianProcessRegressor for parameters to pass in as 'method_args'\n",
      "  \"See sklearn.gaussian_process.GaussianProcessRegressor \"\n",
      "C:\\Users\\51759\\Anaconda3\\lib\\site-packages\\sklearn\\gaussian_process\\gpr.py:346: UserWarning: Predicted variances smaller than 0. Setting those variances to 0.\n",
      "  warnings.warn(\"Predicted variances smaller than 0. \"\n",
      "C:\\Users\\51759\\Anaconda3\\lib\\site-packages\\plotnine\\utils.py:553: MatplotlibDeprecationWarning: \n",
      "The iterable function was deprecated in Matplotlib 3.1 and will be removed in 3.3. Use np.iterable instead.\n",
      "  return cbook.iterable(var) and not is_string(var)\n",
      "C:\\Users\\51759\\Anaconda3\\lib\\site-packages\\plotnine\\utils.py:553: MatplotlibDeprecationWarning: \n",
      "The iterable function was deprecated in Matplotlib 3.1 and will be removed in 3.3. Use np.iterable instead.\n",
      "  return cbook.iterable(var) and not is_string(var)\n",
      "C:\\Users\\51759\\Anaconda3\\lib\\site-packages\\plotnine\\utils.py:553: MatplotlibDeprecationWarning: \n",
      "The iterable function was deprecated in Matplotlib 3.1 and will be removed in 3.3. Use np.iterable instead.\n",
      "  return cbook.iterable(var) and not is_string(var)\n",
      "C:\\Users\\51759\\Anaconda3\\lib\\site-packages\\plotnine\\utils.py:553: MatplotlibDeprecationWarning: \n",
      "The iterable function was deprecated in Matplotlib 3.1 and will be removed in 3.3. Use np.iterable instead.\n",
      "  return cbook.iterable(var) and not is_string(var)\n"
     ]
    },
    {
     "data": {
      "image/png": "[encoded data removed]",
      "text/plain": [
       "<Figure size 640x480 with 1 Axes>"
      ]
     },
     "metadata": {},
     "output_type": "display_data"
    },
    {
     "data": {
      "text/plain": [
       "<ggplot: (-9223371901699811910)>"
      ]
     },
     "execution_count": 6,
     "metadata": {},
     "output_type": "execute_result"
    }
   ],
   "source": [
    "(ggplot(sampled_train, aes('prices.isSale', 'prices.amountMax'))\n",
    " + stat_smooth(se=True, method='gpr') + xlim(0, 1) + ylim(0, 100))"
   ]
  },
  {
   "cell_type": "markdown",
   "metadata": {},
   "source": [
    "* So above we see how price changes along with changes in our prices.isSale value. We can see when the shoe is sold, it has an lower average price."
   ]
  },
  {
   "cell_type": "code",
   "execution_count": 7,
   "metadata": {},
   "outputs": [
    {
     "name": "stderr",
     "output_type": "stream",
     "text": [
      "C:\\Users\\51759\\Anaconda3\\lib\\site-packages\\plotnine\\scales\\scale.py:93: MatplotlibDeprecationWarning: \n",
      "The iterable function was deprecated in Matplotlib 3.1 and will be removed in 3.3. Use np.iterable instead.\n",
      "  if cbook.iterable(self.breaks) and cbook.iterable(self.labels):\n",
      "C:\\Users\\51759\\Anaconda3\\lib\\site-packages\\plotnine\\scales\\scale.py:93: MatplotlibDeprecationWarning: \n",
      "The iterable function was deprecated in Matplotlib 3.1 and will be removed in 3.3. Use np.iterable instead.\n",
      "  if cbook.iterable(self.breaks) and cbook.iterable(self.labels):\n",
      "C:\\Users\\51759\\Anaconda3\\lib\\site-packages\\plotnine\\stats\\smoothers.py:238: UserWarning: See sklearn.gaussian_process.GaussianProcessRegressor for parameters to pass in as 'method_args'\n",
      "  \"See sklearn.gaussian_process.GaussianProcessRegressor \"\n",
      "C:\\Users\\51759\\Anaconda3\\lib\\site-packages\\sklearn\\gaussian_process\\gpr.py:346: UserWarning: Predicted variances smaller than 0. Setting those variances to 0.\n",
      "  warnings.warn(\"Predicted variances smaller than 0. \"\n",
      "C:\\Users\\51759\\Anaconda3\\lib\\site-packages\\plotnine\\utils.py:553: MatplotlibDeprecationWarning: \n",
      "The iterable function was deprecated in Matplotlib 3.1 and will be removed in 3.3. Use np.iterable instead.\n",
      "  return cbook.iterable(var) and not is_string(var)\n",
      "C:\\Users\\51759\\Anaconda3\\lib\\site-packages\\plotnine\\utils.py:553: MatplotlibDeprecationWarning: \n",
      "The iterable function was deprecated in Matplotlib 3.1 and will be removed in 3.3. Use np.iterable instead.\n",
      "  return cbook.iterable(var) and not is_string(var)\n",
      "C:\\Users\\51759\\Anaconda3\\lib\\site-packages\\plotnine\\utils.py:553: MatplotlibDeprecationWarning: \n",
      "The iterable function was deprecated in Matplotlib 3.1 and will be removed in 3.3. Use np.iterable instead.\n",
      "  return cbook.iterable(var) and not is_string(var)\n",
      "C:\\Users\\51759\\Anaconda3\\lib\\site-packages\\plotnine\\utils.py:553: MatplotlibDeprecationWarning: \n",
      "The iterable function was deprecated in Matplotlib 3.1 and will be removed in 3.3. Use np.iterable instead.\n",
      "  return cbook.iterable(var) and not is_string(var)\n"
     ]
    },
    {
     "data": {
      "image/png": "[encoded data removed]",
      "text/plain": [
       "<Figure size 640x480 with 1 Axes>"
      ]
     },
     "metadata": {},
     "output_type": "display_data"
    },
    {
     "data": {
      "text/plain": [
       "<ggplot: (-9223371901699812001)>"
      ]
     },
     "execution_count": 7,
     "metadata": {},
     "output_type": "execute_result"
    }
   ],
   "source": [
    "(ggplot(sampled_train, aes('categories_Boots', 'prices.amountMax'))\n",
    " + stat_smooth(se=True, method='gpr') + xlim(0, 1) + ylim(20, 70))"
   ]
  },
  {
   "cell_type": "markdown",
   "metadata": {},
   "source": [
    "* If the shoe types boots, it's probably with a higher price."
   ]
  },
  {
   "cell_type": "markdown",
   "metadata": {},
   "source": [
    "Cause all the features are boolean type, not numerical. So the features are not suitable for plotting the price varience along the X axis."
   ]
  },
  {
   "cell_type": "markdown",
   "metadata": {},
   "source": [
    "### Seeing independent changes"
   ]
  },
  {
   "cell_type": "markdown",
   "metadata": {},
   "source": [
    "So ideally, we would be able to see how our target variable changes with a change to our feature variable, holding everything else constant.  It turns out, there that allows us to simulate just that."
   ]
  },
  {
   "cell_type": "markdown",
   "metadata": {},
   "source": [
    "Let's see this by way of example.  Assume that we wanted to see what we expect the price would be if number of beds is one. "
   ]
  },
  {
   "cell_type": "code",
   "execution_count": 8,
   "metadata": {},
   "outputs": [
    {
     "data": {
      "text/html": [
       "<div>\n",
       "<style scoped>\n",
       "    .dataframe tbody tr th:only-of-type {\n",
       "        vertical-align: middle;\n",
       "    }\n",
       "\n",
       "    .dataframe tbody tr th {\n",
       "        vertical-align: top;\n",
       "    }\n",
       "\n",
       "    .dataframe thead th {\n",
       "        text-align: right;\n",
       "    }\n",
       "</style>\n",
       "<table border=\"1\" class=\"dataframe\">\n",
       "  <thead>\n",
       "    <tr style=\"text-align: right;\">\n",
       "      <th></th>\n",
       "      <th>prices.isSale</th>\n",
       "      <th>brand_Dansko</th>\n",
       "      <th>brand_Ugg</th>\n",
       "      <th>brand_other</th>\n",
       "      <th>manufacturer_Nike</th>\n",
       "      <th>manufacturerNumber_other</th>\n",
       "      <th>categories_Athletic</th>\n",
       "      <th>categories_Boots</th>\n",
       "      <th>categories_Slippers</th>\n",
       "      <th>colors_Green</th>\n",
       "    </tr>\n",
       "  </thead>\n",
       "  <tbody>\n",
       "    <tr>\n",
       "      <th>0</th>\n",
       "      <td>1</td>\n",
       "      <td>0</td>\n",
       "      <td>0</td>\n",
       "      <td>1</td>\n",
       "      <td>0</td>\n",
       "      <td>1</td>\n",
       "      <td>0</td>\n",
       "      <td>0</td>\n",
       "      <td>0</td>\n",
       "      <td>0</td>\n",
       "    </tr>\n",
       "    <tr>\n",
       "      <th>1</th>\n",
       "      <td>0</td>\n",
       "      <td>0</td>\n",
       "      <td>0</td>\n",
       "      <td>0</td>\n",
       "      <td>0</td>\n",
       "      <td>1</td>\n",
       "      <td>0</td>\n",
       "      <td>0</td>\n",
       "      <td>0</td>\n",
       "      <td>0</td>\n",
       "    </tr>\n",
       "    <tr>\n",
       "      <th>2</th>\n",
       "      <td>0</td>\n",
       "      <td>0</td>\n",
       "      <td>0</td>\n",
       "      <td>1</td>\n",
       "      <td>0</td>\n",
       "      <td>1</td>\n",
       "      <td>0</td>\n",
       "      <td>0</td>\n",
       "      <td>0</td>\n",
       "      <td>0</td>\n",
       "    </tr>\n",
       "    <tr>\n",
       "      <th>3</th>\n",
       "      <td>0</td>\n",
       "      <td>0</td>\n",
       "      <td>0</td>\n",
       "      <td>0</td>\n",
       "      <td>0</td>\n",
       "      <td>1</td>\n",
       "      <td>0</td>\n",
       "      <td>0</td>\n",
       "      <td>0</td>\n",
       "      <td>0</td>\n",
       "    </tr>\n",
       "    <tr>\n",
       "      <th>4</th>\n",
       "      <td>0</td>\n",
       "      <td>0</td>\n",
       "      <td>0</td>\n",
       "      <td>0</td>\n",
       "      <td>0</td>\n",
       "      <td>1</td>\n",
       "      <td>0</td>\n",
       "      <td>0</td>\n",
       "      <td>0</td>\n",
       "      <td>0</td>\n",
       "    </tr>\n",
       "  </tbody>\n",
       "</table>\n",
       "</div>"
      ],
      "text/plain": [
       "   prices.isSale  brand_Dansko  brand_Ugg  brand_other  manufacturer_Nike  \\\n",
       "0              1             0          0            1                  0   \n",
       "1              0             0          0            0                  0   \n",
       "2              0             0          0            1                  0   \n",
       "3              0             0          0            0                  0   \n",
       "4              0             0          0            0                  0   \n",
       "\n",
       "   manufacturerNumber_other  categories_Athletic  categories_Boots  \\\n",
       "0                         1                    0                 0   \n",
       "1                         1                    0                 0   \n",
       "2                         1                    0                 0   \n",
       "3                         1                    0                 0   \n",
       "4                         1                    0                 0   \n",
       "\n",
       "   categories_Slippers  colors_Green  \n",
       "0                    0             0  \n",
       "1                    0             0  \n",
       "2                    0             0  \n",
       "3                    0             0  \n",
       "4                    0             0  "
      ]
     },
     "execution_count": 8,
     "metadata": {},
     "output_type": "execute_result"
    }
   ],
   "source": [
    "X_val.head()"
   ]
  },
  {
   "cell_type": "markdown",
   "metadata": {},
   "source": [
    "Well one way to do this is to take the isSale feature, fill in our feature variables for isSale to always be 0 and then make predictions for each of our observations and take the average. Then to see how much isSale changes as we move from 0 to 1.  \n",
    "In this way, we are seeing how much our model is rewarding an movement in isSale.  And all of our other data is staying constant, we are simply artificially changing the value of the feature in question."
   ]
  },
  {
   "cell_type": "markdown",
   "metadata": {},
   "source": [
    "Plotting this is called a partial dependence plot, and we can use the `pdpbox` library to plot this."
   ]
  },
  {
   "cell_type": "code",
   "execution_count": 9,
   "metadata": {},
   "outputs": [
    {
     "data": {
      "text/plain": [
       "RandomForestRegressor(bootstrap=True, criterion='mse', max_depth=None,\n",
       "                      max_features='log2', max_leaf_nodes=None,\n",
       "                      min_impurity_decrease=0.0, min_impurity_split=None,\n",
       "                      min_samples_leaf=1, min_samples_split=2,\n",
       "                      min_weight_fraction_leaf=0.0, n_estimators=40,\n",
       "                      n_jobs=None, oob_score=False, random_state=None,\n",
       "                      verbose=0, warm_start=False)"
      ]
     },
     "execution_count": 9,
     "metadata": {},
     "output_type": "execute_result"
    }
   ],
   "source": [
    "from sklearn.ensemble import RandomForestRegressor\n",
    "rfr = RandomForestRegressor(n_estimators=40, max_features='log2')\n",
    "rfr.fit(X_train, y_train)"
   ]
  },
  {
   "cell_type": "code",
   "execution_count": 10,
   "metadata": {},
   "outputs": [],
   "source": [
    "from pdpbox.pdp import pdp_plot, pdp_isolate\n",
    "import pdpbox\n",
    "def plot_pdp(model, X, feature_names, feature, clusters = None):\n",
    "    iso = pdp_isolate(rfr, X_train, X_train.columns, feature)\n",
    "    return pdp_plot(iso, feature, plot_lines = True, cluster=clusters, n_cluster_centers=clusters)"
   ]
  },
  {
   "cell_type": "code",
   "execution_count": 11,
   "metadata": {},
   "outputs": [
    {
     "data": {
      "text/plain": [
       "(<Figure size 1080x684 with 2 Axes>,\n",
       " {'title_ax': <matplotlib.axes._subplots.AxesSubplot at 0x1f7003de5f8>,\n",
       "  'pdp_ax': <matplotlib.axes._subplots.AxesSubplot at 0x1f70047fb00>})"
      ]
     },
     "execution_count": 11,
     "metadata": {},
     "output_type": "execute_result"
    },
    {
     "data": {
      "image/png": "[encoded data removed]",
      "text/plain": [
       "<Figure size 1080x684 with 2 Axes>"
      ]
     },
     "metadata": {
      "needs_background": "light"
     },
     "output_type": "display_data"
    }
   ],
   "source": [
    "plot_pdp(rfr, X_train.sample(1000), X_train.columns, 'prices.isSale', None)"
   ]
  },
  {
   "cell_type": "markdown",
   "metadata": {},
   "source": [
    "What we see above is the average value of the target feature in the yellow line, and then each light blue line displays the predicted value of the target for every observation."
   ]
  },
  {
   "cell_type": "markdown",
   "metadata": {},
   "source": [
    "If we would like to simplify the data, we can cluster the paths above.  In the next plot, we'll group our paths into 15 clusters."
   ]
  },
  {
   "cell_type": "code",
   "execution_count": 12,
   "metadata": {},
   "outputs": [
    {
     "data": {
      "text/plain": [
       "(<Figure size 1080x684 with 2 Axes>,\n",
       " {'title_ax': <matplotlib.axes._subplots.AxesSubplot at 0x1f703e1d208>,\n",
       "  'pdp_ax': <matplotlib.axes._subplots.AxesSubplot at 0x1f704053358>})"
      ]
     },
     "execution_count": 12,
     "metadata": {},
     "output_type": "execute_result"
    },
    {
     "data": {
      "image/png": "[encoded data removed]",
      "text/plain": [
       "<Figure size 1080x684 with 2 Axes>"
      ]
     },
     "metadata": {
      "needs_background": "light"
     },
     "output_type": "display_data"
    }
   ],
   "source": [
    "plot_pdp(rfr, X_train.sample(1000), X_train.columns, 'prices.isSale', 15)"
   ]
  },
  {
   "cell_type": "markdown",
   "metadata": {},
   "source": [
    "We can see that on average, the price decreases by about 20 for isSale from 0 to 1."
   ]
  },
  {
   "cell_type": "markdown",
   "metadata": {},
   "source": [
    "# B. Quantifying the impact"
   ]
  },
  {
   "cell_type": "code",
   "execution_count": 13,
   "metadata": {},
   "outputs": [
    {
     "data": {
      "text/plain": [
       "0.449271569928282"
      ]
     },
     "execution_count": 13,
     "metadata": {},
     "output_type": "execute_result"
    }
   ],
   "source": [
    "from sklearn.ensemble import RandomForestRegressor\n",
    "rfr = RandomForestRegressor(n_estimators=40, max_features='log2', random_state=0)\n",
    "rfr.fit(X_train, y_train).score(X_val, y_val)"
   ]
  },
  {
   "cell_type": "markdown",
   "metadata": {},
   "source": [
    "### Working with a single tree"
   ]
  },
  {
   "cell_type": "code",
   "execution_count": 14,
   "metadata": {},
   "outputs": [],
   "source": [
    "first_tree = rfr.estimators_[0]"
   ]
  },
  {
   "cell_type": "code",
   "execution_count": 15,
   "metadata": {},
   "outputs": [],
   "source": [
    "from sklearn import tree\n",
    "from IPython.display import SVG, display\n",
    "from graphviz import Source \n",
    "\n",
    "\n",
    "def plot_tree(dt, feature_names, max_depth):\n",
    "    return Source(tree.export_graphviz(dt, out_file=None,\n",
    "                                feature_names=feature_names, max_depth=max_depth))"
   ]
  },
  {
   "cell_type": "code",
   "execution_count": 16,
   "metadata": {},
   "outputs": [],
   "source": [
    "import os\n",
    "os.environ[\"PATH\"] += os.pathsep + 'c:/Program Files (x86)/Graphviz2.38/bin/'"
   ]
  },
  {
   "cell_type": "code",
   "execution_count": 17,
   "metadata": {},
   "outputs": [
    {
     "data": {
      "image/svg+xml": [
       "<?xml version=\"1.0\" encoding=\"UTF-8\" standalone=\"no\"?>\r\n",
       "<!DOCTYPE svg PUBLIC \"-//W3C//DTD SVG 1.1//EN\"\r\n",
       " \"http://www.w3.org/Graphics/SVG/1.1/DTD/svg11.dtd\">\r\n",
       "<!-- Generated by graphviz version 2.38.0 (20140413.2041)\r\n",
       " -->\r\n",
       "<!-- Title: Tree Pages: 1 -->\r\n",
       "<svg width=\"686pt\" height=\"356pt\"\r\n",
       " viewBox=\"0.00 0.00 686.00 356.00\" xmlns=\"http://www.w3.org/2000/svg\" xmlns:xlink=\"http://www.w3.org/1999/xlink\">\r\n",
       "<g id=\"graph0\" class=\"graph\" transform=\"scale(1 1) rotate(0) translate(4 352)\">\r\n",
       "<title>Tree</title>\r\n",
       "<polygon fill=\"white\" stroke=\"none\" points=\"-4,4 -4,-352 682,-352 682,4 -4,4\"/>\r\n",
       "<!-- 0 -->\r\n",
       "<g id=\"node1\" class=\"node\"><title>0</title>\r\n",
       "<polygon fill=\"none\" stroke=\"black\" points=\"407,-348 243,-348 243,-280 407,-280 407,-348\"/>\r\n",
       "<text text-anchor=\"middle\" x=\"325\" y=\"-332.8\" font-family=\"Times New Roman,serif\" font-size=\"14.00\">manufacturer_Nike &lt;= 0.5</text>\r\n",
       "<text text-anchor=\"middle\" x=\"325\" y=\"-317.8\" font-family=\"Times New Roman,serif\" font-size=\"14.00\">mse = 1330.357</text>\r\n",
       "<text text-anchor=\"middle\" x=\"325\" y=\"-302.8\" font-family=\"Times New Roman,serif\" font-size=\"14.00\">samples = 2165</text>\r\n",
       "<text text-anchor=\"middle\" x=\"325\" y=\"-287.8\" font-family=\"Times New Roman,serif\" font-size=\"14.00\">value = 61.243</text>\r\n",
       "</g>\r\n",
       "<!-- 1 -->\r\n",
       "<g id=\"node2\" class=\"node\"><title>1</title>\r\n",
       "<polygon fill=\"none\" stroke=\"black\" points=\"300,-244 172,-244 172,-176 300,-176 300,-244\"/>\r\n",
       "<text text-anchor=\"middle\" x=\"236\" y=\"-228.8\" font-family=\"Times New Roman,serif\" font-size=\"14.00\">prices.isSale &lt;= 0.5</text>\r\n",
       "<text text-anchor=\"middle\" x=\"236\" y=\"-213.8\" font-family=\"Times New Roman,serif\" font-size=\"14.00\">mse = 1296.558</text>\r\n",
       "<text text-anchor=\"middle\" x=\"236\" y=\"-198.8\" font-family=\"Times New Roman,serif\" font-size=\"14.00\">samples = 2053</text>\r\n",
       "<text text-anchor=\"middle\" x=\"236\" y=\"-183.8\" font-family=\"Times New Roman,serif\" font-size=\"14.00\">value = 59.545</text>\r\n",
       "</g>\r\n",
       "<!-- 0&#45;&gt;1 -->\r\n",
       "<g id=\"edge1\" class=\"edge\"><title>0&#45;&gt;1</title>\r\n",
       "<path fill=\"none\" stroke=\"black\" d=\"M296.104,-279.884C288.332,-270.976 279.833,-261.235 271.737,-251.957\"/>\r\n",
       "<polygon fill=\"black\" stroke=\"black\" points=\"274.267,-249.533 265.055,-244.299 268.993,-254.135 274.267,-249.533\"/>\r\n",
       "<text text-anchor=\"middle\" x=\"263.358\" y=\"-265.542\" font-family=\"Times New Roman,serif\" font-size=\"14.00\">True</text>\r\n",
       "</g>\r\n",
       "<!-- 64 -->\r\n",
       "<g id=\"node9\" class=\"node\"><title>64</title>\r\n",
       "<polygon fill=\"none\" stroke=\"black\" points=\"478,-244 350,-244 350,-176 478,-176 478,-244\"/>\r\n",
       "<text text-anchor=\"middle\" x=\"414\" y=\"-228.8\" font-family=\"Times New Roman,serif\" font-size=\"14.00\">prices.isSale &lt;= 0.5</text>\r\n",
       "<text text-anchor=\"middle\" x=\"414\" y=\"-213.8\" font-family=\"Times New Roman,serif\" font-size=\"14.00\">mse = 844.964</text>\r\n",
       "<text text-anchor=\"middle\" x=\"414\" y=\"-198.8\" font-family=\"Times New Roman,serif\" font-size=\"14.00\">samples = 112</text>\r\n",
       "<text text-anchor=\"middle\" x=\"414\" y=\"-183.8\" font-family=\"Times New Roman,serif\" font-size=\"14.00\">value = 94.187</text>\r\n",
       "</g>\r\n",
       "<!-- 0&#45;&gt;64 -->\r\n",
       "<g id=\"edge8\" class=\"edge\"><title>0&#45;&gt;64</title>\r\n",
       "<path fill=\"none\" stroke=\"black\" d=\"M353.896,-279.884C361.668,-270.976 370.167,-261.235 378.263,-251.957\"/>\r\n",
       "<polygon fill=\"black\" stroke=\"black\" points=\"381.007,-254.135 384.945,-244.299 375.733,-249.533 381.007,-254.135\"/>\r\n",
       "<text text-anchor=\"middle\" x=\"386.642\" y=\"-265.542\" font-family=\"Times New Roman,serif\" font-size=\"14.00\">False</text>\r\n",
       "</g>\r\n",
       "<!-- 2 -->\r\n",
       "<g id=\"node3\" class=\"node\"><title>2</title>\r\n",
       "<polygon fill=\"none\" stroke=\"black\" points=\"140,-140 0,-140 0,-72 140,-72 140,-140\"/>\r\n",
       "<text text-anchor=\"middle\" x=\"70\" y=\"-124.8\" font-family=\"Times New Roman,serif\" font-size=\"14.00\">brand_Dansko &lt;= 0.5</text>\r\n",
       "<text text-anchor=\"middle\" x=\"70\" y=\"-109.8\" font-family=\"Times New Roman,serif\" font-size=\"14.00\">mse = 1180.095</text>\r\n",
       "<text text-anchor=\"middle\" x=\"70\" y=\"-94.8\" font-family=\"Times New Roman,serif\" font-size=\"14.00\">samples = 1324</text>\r\n",
       "<text text-anchor=\"middle\" x=\"70\" y=\"-79.8\" font-family=\"Times New Roman,serif\" font-size=\"14.00\">value = 69.508</text>\r\n",
       "</g>\r\n",
       "<!-- 1&#45;&gt;2 -->\r\n",
       "<g id=\"edge2\" class=\"edge\"><title>1&#45;&gt;2</title>\r\n",
       "<path fill=\"none\" stroke=\"black\" d=\"M182.105,-175.884C166.369,-166.214 149.035,-155.563 132.799,-145.587\"/>\r\n",
       "<polygon fill=\"black\" stroke=\"black\" points=\"134.261,-142.378 123.909,-140.125 130.597,-148.342 134.261,-142.378\"/>\r\n",
       "</g>\r\n",
       "<!-- 37 -->\r\n",
       "<g id=\"node6\" class=\"node\"><title>37</title>\r\n",
       "<polygon fill=\"none\" stroke=\"black\" points=\"313.5,-140 158.5,-140 158.5,-72 313.5,-72 313.5,-140\"/>\r\n",
       "<text text-anchor=\"middle\" x=\"236\" y=\"-124.8\" font-family=\"Times New Roman,serif\" font-size=\"14.00\">categories_Boots &lt;= 0.5</text>\r\n",
       "<text text-anchor=\"middle\" x=\"236\" y=\"-109.8\" font-family=\"Times New Roman,serif\" font-size=\"14.00\">mse = 998.279</text>\r\n",
       "<text text-anchor=\"middle\" x=\"236\" y=\"-94.8\" font-family=\"Times New Roman,serif\" font-size=\"14.00\">samples = 729</text>\r\n",
       "<text text-anchor=\"middle\" x=\"236\" y=\"-79.8\" font-family=\"Times New Roman,serif\" font-size=\"14.00\">value = 41.389</text>\r\n",
       "</g>\r\n",
       "<!-- 1&#45;&gt;37 -->\r\n",
       "<g id=\"edge5\" class=\"edge\"><title>1&#45;&gt;37</title>\r\n",
       "<path fill=\"none\" stroke=\"black\" d=\"M236,-175.884C236,-167.778 236,-158.982 236,-150.472\"/>\r\n",
       "<polygon fill=\"black\" stroke=\"black\" points=\"239.5,-150.299 236,-140.299 232.5,-150.299 239.5,-150.299\"/>\r\n",
       "</g>\r\n",
       "<!-- 3 -->\r\n",
       "<g id=\"node4\" class=\"node\"><title>3</title>\r\n",
       "<polygon fill=\"none\" stroke=\"black\" points=\"70,-36 16,-36 16,-0 70,-0 70,-36\"/>\r\n",
       "<text text-anchor=\"middle\" x=\"43\" y=\"-14.3\" font-family=\"Times New Roman,serif\" font-size=\"14.00\">(...)</text>\r\n",
       "</g>\r\n",
       "<!-- 2&#45;&gt;3 -->\r\n",
       "<g id=\"edge3\" class=\"edge\"><title>2&#45;&gt;3</title>\r\n",
       "<path fill=\"none\" stroke=\"black\" d=\"M59.6383,-71.9961C56.9615,-63.4699 54.1103,-54.3885 51.5383,-46.1962\"/>\r\n",
       "<polygon fill=\"black\" stroke=\"black\" points=\"54.7986,-44.8958 48.4639,-36.4034 48.12,-46.9926 54.7986,-44.8958\"/>\r\n",
       "</g>\r\n",
       "<!-- 36 -->\r\n",
       "<g id=\"node5\" class=\"node\"><title>36</title>\r\n",
       "<polygon fill=\"none\" stroke=\"black\" points=\"142,-36 88,-36 88,-0 142,-0 142,-36\"/>\r\n",
       "<text text-anchor=\"middle\" x=\"115\" y=\"-14.3\" font-family=\"Times New Roman,serif\" font-size=\"14.00\">(...)</text>\r\n",
       "</g>\r\n",
       "<!-- 2&#45;&gt;36 -->\r\n",
       "<g id=\"edge4\" class=\"edge\"><title>2&#45;&gt;36</title>\r\n",
       "<path fill=\"none\" stroke=\"black\" d=\"M87.2695,-71.9961C91.8796,-63.1856 96.7999,-53.7825 101.197,-45.38\"/>\r\n",
       "<polygon fill=\"black\" stroke=\"black\" points=\"104.358,-46.8864 105.894,-36.4034 98.1562,-43.641 104.358,-46.8864\"/>\r\n",
       "</g>\r\n",
       "<!-- 38 -->\r\n",
       "<g id=\"node7\" class=\"node\"><title>38</title>\r\n",
       "<polygon fill=\"none\" stroke=\"black\" points=\"225,-36 171,-36 171,-0 225,-0 225,-36\"/>\r\n",
       "<text text-anchor=\"middle\" x=\"198\" y=\"-14.3\" font-family=\"Times New Roman,serif\" font-size=\"14.00\">(...)</text>\r\n",
       "</g>\r\n",
       "<!-- 37&#45;&gt;38 -->\r\n",
       "<g id=\"edge6\" class=\"edge\"><title>37&#45;&gt;38</title>\r\n",
       "<path fill=\"none\" stroke=\"black\" d=\"M221.417,-71.9961C217.566,-63.2804 213.458,-53.9846 209.776,-45.6514\"/>\r\n",
       "<polygon fill=\"black\" stroke=\"black\" points=\"212.933,-44.1357 205.69,-36.4034 206.53,-46.9649 212.933,-44.1357\"/>\r\n",
       "</g>\r\n",
       "<!-- 57 -->\r\n",
       "<g id=\"node8\" class=\"node\"><title>57</title>\r\n",
       "<polygon fill=\"none\" stroke=\"black\" points=\"297,-36 243,-36 243,-0 297,-0 297,-36\"/>\r\n",
       "<text text-anchor=\"middle\" x=\"270\" y=\"-14.3\" font-family=\"Times New Roman,serif\" font-size=\"14.00\">(...)</text>\r\n",
       "</g>\r\n",
       "<!-- 37&#45;&gt;57 -->\r\n",
       "<g id=\"edge7\" class=\"edge\"><title>37&#45;&gt;57</title>\r\n",
       "<path fill=\"none\" stroke=\"black\" d=\"M249.048,-71.9961C252.456,-63.3751 256.089,-54.1866 259.356,-45.9234\"/>\r\n",
       "<polygon fill=\"black\" stroke=\"black\" points=\"262.698,-46.9898 263.12,-36.4034 256.188,-44.4162 262.698,-46.9898\"/>\r\n",
       "</g>\r\n",
       "<!-- 65 -->\r\n",
       "<g id=\"node10\" class=\"node\"><title>65</title>\r\n",
       "<polygon fill=\"none\" stroke=\"black\" points=\"496,-140 332,-140 332,-72 496,-72 496,-140\"/>\r\n",
       "<text text-anchor=\"middle\" x=\"414\" y=\"-124.8\" font-family=\"Times New Roman,serif\" font-size=\"14.00\">categories_Athletic &lt;= 0.5</text>\r\n",
       "<text text-anchor=\"middle\" x=\"414\" y=\"-109.8\" font-family=\"Times New Roman,serif\" font-size=\"14.00\">mse = 668.109</text>\r\n",
       "<text text-anchor=\"middle\" x=\"414\" y=\"-94.8\" font-family=\"Times New Roman,serif\" font-size=\"14.00\">samples = 91</text>\r\n",
       "<text text-anchor=\"middle\" x=\"414\" y=\"-79.8\" font-family=\"Times New Roman,serif\" font-size=\"14.00\">value = 100.311</text>\r\n",
       "</g>\r\n",
       "<!-- 64&#45;&gt;65 -->\r\n",
       "<g id=\"edge9\" class=\"edge\"><title>64&#45;&gt;65</title>\r\n",
       "<path fill=\"none\" stroke=\"black\" d=\"M414,-175.884C414,-167.778 414,-158.982 414,-150.472\"/>\r\n",
       "<polygon fill=\"black\" stroke=\"black\" points=\"417.5,-150.299 414,-140.299 410.5,-150.299 417.5,-150.299\"/>\r\n",
       "</g>\r\n",
       "<!-- 68 -->\r\n",
       "<g id=\"node13\" class=\"node\"><title>68</title>\r\n",
       "<polygon fill=\"none\" stroke=\"black\" points=\"678,-140 514,-140 514,-72 678,-72 678,-140\"/>\r\n",
       "<text text-anchor=\"middle\" x=\"596\" y=\"-124.8\" font-family=\"Times New Roman,serif\" font-size=\"14.00\">categories_Athletic &lt;= 0.5</text>\r\n",
       "<text text-anchor=\"middle\" x=\"596\" y=\"-109.8\" font-family=\"Times New Roman,serif\" font-size=\"14.00\">mse = 851.833</text>\r\n",
       "<text text-anchor=\"middle\" x=\"596\" y=\"-94.8\" font-family=\"Times New Roman,serif\" font-size=\"14.00\">samples = 21</text>\r\n",
       "<text text-anchor=\"middle\" x=\"596\" y=\"-79.8\" font-family=\"Times New Roman,serif\" font-size=\"14.00\">value = 71.735</text>\r\n",
       "</g>\r\n",
       "<!-- 64&#45;&gt;68 -->\r\n",
       "<g id=\"edge12\" class=\"edge\"><title>64&#45;&gt;68</title>\r\n",
       "<path fill=\"none\" stroke=\"black\" d=\"M473.09,-175.884C490.662,-166.035 510.052,-155.169 528.136,-145.034\"/>\r\n",
       "<polygon fill=\"black\" stroke=\"black\" points=\"529.883,-148.067 536.895,-140.125 526.46,-141.961 529.883,-148.067\"/>\r\n",
       "</g>\r\n",
       "<!-- 66 -->\r\n",
       "<g id=\"node11\" class=\"node\"><title>66</title>\r\n",
       "<polygon fill=\"none\" stroke=\"black\" points=\"397,-36 343,-36 343,-0 397,-0 397,-36\"/>\r\n",
       "<text text-anchor=\"middle\" x=\"370\" y=\"-14.3\" font-family=\"Times New Roman,serif\" font-size=\"14.00\">(...)</text>\r\n",
       "</g>\r\n",
       "<!-- 65&#45;&gt;66 -->\r\n",
       "<g id=\"edge10\" class=\"edge\"><title>65&#45;&gt;66</title>\r\n",
       "<path fill=\"none\" stroke=\"black\" d=\"M397.114,-71.9961C392.607,-63.1856 387.796,-53.7825 383.497,-45.38\"/>\r\n",
       "<polygon fill=\"black\" stroke=\"black\" points=\"386.575,-43.7117 378.904,-36.4034 380.343,-46.9001 386.575,-43.7117\"/>\r\n",
       "</g>\r\n",
       "<!-- 67 -->\r\n",
       "<g id=\"node12\" class=\"node\"><title>67</title>\r\n",
       "<polygon fill=\"none\" stroke=\"black\" points=\"469,-36 415,-36 415,-0 469,-0 469,-36\"/>\r\n",
       "<text text-anchor=\"middle\" x=\"442\" y=\"-14.3\" font-family=\"Times New Roman,serif\" font-size=\"14.00\">(...)</text>\r\n",
       "</g>\r\n",
       "<!-- 65&#45;&gt;67 -->\r\n",
       "<g id=\"edge11\" class=\"edge\"><title>65&#45;&gt;67</title>\r\n",
       "<path fill=\"none\" stroke=\"black\" d=\"M424.745,-71.9961C427.552,-63.3751 430.544,-54.1866 433.234,-45.9234\"/>\r\n",
       "<polygon fill=\"black\" stroke=\"black\" points=\"436.566,-46.9957 436.334,-36.4034 429.91,-44.8285 436.566,-46.9957\"/>\r\n",
       "</g>\r\n",
       "<!-- 69 -->\r\n",
       "<g id=\"node14\" class=\"node\"><title>69</title>\r\n",
       "<polygon fill=\"none\" stroke=\"black\" points=\"587,-36 533,-36 533,-0 587,-0 587,-36\"/>\r\n",
       "<text text-anchor=\"middle\" x=\"560\" y=\"-14.3\" font-family=\"Times New Roman,serif\" font-size=\"14.00\">(...)</text>\r\n",
       "</g>\r\n",
       "<!-- 68&#45;&gt;69 -->\r\n",
       "<g id=\"edge13\" class=\"edge\"><title>68&#45;&gt;69</title>\r\n",
       "<path fill=\"none\" stroke=\"black\" d=\"M582.184,-71.9961C578.536,-63.2804 574.645,-53.9846 571.156,-45.6514\"/>\r\n",
       "<polygon fill=\"black\" stroke=\"black\" points=\"574.375,-44.2763 567.285,-36.4034 567.918,-46.9793 574.375,-44.2763\"/>\r\n",
       "</g>\r\n",
       "<!-- 70 -->\r\n",
       "<g id=\"node15\" class=\"node\"><title>70</title>\r\n",
       "<polygon fill=\"none\" stroke=\"black\" points=\"659,-36 605,-36 605,-0 659,-0 659,-36\"/>\r\n",
       "<text text-anchor=\"middle\" x=\"632\" y=\"-14.3\" font-family=\"Times New Roman,serif\" font-size=\"14.00\">(...)</text>\r\n",
       "</g>\r\n",
       "<!-- 68&#45;&gt;70 -->\r\n",
       "<g id=\"edge14\" class=\"edge\"><title>68&#45;&gt;70</title>\r\n",
       "<path fill=\"none\" stroke=\"black\" d=\"M609.816,-71.9961C613.464,-63.2804 617.355,-53.9846 620.844,-45.6514\"/>\r\n",
       "<polygon fill=\"black\" stroke=\"black\" points=\"624.082,-46.9793 624.715,-36.4034 617.625,-44.2763 624.082,-46.9793\"/>\r\n",
       "</g>\r\n",
       "</g>\r\n",
       "</svg>\r\n"
      ],
      "text/plain": [
       "<graphviz.files.Source at 0x1f703e1d390>"
      ]
     },
     "execution_count": 17,
     "metadata": {},
     "output_type": "execute_result"
    }
   ],
   "source": [
    "plot_tree(first_tree, X_train.columns, 2)"
   ]
  },
  {
   "cell_type": "markdown",
   "metadata": {},
   "source": [
    "Well let's take a feature that would fall in the far left hand side of the tree. Well this would be a feature that has zeros for the manufacturer_Nike and prices.isSale.\n",
    "We can see that the predicted value of the observation goes from  61.24  to  59.54  to  69.50 ."
   ]
  },
  {
   "cell_type": "code",
   "execution_count": 18,
   "metadata": {},
   "outputs": [],
   "source": [
    "first_obs = X_train.loc[0]"
   ]
  },
  {
   "cell_type": "code",
   "execution_count": 19,
   "metadata": {},
   "outputs": [
    {
     "data": {
      "text/plain": [
       "prices.isSale               0\n",
       "brand_Dansko                0\n",
       "brand_Ugg                   0\n",
       "brand_other                 1\n",
       "manufacturer_Nike           0\n",
       "manufacturerNumber_other    1\n",
       "categories_Athletic         0\n",
       "categories_Boots            0\n",
       "categories_Slippers         0\n",
       "colors_Green                0\n",
       "Name: 0, dtype: int32"
      ]
     },
     "execution_count": 19,
     "metadata": {},
     "output_type": "execute_result"
    }
   ],
   "source": [
    "first_obs"
   ]
  },
  {
   "cell_type": "code",
   "execution_count": 21,
   "metadata": {},
   "outputs": [
    {
     "data": {
      "text/html": [
       "<div>\n",
       "<style scoped>\n",
       "    .dataframe tbody tr th:only-of-type {\n",
       "        vertical-align: middle;\n",
       "    }\n",
       "\n",
       "    .dataframe tbody tr th {\n",
       "        vertical-align: top;\n",
       "    }\n",
       "\n",
       "    .dataframe thead th {\n",
       "        text-align: right;\n",
       "    }\n",
       "</style>\n",
       "<table border=\"1\" class=\"dataframe\">\n",
       "  <thead>\n",
       "    <tr style=\"text-align: right;\">\n",
       "      <th></th>\n",
       "      <th>target</th>\n",
       "      <th>feature</th>\n",
       "      <th>weight</th>\n",
       "      <th>value</th>\n",
       "    </tr>\n",
       "  </thead>\n",
       "  <tbody>\n",
       "    <tr>\n",
       "      <th>0</th>\n",
       "      <td>y</td>\n",
       "      <td>&lt;BIAS&gt;</td>\n",
       "      <td>61.243115</td>\n",
       "      <td>1.0</td>\n",
       "    </tr>\n",
       "    <tr>\n",
       "      <th>1</th>\n",
       "      <td>y</td>\n",
       "      <td>prices.isSale</td>\n",
       "      <td>9.962292</td>\n",
       "      <td>0.0</td>\n",
       "    </tr>\n",
       "    <tr>\n",
       "      <th>8</th>\n",
       "      <td>y</td>\n",
       "      <td>manufacturer_Nike</td>\n",
       "      <td>-1.697747</td>\n",
       "      <td>0.0</td>\n",
       "    </tr>\n",
       "  </tbody>\n",
       "</table>\n",
       "</div>"
      ],
      "text/plain": [
       "  target            feature     weight  value\n",
       "0      y             <BIAS>  61.243115    1.0\n",
       "1      y      prices.isSale   9.962292    0.0\n",
       "8      y  manufacturer_Nike  -1.697747    0.0"
      ]
     },
     "execution_count": 21,
     "metadata": {},
     "output_type": "execute_result"
    }
   ],
   "source": [
    "import eli5\n",
    "explained_df_first_obs = eli5.explain_prediction_df(first_tree, first_obs)\n",
    "\n",
    "selected = explained_df_first_obs.feature.isin(['prices.isSale', '<BIAS>', 'manufacturer_Nike'])\n",
    "explained_df_first_obs[selected]"
   ]
  },
  {
   "cell_type": "markdown",
   "metadata": {},
   "source": [
    "$$y = \\underset{\\text{bias}}{61.24}-\\underset{\\text{manufacturer_Nike=0}}{1.69}+\\underset{\\text{prices.isSale=0}}{9.96}$$"
   ]
  },
  {
   "cell_type": "markdown",
   "metadata": {},
   "source": [
    "### Multiple Trees"
   ]
  },
  {
   "cell_type": "code",
   "execution_count": 22,
   "metadata": {},
   "outputs": [],
   "source": [
    "prediction_expls = []\n",
    "for idx, row in X_val.iterrows():\n",
    "    prediction_expls.append(eli5.explain_prediction_df(rfr, row))"
   ]
  },
  {
   "cell_type": "code",
   "execution_count": 23,
   "metadata": {},
   "outputs": [],
   "source": [
    "train_expl_df = pd.concat(prediction_expls, keys=X_train.index, \n",
    "                         names=['observation'])"
   ]
  },
  {
   "cell_type": "code",
   "execution_count": 24,
   "metadata": {},
   "outputs": [],
   "source": [
    "train_expl_df.value = train_expl_df.value.astype('float64')"
   ]
  },
  {
   "cell_type": "code",
   "execution_count": 25,
   "metadata": {},
   "outputs": [
    {
     "data": {
      "text/html": [
       "<div>\n",
       "<style scoped>\n",
       "    .dataframe tbody tr th:only-of-type {\n",
       "        vertical-align: middle;\n",
       "    }\n",
       "\n",
       "    .dataframe tbody tr th {\n",
       "        vertical-align: top;\n",
       "    }\n",
       "\n",
       "    .dataframe thead th {\n",
       "        text-align: right;\n",
       "    }\n",
       "</style>\n",
       "<table border=\"1\" class=\"dataframe\">\n",
       "  <thead>\n",
       "    <tr style=\"text-align: right;\">\n",
       "      <th></th>\n",
       "      <th></th>\n",
       "      <th>target</th>\n",
       "      <th>feature</th>\n",
       "      <th>weight</th>\n",
       "      <th>value</th>\n",
       "    </tr>\n",
       "    <tr>\n",
       "      <th>observation</th>\n",
       "      <th></th>\n",
       "      <th></th>\n",
       "      <th></th>\n",
       "      <th></th>\n",
       "      <th></th>\n",
       "    </tr>\n",
       "  </thead>\n",
       "  <tbody>\n",
       "    <tr>\n",
       "      <th rowspan=\"5\" valign=\"top\">0</th>\n",
       "      <th>0</th>\n",
       "      <td>y</td>\n",
       "      <td>&lt;BIAS&gt;</td>\n",
       "      <td>60.225011</td>\n",
       "      <td>1.0</td>\n",
       "    </tr>\n",
       "    <tr>\n",
       "      <th>1</th>\n",
       "      <td>y</td>\n",
       "      <td>categories_Slippers</td>\n",
       "      <td>0.021916</td>\n",
       "      <td>0.0</td>\n",
       "    </tr>\n",
       "    <tr>\n",
       "      <th>2</th>\n",
       "      <td>y</td>\n",
       "      <td>manufacturerNumber_other</td>\n",
       "      <td>-0.145188</td>\n",
       "      <td>1.0</td>\n",
       "    </tr>\n",
       "    <tr>\n",
       "      <th>3</th>\n",
       "      <td>y</td>\n",
       "      <td>colors_Green</td>\n",
       "      <td>-0.187818</td>\n",
       "      <td>0.0</td>\n",
       "    </tr>\n",
       "    <tr>\n",
       "      <th>4</th>\n",
       "      <td>y</td>\n",
       "      <td>manufacturer_Nike</td>\n",
       "      <td>-0.593656</td>\n",
       "      <td>0.0</td>\n",
       "    </tr>\n",
       "  </tbody>\n",
       "</table>\n",
       "</div>"
      ],
      "text/plain": [
       "              target                   feature     weight  value\n",
       "observation                                                     \n",
       "0           0      y                    <BIAS>  60.225011    1.0\n",
       "            1      y       categories_Slippers   0.021916    0.0\n",
       "            2      y  manufacturerNumber_other  -0.145188    1.0\n",
       "            3      y              colors_Green  -0.187818    0.0\n",
       "            4      y         manufacturer_Nike  -0.593656    0.0"
      ]
     },
     "execution_count": 25,
     "metadata": {},
     "output_type": "execute_result"
    }
   ],
   "source": [
    "train_expl_df.iloc[:5]"
   ]
  },
  {
   "cell_type": "code",
   "execution_count": 26,
   "metadata": {},
   "outputs": [
    {
     "data": {
      "text/html": [
       "<div>\n",
       "<style scoped>\n",
       "    .dataframe tbody tr th:only-of-type {\n",
       "        vertical-align: middle;\n",
       "    }\n",
       "\n",
       "    .dataframe tbody tr th {\n",
       "        vertical-align: top;\n",
       "    }\n",
       "\n",
       "    .dataframe thead th {\n",
       "        text-align: right;\n",
       "    }\n",
       "</style>\n",
       "<table border=\"1\" class=\"dataframe\">\n",
       "  <thead>\n",
       "    <tr style=\"text-align: right;\">\n",
       "      <th>feature</th>\n",
       "      <th>&lt;BIAS&gt;</th>\n",
       "      <th>brand_Dansko</th>\n",
       "      <th>brand_Ugg</th>\n",
       "      <th>brand_other</th>\n",
       "      <th>categories_Athletic</th>\n",
       "      <th>categories_Boots</th>\n",
       "      <th>categories_Slippers</th>\n",
       "      <th>colors_Green</th>\n",
       "      <th>manufacturerNumber_other</th>\n",
       "      <th>manufacturer_Nike</th>\n",
       "      <th>prices.isSale</th>\n",
       "    </tr>\n",
       "    <tr>\n",
       "      <th>observation</th>\n",
       "      <th></th>\n",
       "      <th></th>\n",
       "      <th></th>\n",
       "      <th></th>\n",
       "      <th></th>\n",
       "      <th></th>\n",
       "      <th></th>\n",
       "      <th></th>\n",
       "      <th></th>\n",
       "      <th></th>\n",
       "      <th></th>\n",
       "    </tr>\n",
       "  </thead>\n",
       "  <tbody>\n",
       "    <tr>\n",
       "      <th>0</th>\n",
       "      <td>60.225011</td>\n",
       "      <td>-0.766384</td>\n",
       "      <td>-0.696109</td>\n",
       "      <td>-5.696454</td>\n",
       "      <td>-0.730767</td>\n",
       "      <td>-1.236298</td>\n",
       "      <td>0.021916</td>\n",
       "      <td>-0.187818</td>\n",
       "      <td>-0.145188</td>\n",
       "      <td>-0.593656</td>\n",
       "      <td>-18.776502</td>\n",
       "    </tr>\n",
       "    <tr>\n",
       "      <th>1</th>\n",
       "      <td>60.225011</td>\n",
       "      <td>-3.498034</td>\n",
       "      <td>-1.107352</td>\n",
       "      <td>4.223169</td>\n",
       "      <td>-2.619031</td>\n",
       "      <td>0.313321</td>\n",
       "      <td>1.563740</td>\n",
       "      <td>-0.111278</td>\n",
       "      <td>2.798284</td>\n",
       "      <td>-2.155258</td>\n",
       "      <td>9.444263</td>\n",
       "    </tr>\n",
       "    <tr>\n",
       "      <th>2</th>\n",
       "      <td>60.225011</td>\n",
       "      <td>-1.687035</td>\n",
       "      <td>-0.517235</td>\n",
       "      <td>-3.798503</td>\n",
       "      <td>-0.633128</td>\n",
       "      <td>-1.080214</td>\n",
       "      <td>1.717902</td>\n",
       "      <td>-0.512301</td>\n",
       "      <td>0.281079</td>\n",
       "      <td>-1.065259</td>\n",
       "      <td>12.072964</td>\n",
       "    </tr>\n",
       "    <tr>\n",
       "      <th>3</th>\n",
       "      <td>60.225011</td>\n",
       "      <td>-3.498034</td>\n",
       "      <td>-1.107352</td>\n",
       "      <td>4.223169</td>\n",
       "      <td>-2.619031</td>\n",
       "      <td>0.313321</td>\n",
       "      <td>1.563740</td>\n",
       "      <td>-0.111278</td>\n",
       "      <td>2.798284</td>\n",
       "      <td>-2.155258</td>\n",
       "      <td>9.444263</td>\n",
       "    </tr>\n",
       "    <tr>\n",
       "      <th>4</th>\n",
       "      <td>60.225011</td>\n",
       "      <td>-3.498034</td>\n",
       "      <td>-1.107352</td>\n",
       "      <td>4.223169</td>\n",
       "      <td>-2.619031</td>\n",
       "      <td>0.313321</td>\n",
       "      <td>1.563740</td>\n",
       "      <td>-0.111278</td>\n",
       "      <td>2.798284</td>\n",
       "      <td>-2.155258</td>\n",
       "      <td>9.444263</td>\n",
       "    </tr>\n",
       "  </tbody>\n",
       "</table>\n",
       "</div>"
      ],
      "text/plain": [
       "feature         <BIAS>  brand_Dansko  brand_Ugg  brand_other  \\\n",
       "observation                                                    \n",
       "0            60.225011     -0.766384  -0.696109    -5.696454   \n",
       "1            60.225011     -3.498034  -1.107352     4.223169   \n",
       "2            60.225011     -1.687035  -0.517235    -3.798503   \n",
       "3            60.225011     -3.498034  -1.107352     4.223169   \n",
       "4            60.225011     -3.498034  -1.107352     4.223169   \n",
       "\n",
       "feature      categories_Athletic  categories_Boots  categories_Slippers  \\\n",
       "observation                                                               \n",
       "0                      -0.730767         -1.236298             0.021916   \n",
       "1                      -2.619031          0.313321             1.563740   \n",
       "2                      -0.633128         -1.080214             1.717902   \n",
       "3                      -2.619031          0.313321             1.563740   \n",
       "4                      -2.619031          0.313321             1.563740   \n",
       "\n",
       "feature      colors_Green  manufacturerNumber_other  manufacturer_Nike  \\\n",
       "observation                                                              \n",
       "0               -0.187818                 -0.145188          -0.593656   \n",
       "1               -0.111278                  2.798284          -2.155258   \n",
       "2               -0.512301                  0.281079          -1.065259   \n",
       "3               -0.111278                  2.798284          -2.155258   \n",
       "4               -0.111278                  2.798284          -2.155258   \n",
       "\n",
       "feature      prices.isSale  \n",
       "observation                 \n",
       "0               -18.776502  \n",
       "1                 9.444263  \n",
       "2                12.072964  \n",
       "3                 9.444263  \n",
       "4                 9.444263  "
      ]
     },
     "execution_count": 26,
     "metadata": {},
     "output_type": "execute_result"
    }
   ],
   "source": [
    "train_unstacked_df = (train_expl_df.groupby(['observation','feature'])\n",
    "                               .weight\n",
    "                               .aggregate('first')\n",
    "                               .unstack())\n",
    "train_unstacked_df.head()"
   ]
  },
  {
   "cell_type": "code",
   "execution_count": 27,
   "metadata": {},
   "outputs": [
    {
     "data": {
      "text/html": [
       "<div>\n",
       "<style scoped>\n",
       "    .dataframe tbody tr th:only-of-type {\n",
       "        vertical-align: middle;\n",
       "    }\n",
       "\n",
       "    .dataframe tbody tr th {\n",
       "        vertical-align: top;\n",
       "    }\n",
       "\n",
       "    .dataframe thead th {\n",
       "        text-align: right;\n",
       "    }\n",
       "</style>\n",
       "<table border=\"1\" class=\"dataframe\">\n",
       "  <thead>\n",
       "    <tr style=\"text-align: right;\">\n",
       "      <th>feature</th>\n",
       "      <th>&lt;BIAS&gt;</th>\n",
       "      <th>brand_Dansko</th>\n",
       "      <th>brand_Ugg</th>\n",
       "      <th>brand_other</th>\n",
       "      <th>categories_Athletic</th>\n",
       "      <th>categories_Boots</th>\n",
       "      <th>categories_Slippers</th>\n",
       "      <th>colors_Green</th>\n",
       "      <th>manufacturerNumber_other</th>\n",
       "      <th>manufacturer_Nike</th>\n",
       "      <th>prices.isSale</th>\n",
       "    </tr>\n",
       "  </thead>\n",
       "  <tbody>\n",
       "    <tr>\n",
       "      <th>mean</th>\n",
       "      <td>6.022501e+01</td>\n",
       "      <td>0.167088</td>\n",
       "      <td>-0.397972</td>\n",
       "      <td>0.090584</td>\n",
       "      <td>-0.226172</td>\n",
       "      <td>0.259483</td>\n",
       "      <td>-0.112532</td>\n",
       "      <td>-0.019535</td>\n",
       "      <td>0.118826</td>\n",
       "      <td>-0.368467</td>\n",
       "      <td>0.003189</td>\n",
       "    </tr>\n",
       "    <tr>\n",
       "      <th>std</th>\n",
       "      <td>3.412597e-13</td>\n",
       "      <td>12.010477</td>\n",
       "      <td>7.165236</td>\n",
       "      <td>5.501830</td>\n",
       "      <td>3.667154</td>\n",
       "      <td>4.501079</td>\n",
       "      <td>5.848389</td>\n",
       "      <td>1.774690</td>\n",
       "      <td>2.666409</td>\n",
       "      <td>5.443699</td>\n",
       "      <td>13.055235</td>\n",
       "    </tr>\n",
       "  </tbody>\n",
       "</table>\n",
       "</div>"
      ],
      "text/plain": [
       "feature        <BIAS>  brand_Dansko  brand_Ugg  brand_other  \\\n",
       "mean     6.022501e+01      0.167088  -0.397972     0.090584   \n",
       "std      3.412597e-13     12.010477   7.165236     5.501830   \n",
       "\n",
       "feature  categories_Athletic  categories_Boots  categories_Slippers  \\\n",
       "mean               -0.226172          0.259483            -0.112532   \n",
       "std                 3.667154          4.501079             5.848389   \n",
       "\n",
       "feature  colors_Green  manufacturerNumber_other  manufacturer_Nike  \\\n",
       "mean        -0.019535                  0.118826          -0.368467   \n",
       "std          1.774690                  2.666409           5.443699   \n",
       "\n",
       "feature  prices.isSale  \n",
       "mean          0.003189  \n",
       "std          13.055235  "
      ]
     },
     "execution_count": 27,
     "metadata": {},
     "output_type": "execute_result"
    }
   ],
   "source": [
    "train_unstacked_df.describe()[train_unstacked_df.describe().index.isin(['mean', 'std'])]"
   ]
  },
  {
   "cell_type": "markdown",
   "metadata": {},
   "source": [
    "#### Plotting"
   ]
  },
  {
   "cell_type": "code",
   "execution_count": 28,
   "metadata": {},
   "outputs": [
    {
     "data": {
      "image/png": "[encoded data removed]",
      "text/plain": [
       "<Figure size 864x288 with 3 Axes>"
      ]
     },
     "metadata": {
      "needs_background": "light"
     },
     "output_type": "display_data"
    }
   ],
   "source": [
    "import seaborn as sns\n",
    "fg = sns.lmplot(x='value', y='weight', col='feature',\n",
    "                data=train_expl_df.loc[train_expl_df.feature.isin(['prices.isSale', 'brand_Dansko', 'categories_Boots'])], \n",
    "                col_order=['prices.isSale', 'brand_Dansko', 'categories_Boots'], sharex=False, sharey=False, col_wrap=3, fit_reg=False, \n",
    "                height=4, scatter_kws={'color':'salmon', 'alpha': 0.5, 's':30})\n",
    "\n",
    "\n",
    "fg.fig.suptitle('Feature Contributions vs Feature Values (testing data)')\n",
    "fg.fig.subplots_adjust(top=0.90);"
   ]
  },
  {
   "cell_type": "markdown",
   "metadata": {},
   "source": [
    "* In isSale feature, it's very clear that the data under 1 have a much lower weight on the price.\n",
    "* In brand_Dansko feature, if the shoe is Dansko its price will be around 60 weight higher than shoes of other brands.\n",
    "* In categories_Boots feature, the data of other than boots locate closely. On the other side, prices of boots vary hugly and place sparsely."
   ]
  }
 ],
 "metadata": {
  "kernelspec": {
   "display_name": "Python 3",
   "language": "python",
   "name": "python3"
  },
  "language_info": {
   "codemirror_mode": {
    "name": "ipython",
    "version": 3
   },
   "file_extension": ".py",
   "mimetype": "text/x-python",
   "name": "python",
   "nbconvert_exporter": "python",
   "pygments_lexer": "ipython3",
   "version": "3.7.3"
  }
 },
 "nbformat": 4,
 "nbformat_minor": 2
}
